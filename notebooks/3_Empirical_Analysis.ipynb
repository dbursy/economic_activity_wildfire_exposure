{
 "cells": [
  {
   "cell_type": "markdown",
   "metadata": {},
   "source": [
    "# Master Thesis: Wildfire Analysis Modelling\n",
    "\n",
    "Author:\n",
    "[Dominik Bursy](mailto:dominik.bursy@icloud.com)\n",
    " \n",
    "Last Update: October 2022\n",
    " \n",
    "---\n",
    " \n",
    "The objective of this notebook is to run the empirical analysis.\n",
    "\n",
    "---\n",
    " \n",
    "## Table of Contents\n",
    "\n",
    "- [Import Packages](#packages)\n",
    "- [Set Color Scheme](#authentication)\n",
    "- [Import & Prepare Data](#authentication)\n",
    "- [1. Regression: Wildfire by Location Characteristics](#regression1)\n",
    "- [2. Regression: Light Intensity, Elevation, Precipitation, Heat](#regression2)\n",
    "- [3. Regression: Wildfire x Determinants](#regression3)\n",
    "- [4. Regressions: Light x Wildfire Lags ](#regression4)\n",
    "- [5. Regressions: Light x Wildfire Interaction Lags](#regression5)\n",
    "- [6. Regressions: Change in Land Use](#regression6)\n",
    "- [7. Regressions: Robustness IV](#regression7)\n",
    "\n",
    "---"
   ]
  },
  {
   "cell_type": "markdown",
   "metadata": {},
   "source": [
    "## Import Packages"
   ]
  },
  {
   "cell_type": "code",
   "execution_count": 108,
   "metadata": {},
   "outputs": [],
   "source": [
    "import pandas as pd\n",
    "import numpy as np\n",
    "\n",
    "import matplotlib.pyplot as plt\n",
    "import seaborn as sns\n",
    "\n",
    "import geopandas as gpd\n",
    "import time\n",
    "\n",
    "import statsmodels.api as sm\n",
    "from linearmodels import PanelOLS, PooledOLS, RandomEffects\n",
    "\n",
    "import os\n",
    "import warnings\n",
    "warnings.simplefilter(action='ignore')\n",
    "\n",
    "pd.set_option('display.max_columns', None)"
   ]
  },
  {
   "cell_type": "markdown",
   "metadata": {},
   "source": [
    "## Set Color Scheme"
   ]
  },
  {
   "cell_type": "code",
   "execution_count": 2,
   "metadata": {},
   "outputs": [],
   "source": [
    "sns.set_theme()\n",
    "# https://towardsdatascience.com/how-to-use-your-own-color-palettes-with-seaborn-a45bf5175146\n",
    "\n",
    "custom_params = {\"axes.spines.right\": False, \"axes.spines.top\": False}\n",
    "#sns.set_theme(style=\"ticks\", rc=custom_params, palette=\"Paired\")\n",
    "sns.set_theme(style=\"ticks\", rc=custom_params)\n",
    "\n",
    "# Create an array with the colors you want to use\n",
    "colors = sns.color_palette(\"viridis\", n_colors=2)\n",
    "# colors = [\"#3852A3\", \"#000000\"]\n",
    "\n",
    "# Set your custom color palette\n",
    "sns.set_palette(sns.color_palette(colors))"
   ]
  },
  {
   "cell_type": "markdown",
   "metadata": {},
   "source": [
    "## Import & Prepare Data"
   ]
  },
  {
   "cell_type": "code",
   "execution_count": 3,
   "metadata": {},
   "outputs": [],
   "source": [
    "start_year = 2003\n",
    "end_year   = 2008"
   ]
  },
  {
   "cell_type": "code",
   "execution_count": 4,
   "metadata": {},
   "outputs": [],
   "source": [
    "## Import Data\n",
    "\n",
    "raw_df = pd.read_pickle(\n",
    "    os.path.join(os.path.dirname(\"__file__\"), '..', 'data', 'final_gdf_025.zip')\n",
    ")\n",
    "#raw_df = raw_df.drop(columns=['geometry'])"
   ]
  },
  {
   "cell_type": "code",
   "execution_count": 5,
   "metadata": {},
   "outputs": [],
   "source": [
    "## Subset Data Frame to Grids with Urban Extents\n",
    "\n",
    "condition = (raw_df['grump_urban_indicator'] > 0)\n",
    "\n",
    "# Alternatively Use Urban Settlement Definition\n",
    "#condition = (raw_df['city_indicator'] > 0) & (raw_df['grump_urban_indicator'] > 0)\n",
    "\n",
    "raw_df = raw_df[condition]\n",
    "\n",
    "#print('Raw DataFrame Shape: ', raw_df.shape)\n",
    "#print('Raw DataFrame Columns: ', raw_df.columns)"
   ]
  },
  {
   "cell_type": "markdown",
   "metadata": {},
   "source": [
    "---"
   ]
  },
  {
   "cell_type": "code",
   "execution_count": 6,
   "metadata": {},
   "outputs": [],
   "source": [
    "## Add Light 1992 as a regular variable\n",
    "raw_df['ln_light1992'] = np.log(raw_df['light_1992']+1)\n",
    "raw_df['light1992'] = raw_df['light_1992']\n",
    "raw_df['ln_light2008'] = np.log(raw_df['light_2008']+1)\n",
    "raw_df['light2012'] = raw_df['light_2012']\n",
    "raw_df['ln_light2012'] = np.log(raw_df['light_2012']+1)"
   ]
  },
  {
   "cell_type": "markdown",
   "metadata": {},
   "source": [
    "---"
   ]
  },
  {
   "cell_type": "markdown",
   "metadata": {},
   "source": [
    "### Reshape Data Frame Wide Long"
   ]
  },
  {
   "cell_type": "code",
   "execution_count": 7,
   "metadata": {},
   "outputs": [],
   "source": [
    "raw_df = raw_df.reset_index().rename(columns={'index':'grid_cell'})"
   ]
  },
  {
   "cell_type": "code",
   "execution_count": 8,
   "metadata": {},
   "outputs": [],
   "source": [
    "## List Yearly Feature and Reshape Data Frame\n",
    "yearly_features = ['burned_area_', 'count_', 'count_burned_area_', 'emissions_', 'precip_', \n",
    "                   'avg_temp_', 'duration_', 'light_',\n",
    "                   'ocean_', 'urban_', 'cropland_', 'pasture_', 'forest_', \n",
    "                   'grass_shrubland_', 'sparse_', 'water_', 'no_data_']\n",
    "raw_df_long = pd.wide_to_long(raw_df, yearly_features, i='grid_cell', j='grid_year')\n",
    "\n",
    "## Rename Features\n",
    "yearly_features_new = ['burned_area', 'count', 'count_burned_area', 'emissions', 'precip', \n",
    "                       'avg_temp', 'duration', 'light',\n",
    "                       'ocean', 'urban', 'cropland', 'pasture', 'forest', \n",
    "                       'grass_shrubland', 'sparse', 'water', 'no_data']\n",
    "raw_df_long = raw_df_long.rename(columns=dict(zip(yearly_features,yearly_features_new)))\n",
    "\n",
    "## Create Year Variable\n",
    "raw_df_long['year'] = raw_df_long.index.get_level_values('grid_year')"
   ]
  },
  {
   "cell_type": "code",
   "execution_count": 9,
   "metadata": {},
   "outputs": [],
   "source": [
    "## Log Light & Create Lags\n",
    "raw_df_long['ln_light'] = np.log(raw_df_long['light']+1)\n",
    "\n",
    "raw_df_long['ln_light_lag1'] = raw_df_long['ln_light'].shift(1)\n",
    "raw_df_long['ln_light_lag2'] = raw_df_long['ln_light'].shift(2)\n",
    "\n",
    "raw_df_long['other_land'] = raw_df_long[['sparse', 'water', 'no_data']].sum(axis=1)"
   ]
  },
  {
   "cell_type": "code",
   "execution_count": 10,
   "metadata": {},
   "outputs": [],
   "source": [
    "## Define Feature Lists to Show Origin\n",
    "\n",
    "main_features = ['burned_area', 'count', 'count_burned_area', 'emissions', 'ln_light', 'light',\n",
    "                 'light1992', 'ln_light1992', 'ln_light2008', \n",
    "                 'light2012', 'ln_light2012', 'ln_light_lag1', 'ln_light_lag2', \n",
    "                 'avg_temp', 'duration', 'elevation', 'elevation_min', 'elevation_max', \n",
    "                 'elevation_distance', 'precip', 'year', 'grid_cell_area', 'geometry']\n",
    "\n",
    "landuse_features = ['urban', 'cropland', 'pasture', 'forest', 'grass_shrubland', 'other_land', 'ocean', 'water']\n",
    "\n",
    "grump_urban_features = ['grump_urban_indicator', 'grump_URBID', 'grump_NAME', 'grump_Continent',\n",
    "                        'grump_Countryeng', 'ES90POP', 'ES95POP', 'ES00POP']\n",
    "\n",
    "##################################################\n",
    "\n",
    "settlement_urban_features = ['city_indicator', 'Latlongid', 'Urborrur', 'Type', 'Name1', 'Admnm1', 'Country']\n",
    "\n",
    "heat_urban_features = ['ID_HDC_G0', 'UC_NM_MN', 'CTR_MN_NM', 'region', 'sub-region', 'GCPNT_LAT', 'GCPNT_LON']\n",
    "\n",
    "##################################################"
   ]
  },
  {
   "cell_type": "markdown",
   "metadata": {},
   "source": [
    "---"
   ]
  },
  {
   "cell_type": "markdown",
   "metadata": {
    "tags": []
   },
   "source": [
    "### Subset Year"
   ]
  },
  {
   "cell_type": "code",
   "execution_count": 11,
   "metadata": {},
   "outputs": [],
   "source": [
    "raw_df_subset = raw_df_long[main_features + landuse_features + grump_urban_features]"
   ]
  },
  {
   "cell_type": "code",
   "execution_count": 12,
   "metadata": {},
   "outputs": [],
   "source": [
    "condition = (raw_df_subset['year'] >= start_year) & (raw_df_subset['year'] <= end_year+1)\n",
    "raw_df_subset = raw_df_subset[condition]\n",
    "\n",
    "condition1 = raw_df_subset['year'] != 2009\n",
    "condition2 = raw_df_subset['year'] != 2003\n",
    "landuse_features_change = ['urban_change', 'cropland_change', 'pasture_change', 'forest_change', \n",
    "                           'grass_shrubland_change', 'other_land_change', 'ocean_change', 'water_change']\n",
    "\n",
    "raw_df_subset.loc[condition1, landuse_features_change] = raw_df_subset.loc[condition2, landuse_features].values - raw_df_subset.loc[condition1, landuse_features].values"
   ]
  },
  {
   "cell_type": "code",
   "execution_count": 13,
   "metadata": {},
   "outputs": [],
   "source": [
    "condition = (raw_df_subset['year'] >= start_year) & (raw_df_subset['year'] <= end_year)\n",
    "raw_df_subset = raw_df_subset[condition]"
   ]
  },
  {
   "cell_type": "markdown",
   "metadata": {},
   "source": [
    "---"
   ]
  },
  {
   "cell_type": "markdown",
   "metadata": {},
   "source": [
    "### Data Processing: Indicators, etc."
   ]
  },
  {
   "cell_type": "code",
   "execution_count": 14,
   "metadata": {},
   "outputs": [],
   "source": [
    "# raw_df_subset[landuse_features].describe()\n",
    "\n",
    "raw_df_subset.sort_index(inplace=True)\n",
    "raw_df_subset['cell'] = raw_df_subset.index.get_level_values(0)\n",
    "raw_df_subset['year'] = raw_df_subset.index.get_level_values(1)\n",
    "\n",
    "condition = (raw_df_subset['ocean'] != 1) & (raw_df_subset['urban'] > 0)\n",
    "raw_df_subset = raw_df_subset[condition]\n",
    "\n",
    "#raw_df_subset.loc[raw_df_subset['elevation'] < 0, 'elevation'] = 0"
   ]
  },
  {
   "cell_type": "markdown",
   "metadata": {},
   "source": [
    "## Inspect Elevation"
   ]
  },
  {
   "cell_type": "code",
   "execution_count": 15,
   "metadata": {},
   "outputs": [],
   "source": [
    "#GlobFire_grid = pd.read_pickle('8_GlobFireV2/GlobFire_2004.pkl')\n",
    "#len(GlobFire_grid) / 1000000"
   ]
  },
  {
   "cell_type": "code",
   "execution_count": 16,
   "metadata": {},
   "outputs": [],
   "source": [
    "raw_df_subset['elevation_range'] = raw_df_subset['elevation_max'] - raw_df_subset['elevation_min']"
   ]
  },
  {
   "cell_type": "code",
   "execution_count": 17,
   "metadata": {},
   "outputs": [],
   "source": [
    "#group_df = raw_df_subset.groupby(['grump_URBgrump_URBIDID']).sum() \n",
    "\n",
    "#group_df = raw_df_subset.groupby(['grump_Countryeng']).sum() \n",
    "#condition = group_df['count'] != 0\n",
    "#group_df[condition]\n",
    "\n",
    "# 42844: 34595\n",
    "# Burned Area: 34,595 / 191\n",
    "# Count: 26,782 / 169"
   ]
  },
  {
   "cell_type": "markdown",
   "metadata": {},
   "source": [
    "---"
   ]
  },
  {
   "cell_type": "code",
   "execution_count": 18,
   "metadata": {},
   "outputs": [
    {
     "data": {
      "text/plain": [
       "0.05     0.0\n",
       "0.10     0.0\n",
       "0.15     0.0\n",
       "0.20     1.0\n",
       "0.25     1.0\n",
       "0.30     1.0\n",
       "0.35     1.0\n",
       "0.40     2.0\n",
       "0.45     2.0\n",
       "0.50     3.0\n",
       "0.55     3.0\n",
       "0.60     4.0\n",
       "0.65     4.0\n",
       "0.70     5.0\n",
       "0.75     6.0\n",
       "0.80     7.0\n",
       "0.85     9.0\n",
       "0.90    12.0\n",
       "0.95    19.0\n",
       "Name: light, dtype: float64"
      ]
     },
     "metadata": {},
     "output_type": "display_data"
    },
    {
     "data": {
      "text/plain": [
       "0.0010386710204293606"
      ]
     },
     "execution_count": 18,
     "metadata": {},
     "output_type": "execute_result"
    }
   ],
   "source": [
    "display(np.round(raw_df_subset['light'].quantile(np.linspace(.05, 1, 19, 0), 'lower')))\n",
    "\n",
    "#inverse of quantile\n",
    "#from scipy import stats\n",
    "#round(stats.percentileofscore(raw_df_subset['precip'], 20))\n",
    "#display(raw_df_subset['light'].describe())\n",
    "(raw_df_subset['light'] >= 60).sum() / (raw_df_subset['light'] >= 0).sum()"
   ]
  },
  {
   "cell_type": "code",
   "execution_count": 19,
   "metadata": {},
   "outputs": [
    {
     "data": {
      "text/plain": [
       "array([ 0.,  1.,  3.,  4.,  5., 11.,  9.,  6.,  7., 19., 17., 12., 21.,\n",
       "       22.,  8.,  2., 31., 36., 34., 29., 39., 14., 20., 15., 16., 10.,\n",
       "       13., 27., 28., 25., 32., 30., 18., 23., 26., 35., 37., 40., 24.,\n",
       "       33., 44., 48., 45., 52., 38., 42., 41., 53., 43., 54., 49., 47.,\n",
       "       46., 55., 57., 61., 60., 59., 51., 50., 56., 58., 63., 62.])"
      ]
     },
     "execution_count": 19,
     "metadata": {},
     "output_type": "execute_result"
    }
   ],
   "source": [
    "raw_df_subset['light'].unique()"
   ]
  },
  {
   "cell_type": "markdown",
   "metadata": {},
   "source": [
    "## 1. Regression: Wildfire by Location Characteristics\n",
    "\n",
    "- Bring everything to the city level!\n",
    "- Standardize landuse variables\n",
    "- Method: Group and transform on the city level and average over years. Variation on the grid level\n",
    "\n",
    "Alternative: Mix Grid with City Level"
   ]
  },
  {
   "cell_type": "markdown",
   "metadata": {
    "tags": []
   },
   "source": [
    "### Preparation"
   ]
  },
  {
   "cell_type": "code",
   "execution_count": 20,
   "metadata": {},
   "outputs": [],
   "source": [
    "raw_df_subset.sort_index(inplace=True)\n",
    "raw_df_subset['cell'] = raw_df_subset.index.get_level_values(0)\n",
    "raw_df_subset['year'] = raw_df_subset.index.get_level_values(1)"
   ]
  },
  {
   "cell_type": "code",
   "execution_count": 21,
   "metadata": {},
   "outputs": [
    {
     "data": {
      "text/plain": [
       "count    308086.000000\n",
       "mean          0.026312\n",
       "std           0.077428\n",
       "min           0.000000\n",
       "25%           0.000653\n",
       "50%           0.003324\n",
       "75%           0.014325\n",
       "max           0.831497\n",
       "Name: burned_intensity, dtype: float64"
      ]
     },
     "execution_count": 21,
     "metadata": {},
     "output_type": "execute_result"
    }
   ],
   "source": [
    "## Take the maximum over all grid cells\n",
    "raw_df_subset['burned_area_city'] = raw_df_subset.groupby(['grump_URBID', 'grid_year'])['burned_area'].transform('max')\n",
    "## Average over all years\n",
    "raw_df_subset['burned_intensity'] = raw_df_subset.groupby(['grid_cell']).burned_area_city.transform('mean')\n",
    "raw_df_subset['burned_intensity'] /= 100\n",
    "\n",
    "raw_df_subset['burned_intensity'].describe()"
   ]
  },
  {
   "cell_type": "code",
   "execution_count": 22,
   "metadata": {},
   "outputs": [
    {
     "data": {
      "text/plain": [
       "count    308086.000000\n",
       "mean          0.033563\n",
       "std           0.083353\n",
       "min           0.000000\n",
       "25%           0.000000\n",
       "50%           0.002708\n",
       "75%           0.018953\n",
       "max           1.000000\n",
       "Name: frequency, dtype: float64"
      ]
     },
     "execution_count": 22,
     "metadata": {},
     "output_type": "execute_result"
    }
   ],
   "source": [
    "raw_df_subset.loc[raw_df_subset['count'].isna(), 'count'] = 0\n",
    "\n",
    "raw_df_subset['count_city'] = raw_df_subset.groupby(['grump_URBID', 'grid_year'])['count'].transform('max')\n",
    "raw_df_subset['frequency'] = raw_df_subset.groupby(['grid_cell']).count_city.transform('mean')\n",
    "raw_df_subset['frequency'] /= raw_df_subset['frequency'].max()\n",
    "\n",
    "raw_df_subset['frequency'].describe()"
   ]
  },
  {
   "cell_type": "code",
   "execution_count": 23,
   "metadata": {},
   "outputs": [],
   "source": [
    "#raw_df_subset[landuse_features] *= 100"
   ]
  },
  {
   "cell_type": "markdown",
   "metadata": {},
   "source": [
    "---"
   ]
  },
  {
   "cell_type": "code",
   "execution_count": 24,
   "metadata": {},
   "outputs": [],
   "source": [
    "features = ['urban', 'cropland', 'pasture', 'forest', 'grass_shrubland',\n",
    "            'grid_cell_area'] \n",
    "\n",
    "for feature in features:\n",
    "    raw_df_subset[feature+'_avg'] = raw_df_subset.groupby(['grid_cell'])[feature].transform('mean')"
   ]
  },
  {
   "cell_type": "code",
   "execution_count": 25,
   "metadata": {},
   "outputs": [],
   "source": [
    "features = ['elevation', 'elevation_min', 'elevation_max',\n",
    "            'urban', 'cropland', 'pasture', 'forest', 'grass_shrubland', 'ocean', 'water',\n",
    "            'grid_cell_area'] \n",
    "\n",
    "for feature in features:\n",
    "    raw_df_subset[feature+'_city'] = raw_df_subset.groupby(['grump_URBID', 'grid_year'])[feature].transform('mean')\n",
    "\n",
    "raw_df_subset['elevation_range_city'] = raw_df_subset['elevation_max_city'] - raw_df_subset['elevation_min_city']"
   ]
  },
  {
   "cell_type": "markdown",
   "metadata": {},
   "source": [
    "---"
   ]
  },
  {
   "cell_type": "markdown",
   "metadata": {},
   "source": [
    "### Regression: Elevation Short"
   ]
  },
  {
   "cell_type": "code",
   "execution_count": 26,
   "metadata": {},
   "outputs": [],
   "source": [
    "## Elevation Bins\n",
    "\n",
    "raw_df_subset.loc[raw_df_subset['elevation_city'] < 10, 'elevation_10'] = 1\n",
    "raw_df_subset.loc[raw_df_subset['elevation_city'] >= 10, 'elevation_10'] = 0"
   ]
  },
  {
   "cell_type": "code",
   "execution_count": 27,
   "metadata": {},
   "outputs": [],
   "source": [
    "raw_df_subset['elevation_10_range'] = raw_df_subset['elevation_10'] * raw_df_subset['elevation_range_city']"
   ]
  },
  {
   "cell_type": "code",
   "execution_count": 28,
   "metadata": {},
   "outputs": [
    {
     "data": {
      "text/html": [
       "<div>\n",
       "<style scoped>\n",
       "    .dataframe tbody tr th:only-of-type {\n",
       "        vertical-align: middle;\n",
       "    }\n",
       "\n",
       "    .dataframe tbody tr th {\n",
       "        vertical-align: top;\n",
       "    }\n",
       "\n",
       "    .dataframe thead th {\n",
       "        text-align: right;\n",
       "    }\n",
       "</style>\n",
       "<table border=\"1\" class=\"dataframe\">\n",
       "  <thead>\n",
       "    <tr style=\"text-align: right;\">\n",
       "      <th></th>\n",
       "      <th>Coef.</th>\n",
       "      <th>Std.Err.</th>\n",
       "      <th>z</th>\n",
       "      <th>P&gt;|z|</th>\n",
       "      <th>[0.025</th>\n",
       "      <th>0.975]</th>\n",
       "    </tr>\n",
       "  </thead>\n",
       "  <tbody>\n",
       "    <tr>\n",
       "      <th>const</th>\n",
       "      <td>0.165</td>\n",
       "      <td>0.003</td>\n",
       "      <td>51.313</td>\n",
       "      <td>0.000</td>\n",
       "      <td>0.159</td>\n",
       "      <td>0.171</td>\n",
       "    </tr>\n",
       "    <tr>\n",
       "      <th>elevation_10</th>\n",
       "      <td>-0.021</td>\n",
       "      <td>0.005</td>\n",
       "      <td>-4.318</td>\n",
       "      <td>0.000</td>\n",
       "      <td>-0.030</td>\n",
       "      <td>-0.011</td>\n",
       "    </tr>\n",
       "    <tr>\n",
       "      <th>urban_avg</th>\n",
       "      <td>0.008</td>\n",
       "      <td>0.009</td>\n",
       "      <td>0.891</td>\n",
       "      <td>0.373</td>\n",
       "      <td>-0.010</td>\n",
       "      <td>0.027</td>\n",
       "    </tr>\n",
       "    <tr>\n",
       "      <th>cropland_avg</th>\n",
       "      <td>0.004</td>\n",
       "      <td>0.005</td>\n",
       "      <td>0.802</td>\n",
       "      <td>0.422</td>\n",
       "      <td>-0.006</td>\n",
       "      <td>0.014</td>\n",
       "    </tr>\n",
       "    <tr>\n",
       "      <th>pasture_avg</th>\n",
       "      <td>0.004</td>\n",
       "      <td>0.005</td>\n",
       "      <td>0.800</td>\n",
       "      <td>0.424</td>\n",
       "      <td>-0.006</td>\n",
       "      <td>0.013</td>\n",
       "    </tr>\n",
       "    <tr>\n",
       "      <th>forest_avg</th>\n",
       "      <td>-0.002</td>\n",
       "      <td>0.005</td>\n",
       "      <td>-0.346</td>\n",
       "      <td>0.729</td>\n",
       "      <td>-0.011</td>\n",
       "      <td>0.008</td>\n",
       "    </tr>\n",
       "    <tr>\n",
       "      <th>grass_shrubland_avg</th>\n",
       "      <td>0.032</td>\n",
       "      <td>0.012</td>\n",
       "      <td>2.771</td>\n",
       "      <td>0.006</td>\n",
       "      <td>0.009</td>\n",
       "      <td>0.054</td>\n",
       "    </tr>\n",
       "    <tr>\n",
       "      <th>Albania</th>\n",
       "      <td>-0.031</td>\n",
       "      <td>0.002</td>\n",
       "      <td>-12.958</td>\n",
       "      <td>0.000</td>\n",
       "      <td>-0.036</td>\n",
       "      <td>-0.027</td>\n",
       "    </tr>\n",
       "    <tr>\n",
       "      <th>Algeria</th>\n",
       "      <td>-0.137</td>\n",
       "      <td>0.000</td>\n",
       "      <td>-302.603</td>\n",
       "      <td>0.000</td>\n",
       "      <td>-0.137</td>\n",
       "      <td>-0.136</td>\n",
       "    </tr>\n",
       "    <tr>\n",
       "      <th>Andorra</th>\n",
       "      <td>-0.170</td>\n",
       "      <td>0.002</td>\n",
       "      <td>-106.587</td>\n",
       "      <td>0.000</td>\n",
       "      <td>-0.173</td>\n",
       "      <td>-0.167</td>\n",
       "    </tr>\n",
       "    <tr>\n",
       "      <th>Angola</th>\n",
       "      <td>-0.008</td>\n",
       "      <td>0.001</td>\n",
       "      <td>-8.114</td>\n",
       "      <td>0.000</td>\n",
       "      <td>-0.010</td>\n",
       "      <td>-0.006</td>\n",
       "    </tr>\n",
       "  </tbody>\n",
       "</table>\n",
       "</div>"
      ],
      "text/plain": [
       "                     Coef.  Std.Err.        z  P>|z|  [0.025  0.975]\n",
       "const                0.165     0.003   51.313  0.000   0.159   0.171\n",
       "elevation_10        -0.021     0.005   -4.318  0.000  -0.030  -0.011\n",
       "urban_avg            0.008     0.009    0.891  0.373  -0.010   0.027\n",
       "cropland_avg         0.004     0.005    0.802  0.422  -0.006   0.014\n",
       "pasture_avg          0.004     0.005    0.800  0.424  -0.006   0.013\n",
       "forest_avg          -0.002     0.005   -0.346  0.729  -0.011   0.008\n",
       "grass_shrubland_avg  0.032     0.012    2.771  0.006   0.009   0.054\n",
       "Albania             -0.031     0.002  -12.958  0.000  -0.036  -0.027\n",
       "Algeria             -0.137     0.000 -302.603  0.000  -0.137  -0.136\n",
       "Andorra             -0.170     0.002 -106.587  0.000  -0.173  -0.167\n",
       "Angola              -0.008     0.001   -8.114  0.000  -0.010  -0.006"
      ]
     },
     "metadata": {},
     "output_type": "display_data"
    }
   ],
   "source": [
    "## Drop cells that are less than 2.5 % Urban\n",
    "\n",
    "condition = (raw_df_subset['ocean'] != 1) & (raw_df_subset['urban'] > 0)\n",
    "data_regression = raw_df_subset[condition].drop_duplicates(['cell'])\n",
    "\n",
    "# Set target \n",
    "target = ['burned_intensity'] # burned_intensity # frequency\n",
    "\n",
    "# Set features\n",
    "#features = ['elevation_range_city', 'elevation_10', 'elevation_10_range']\n",
    "features = ['elevation_10']\n",
    "landuse_features = ['urban_avg', 'cropland_avg', 'pasture_avg', \n",
    "                    'forest_avg', 'grass_shrubland_avg'] # other_land\n",
    "\n",
    "features = features + landuse_features\n",
    "\n",
    "# Include Fixed Effects\n",
    "fixed_effects = ['grump_Countryeng', 'grid_cell_area']\n",
    "\n",
    "data_regression = data_regression.dropna(subset = target + features).reset_index(drop=True)\n",
    "\n",
    "Y = data_regression[target]\n",
    "X = data_regression[features]\n",
    "X = sm.add_constant(X)\n",
    "\n",
    "dummies = pd.get_dummies(data=data_regression['grump_Countryeng'], drop_first=True).astype(int)\n",
    "X = pd.concat([X, dummies], axis=1)\n",
    "\n",
    "ols_model = sm.WLS(Y,X, weights=data_regression['grid_cell_area'].values)\n",
    "#ols_model = sm.OLS(Y,X)\n",
    "results = ols_model.fit(cov_type='cluster', cov_kwds={'groups': data_regression['grump_Countryeng']})\n",
    "#results = ols_model.fit(cov_type='HC1')\n",
    "display(round(results.summary2().tables[1][:11],3))\n",
    "#print(results.summary(),3)"
   ]
  },
  {
   "cell_type": "code",
   "execution_count": 29,
   "metadata": {},
   "outputs": [
    {
     "data": {
      "text/html": [
       "<div>\n",
       "<style scoped>\n",
       "    .dataframe tbody tr th:only-of-type {\n",
       "        vertical-align: middle;\n",
       "    }\n",
       "\n",
       "    .dataframe tbody tr th {\n",
       "        vertical-align: top;\n",
       "    }\n",
       "\n",
       "    .dataframe thead th {\n",
       "        text-align: right;\n",
       "    }\n",
       "</style>\n",
       "<table border=\"1\" class=\"dataframe\">\n",
       "  <thead>\n",
       "    <tr style=\"text-align: right;\">\n",
       "      <th></th>\n",
       "      <th>Coef.</th>\n",
       "      <th>Std.Err.</th>\n",
       "      <th>z</th>\n",
       "      <th>P&gt;|z|</th>\n",
       "      <th>[0.025</th>\n",
       "      <th>0.975]</th>\n",
       "    </tr>\n",
       "  </thead>\n",
       "  <tbody>\n",
       "    <tr>\n",
       "      <th>const</th>\n",
       "      <td>0.127</td>\n",
       "      <td>0.003</td>\n",
       "      <td>36.645</td>\n",
       "      <td>0.000</td>\n",
       "      <td>0.120</td>\n",
       "      <td>0.134</td>\n",
       "    </tr>\n",
       "    <tr>\n",
       "      <th>elevation_10</th>\n",
       "      <td>-0.013</td>\n",
       "      <td>0.007</td>\n",
       "      <td>-1.821</td>\n",
       "      <td>0.069</td>\n",
       "      <td>-0.028</td>\n",
       "      <td>0.001</td>\n",
       "    </tr>\n",
       "    <tr>\n",
       "      <th>urban_avg</th>\n",
       "      <td>0.014</td>\n",
       "      <td>0.011</td>\n",
       "      <td>1.351</td>\n",
       "      <td>0.177</td>\n",
       "      <td>-0.006</td>\n",
       "      <td>0.035</td>\n",
       "    </tr>\n",
       "    <tr>\n",
       "      <th>cropland_avg</th>\n",
       "      <td>0.024</td>\n",
       "      <td>0.006</td>\n",
       "      <td>3.868</td>\n",
       "      <td>0.000</td>\n",
       "      <td>0.012</td>\n",
       "      <td>0.036</td>\n",
       "    </tr>\n",
       "    <tr>\n",
       "      <th>pasture_avg</th>\n",
       "      <td>0.008</td>\n",
       "      <td>0.006</td>\n",
       "      <td>1.281</td>\n",
       "      <td>0.200</td>\n",
       "      <td>-0.004</td>\n",
       "      <td>0.020</td>\n",
       "    </tr>\n",
       "    <tr>\n",
       "      <th>forest_avg</th>\n",
       "      <td>0.004</td>\n",
       "      <td>0.006</td>\n",
       "      <td>0.732</td>\n",
       "      <td>0.464</td>\n",
       "      <td>-0.007</td>\n",
       "      <td>0.015</td>\n",
       "    </tr>\n",
       "    <tr>\n",
       "      <th>grass_shrubland_avg</th>\n",
       "      <td>0.025</td>\n",
       "      <td>0.012</td>\n",
       "      <td>2.035</td>\n",
       "      <td>0.042</td>\n",
       "      <td>0.001</td>\n",
       "      <td>0.048</td>\n",
       "    </tr>\n",
       "    <tr>\n",
       "      <th>Albania</th>\n",
       "      <td>0.025</td>\n",
       "      <td>0.003</td>\n",
       "      <td>8.092</td>\n",
       "      <td>0.000</td>\n",
       "      <td>0.019</td>\n",
       "      <td>0.031</td>\n",
       "    </tr>\n",
       "    <tr>\n",
       "      <th>Algeria</th>\n",
       "      <td>-0.107</td>\n",
       "      <td>0.001</td>\n",
       "      <td>-128.091</td>\n",
       "      <td>0.000</td>\n",
       "      <td>-0.108</td>\n",
       "      <td>-0.105</td>\n",
       "    </tr>\n",
       "    <tr>\n",
       "      <th>Andorra</th>\n",
       "      <td>-0.135</td>\n",
       "      <td>0.003</td>\n",
       "      <td>-39.969</td>\n",
       "      <td>0.000</td>\n",
       "      <td>-0.142</td>\n",
       "      <td>-0.129</td>\n",
       "    </tr>\n",
       "  </tbody>\n",
       "</table>\n",
       "</div>"
      ],
      "text/plain": [
       "                     Coef.  Std.Err.        z  P>|z|  [0.025  0.975]\n",
       "const                0.127     0.003   36.645  0.000   0.120   0.134\n",
       "elevation_10        -0.013     0.007   -1.821  0.069  -0.028   0.001\n",
       "urban_avg            0.014     0.011    1.351  0.177  -0.006   0.035\n",
       "cropland_avg         0.024     0.006    3.868  0.000   0.012   0.036\n",
       "pasture_avg          0.008     0.006    1.281  0.200  -0.004   0.020\n",
       "forest_avg           0.004     0.006    0.732  0.464  -0.007   0.015\n",
       "grass_shrubland_avg  0.025     0.012    2.035  0.042   0.001   0.048\n",
       "Albania              0.025     0.003    8.092  0.000   0.019   0.031\n",
       "Algeria             -0.107     0.001 -128.091  0.000  -0.108  -0.105\n",
       "Andorra             -0.135     0.003  -39.969  0.000  -0.142  -0.129"
      ]
     },
     "metadata": {},
     "output_type": "display_data"
    }
   ],
   "source": [
    "## Drop cells that are less than 2.5 % Urban\n",
    "\n",
    "data_regression = raw_df_subset.drop_duplicates(['cell'])\n",
    "\n",
    "# Set target \n",
    "target = ['frequency'] # burned_intensity # frequency\n",
    "\n",
    "# Set features\n",
    "#features = ['elevation_range_city', 'elevation_10', 'elevation_10_range']\n",
    "features = ['elevation_10']\n",
    "landuse_features = ['urban_avg', 'cropland_avg', 'pasture_avg', \n",
    "                    'forest_avg', 'grass_shrubland_avg'] # other_land\n",
    "\n",
    "features = features + landuse_features\n",
    "\n",
    "# Include Fixed Effects\n",
    "fixed_effects = ['grump_Countryeng', 'grid_cell_area']\n",
    "\n",
    "data_regression = data_regression.dropna(subset = target + features).reset_index(drop=True)\n",
    "\n",
    "Y = data_regression[target]\n",
    "X = data_regression[features]\n",
    "X = sm.add_constant(X)\n",
    "\n",
    "dummies = pd.get_dummies(data=data_regression['grump_Countryeng'], drop_first=True).astype(int)\n",
    "X = pd.concat([X, dummies], axis=1)\n",
    "\n",
    "ols_model = sm.WLS(Y,X, weights=data_regression['grid_cell_area'].values)\n",
    "#ols_model = sm.OLS(Y,X)\n",
    "results = ols_model.fit(cov_type='cluster', cov_kwds={'groups': data_regression['grump_Countryeng']})\n",
    "#results = ols_model.fit(cov_type='HC1')\n",
    "display(round(results.summary2().tables[1][:10],3))\n",
    "#print(results.summary(),3)"
   ]
  },
  {
   "cell_type": "markdown",
   "metadata": {},
   "source": [
    "### Regression: Elevation Long"
   ]
  },
  {
   "cell_type": "code",
   "execution_count": 30,
   "metadata": {},
   "outputs": [],
   "source": [
    "## Elevation Bins\n",
    "\n",
    "bin_list = [10, 250, 500, 1000, 1500]\n",
    "\n",
    "## Elevation Bins\n",
    "\n",
    "raw_df_subset.loc[raw_df_subset['elevation_city'] < 10, 'elevation_10'] = 1\n",
    "raw_df_subset.loc[raw_df_subset['elevation_city'] >= 10, 'elevation_10'] = 0\n",
    "\n",
    "for bin_index in range(len(bin_list)-1):\n",
    "    condition = (raw_df_subset['elevation_city'] >= bin_list[bin_index]) & (raw_df_subset['elevation_city'] < bin_list[bin_index+1])\n",
    "    raw_df_subset.loc[condition == True, 'elevation_'+str(bin_list[bin_index+1])] = 1\n",
    "    raw_df_subset.loc[condition == False, 'elevation_'+str(bin_list[bin_index+1])] = 0\n",
    "\n",
    "raw_df_subset.loc[raw_df_subset['elevation_city'] >= 1500, 'elevation_greater_1500'] = 1\n",
    "raw_df_subset.loc[raw_df_subset['elevation_city'] < 1500, 'elevation_greater_1500'] = 0"
   ]
  },
  {
   "cell_type": "code",
   "execution_count": 31,
   "metadata": {},
   "outputs": [],
   "source": [
    "## Interaction\n",
    "for bin_index in bin_list:\n",
    "    raw_df_subset['elevation_'+str(bin_index)+'_range'] = raw_df_subset['elevation_'+str(bin_index)] * raw_df_subset['elevation_range']\n",
    "\n",
    "raw_df_subset['elevation_greater_1500_range'] = raw_df_subset['elevation_greater_1500'] * raw_df_subset['elevation_range']"
   ]
  },
  {
   "cell_type": "code",
   "execution_count": 32,
   "metadata": {},
   "outputs": [
    {
     "data": {
      "text/html": [
       "<div>\n",
       "<style scoped>\n",
       "    .dataframe tbody tr th:only-of-type {\n",
       "        vertical-align: middle;\n",
       "    }\n",
       "\n",
       "    .dataframe tbody tr th {\n",
       "        vertical-align: top;\n",
       "    }\n",
       "\n",
       "    .dataframe thead th {\n",
       "        text-align: right;\n",
       "    }\n",
       "</style>\n",
       "<table border=\"1\" class=\"dataframe\">\n",
       "  <thead>\n",
       "    <tr style=\"text-align: right;\">\n",
       "      <th></th>\n",
       "      <th>Coef.</th>\n",
       "      <th>Std.Err.</th>\n",
       "      <th>z</th>\n",
       "      <th>P&gt;|z|</th>\n",
       "      <th>[0.025</th>\n",
       "      <th>0.975]</th>\n",
       "    </tr>\n",
       "  </thead>\n",
       "  <tbody>\n",
       "    <tr>\n",
       "      <th>const</th>\n",
       "      <td>0.132</td>\n",
       "      <td>0.008</td>\n",
       "      <td>15.739</td>\n",
       "      <td>0.000</td>\n",
       "      <td>0.116</td>\n",
       "      <td>0.149</td>\n",
       "    </tr>\n",
       "    <tr>\n",
       "      <th>elevation_250</th>\n",
       "      <td>0.014</td>\n",
       "      <td>0.003</td>\n",
       "      <td>4.014</td>\n",
       "      <td>0.000</td>\n",
       "      <td>0.007</td>\n",
       "      <td>0.021</td>\n",
       "    </tr>\n",
       "    <tr>\n",
       "      <th>elevation_500</th>\n",
       "      <td>0.049</td>\n",
       "      <td>0.011</td>\n",
       "      <td>4.573</td>\n",
       "      <td>0.000</td>\n",
       "      <td>0.028</td>\n",
       "      <td>0.070</td>\n",
       "    </tr>\n",
       "    <tr>\n",
       "      <th>elevation_1000</th>\n",
       "      <td>0.036</td>\n",
       "      <td>0.008</td>\n",
       "      <td>4.702</td>\n",
       "      <td>0.000</td>\n",
       "      <td>0.021</td>\n",
       "      <td>0.051</td>\n",
       "    </tr>\n",
       "    <tr>\n",
       "      <th>elevation_1500</th>\n",
       "      <td>0.006</td>\n",
       "      <td>0.005</td>\n",
       "      <td>1.095</td>\n",
       "      <td>0.274</td>\n",
       "      <td>-0.004</td>\n",
       "      <td>0.016</td>\n",
       "    </tr>\n",
       "    <tr>\n",
       "      <th>elevation_greater_1500</th>\n",
       "      <td>-0.002</td>\n",
       "      <td>0.006</td>\n",
       "      <td>-0.261</td>\n",
       "      <td>0.794</td>\n",
       "      <td>-0.014</td>\n",
       "      <td>0.011</td>\n",
       "    </tr>\n",
       "    <tr>\n",
       "      <th>urban_avg</th>\n",
       "      <td>0.009</td>\n",
       "      <td>0.009</td>\n",
       "      <td>1.070</td>\n",
       "      <td>0.285</td>\n",
       "      <td>-0.008</td>\n",
       "      <td>0.026</td>\n",
       "    </tr>\n",
       "    <tr>\n",
       "      <th>cropland_avg</th>\n",
       "      <td>-0.003</td>\n",
       "      <td>0.006</td>\n",
       "      <td>-0.585</td>\n",
       "      <td>0.559</td>\n",
       "      <td>-0.015</td>\n",
       "      <td>0.008</td>\n",
       "    </tr>\n",
       "    <tr>\n",
       "      <th>pasture_avg</th>\n",
       "      <td>0.004</td>\n",
       "      <td>0.006</td>\n",
       "      <td>0.597</td>\n",
       "      <td>0.550</td>\n",
       "      <td>-0.008</td>\n",
       "      <td>0.015</td>\n",
       "    </tr>\n",
       "    <tr>\n",
       "      <th>forest_avg</th>\n",
       "      <td>-0.012</td>\n",
       "      <td>0.006</td>\n",
       "      <td>-2.076</td>\n",
       "      <td>0.038</td>\n",
       "      <td>-0.022</td>\n",
       "      <td>-0.001</td>\n",
       "    </tr>\n",
       "    <tr>\n",
       "      <th>grass_shrubland_avg</th>\n",
       "      <td>0.020</td>\n",
       "      <td>0.012</td>\n",
       "      <td>1.651</td>\n",
       "      <td>0.099</td>\n",
       "      <td>-0.004</td>\n",
       "      <td>0.044</td>\n",
       "    </tr>\n",
       "    <tr>\n",
       "      <th>Albania</th>\n",
       "      <td>-0.022</td>\n",
       "      <td>0.004</td>\n",
       "      <td>-5.670</td>\n",
       "      <td>0.000</td>\n",
       "      <td>-0.030</td>\n",
       "      <td>-0.015</td>\n",
       "    </tr>\n",
       "    <tr>\n",
       "      <th>Algeria</th>\n",
       "      <td>-0.129</td>\n",
       "      <td>0.002</td>\n",
       "      <td>-59.949</td>\n",
       "      <td>0.000</td>\n",
       "      <td>-0.134</td>\n",
       "      <td>-0.125</td>\n",
       "    </tr>\n",
       "    <tr>\n",
       "      <th>Andorra</th>\n",
       "      <td>-0.132</td>\n",
       "      <td>0.009</td>\n",
       "      <td>-14.803</td>\n",
       "      <td>0.000</td>\n",
       "      <td>-0.149</td>\n",
       "      <td>-0.114</td>\n",
       "    </tr>\n",
       "    <tr>\n",
       "      <th>Angola</th>\n",
       "      <td>0.014</td>\n",
       "      <td>0.005</td>\n",
       "      <td>2.708</td>\n",
       "      <td>0.007</td>\n",
       "      <td>0.004</td>\n",
       "      <td>0.024</td>\n",
       "    </tr>\n",
       "    <tr>\n",
       "      <th>Antigua and Barbuda</th>\n",
       "      <td>-0.133</td>\n",
       "      <td>0.009</td>\n",
       "      <td>-15.288</td>\n",
       "      <td>0.000</td>\n",
       "      <td>-0.150</td>\n",
       "      <td>-0.116</td>\n",
       "    </tr>\n",
       "    <tr>\n",
       "      <th>Argentina</th>\n",
       "      <td>-0.132</td>\n",
       "      <td>0.004</td>\n",
       "      <td>-29.815</td>\n",
       "      <td>0.000</td>\n",
       "      <td>-0.141</td>\n",
       "      <td>-0.123</td>\n",
       "    </tr>\n",
       "    <tr>\n",
       "      <th>Armenia</th>\n",
       "      <td>-0.032</td>\n",
       "      <td>0.006</td>\n",
       "      <td>-5.619</td>\n",
       "      <td>0.000</td>\n",
       "      <td>-0.043</td>\n",
       "      <td>-0.021</td>\n",
       "    </tr>\n",
       "    <tr>\n",
       "      <th>Aruba</th>\n",
       "      <td>-0.133</td>\n",
       "      <td>0.009</td>\n",
       "      <td>-15.551</td>\n",
       "      <td>0.000</td>\n",
       "      <td>-0.150</td>\n",
       "      <td>-0.116</td>\n",
       "    </tr>\n",
       "  </tbody>\n",
       "</table>\n",
       "</div>"
      ],
      "text/plain": [
       "                        Coef.  Std.Err.       z  P>|z|  [0.025  0.975]\n",
       "const                   0.132     0.008  15.739  0.000   0.116   0.149\n",
       "elevation_250           0.014     0.003   4.014  0.000   0.007   0.021\n",
       "elevation_500           0.049     0.011   4.573  0.000   0.028   0.070\n",
       "elevation_1000          0.036     0.008   4.702  0.000   0.021   0.051\n",
       "elevation_1500          0.006     0.005   1.095  0.274  -0.004   0.016\n",
       "elevation_greater_1500 -0.002     0.006  -0.261  0.794  -0.014   0.011\n",
       "urban_avg               0.009     0.009   1.070  0.285  -0.008   0.026\n",
       "cropland_avg           -0.003     0.006  -0.585  0.559  -0.015   0.008\n",
       "pasture_avg             0.004     0.006   0.597  0.550  -0.008   0.015\n",
       "forest_avg             -0.012     0.006  -2.076  0.038  -0.022  -0.001\n",
       "grass_shrubland_avg     0.020     0.012   1.651  0.099  -0.004   0.044\n",
       "Albania                -0.022     0.004  -5.670  0.000  -0.030  -0.015\n",
       "Algeria                -0.129     0.002 -59.949  0.000  -0.134  -0.125\n",
       "Andorra                -0.132     0.009 -14.803  0.000  -0.149  -0.114\n",
       "Angola                  0.014     0.005   2.708  0.007   0.004   0.024\n",
       "Antigua and Barbuda    -0.133     0.009 -15.288  0.000  -0.150  -0.116\n",
       "Argentina              -0.132     0.004 -29.815  0.000  -0.141  -0.123\n",
       "Armenia                -0.032     0.006  -5.619  0.000  -0.043  -0.021\n",
       "Aruba                  -0.133     0.009 -15.551  0.000  -0.150  -0.116"
      ]
     },
     "metadata": {},
     "output_type": "display_data"
    }
   ],
   "source": [
    "## Drop cells that are less than 2.5 % Urban\n",
    "\n",
    "condition = (raw_df_subset['ocean'] != 1) & (raw_df_subset['urban'] > 0)\n",
    "data_regression = raw_df_subset[condition].drop_duplicates(['cell'])\n",
    "\n",
    "# Set target \n",
    "target = ['burned_intensity'] # burned_intensity # frequency\n",
    "\n",
    "# Set features\n",
    "bin_list = [250, 500, 1000, 1500]\n",
    "elevation_bins = [] # elevation_range\n",
    "for bin_index in bin_list:\n",
    "    elevation_bins += ['elevation_' + str(bin_index)]\n",
    "    #elevation_bins += ['elevation_' + str(bin_index) + '_range']\n",
    "elevation_bins += ['elevation_greater_1500'] #+ ['elevation_greater_1500_range']\n",
    "\n",
    "landuse_features = ['urban_avg', 'cropland_avg', 'pasture_avg', \n",
    "                    'forest_avg', 'grass_shrubland_avg'] # other_land\n",
    "\n",
    "#landuse_features = ['urban_city', 'cropland_city', 'pasture_city', \n",
    "#                    'forest_city', 'grass_shrubland_city'] # other_land\n",
    "\n",
    "features = elevation_bins + landuse_features\n",
    "\n",
    "# Include Fixed Effects\n",
    "fixed_effects = ['grump_Countryeng', 'grid_cell_area']\n",
    "\n",
    "data_regression = data_regression.dropna(subset = target + features).reset_index(drop=True)\n",
    "\n",
    "Y = data_regression[target]\n",
    "X = data_regression[features]\n",
    "X = sm.add_constant(X)\n",
    "\n",
    "dummies = pd.get_dummies(data=data_regression['grump_Countryeng'], drop_first=True).astype(int)\n",
    "X = pd.concat([X, dummies], axis=1)\n",
    "\n",
    "ols_model = sm.WLS(Y,X, weights=data_regression['grid_cell_area'].values)\n",
    "#ols_model = sm.OLS(Y,X)\n",
    "results = ols_model.fit(cov_type='cluster', cov_kwds={'groups': data_regression['grump_Countryeng']})\n",
    "#results = ols_model.fit(cov_type='HC1')\n",
    "#print(results.summary())\n",
    "display(round(results.summary2().tables[1][:19],3))\n",
    "#print(results.summary())"
   ]
  },
  {
   "cell_type": "code",
   "execution_count": 33,
   "metadata": {},
   "outputs": [
    {
     "data": {
      "text/html": [
       "<div>\n",
       "<style scoped>\n",
       "    .dataframe tbody tr th:only-of-type {\n",
       "        vertical-align: middle;\n",
       "    }\n",
       "\n",
       "    .dataframe tbody tr th {\n",
       "        vertical-align: top;\n",
       "    }\n",
       "\n",
       "    .dataframe thead th {\n",
       "        text-align: right;\n",
       "    }\n",
       "</style>\n",
       "<table border=\"1\" class=\"dataframe\">\n",
       "  <thead>\n",
       "    <tr style=\"text-align: right;\">\n",
       "      <th></th>\n",
       "      <th>Coef.</th>\n",
       "      <th>Std.Err.</th>\n",
       "      <th>z</th>\n",
       "      <th>P&gt;|z|</th>\n",
       "      <th>[0.025</th>\n",
       "      <th>0.975]</th>\n",
       "    </tr>\n",
       "  </thead>\n",
       "  <tbody>\n",
       "    <tr>\n",
       "      <th>const</th>\n",
       "      <td>0.104</td>\n",
       "      <td>0.011</td>\n",
       "      <td>9.545</td>\n",
       "      <td>0.000</td>\n",
       "      <td>0.083</td>\n",
       "      <td>0.125</td>\n",
       "    </tr>\n",
       "    <tr>\n",
       "      <th>elevation_250</th>\n",
       "      <td>0.009</td>\n",
       "      <td>0.006</td>\n",
       "      <td>1.459</td>\n",
       "      <td>0.145</td>\n",
       "      <td>-0.003</td>\n",
       "      <td>0.021</td>\n",
       "    </tr>\n",
       "    <tr>\n",
       "      <th>elevation_500</th>\n",
       "      <td>0.032</td>\n",
       "      <td>0.013</td>\n",
       "      <td>2.572</td>\n",
       "      <td>0.010</td>\n",
       "      <td>0.008</td>\n",
       "      <td>0.057</td>\n",
       "    </tr>\n",
       "    <tr>\n",
       "      <th>elevation_1000</th>\n",
       "      <td>0.032</td>\n",
       "      <td>0.011</td>\n",
       "      <td>2.943</td>\n",
       "      <td>0.003</td>\n",
       "      <td>0.011</td>\n",
       "      <td>0.054</td>\n",
       "    </tr>\n",
       "    <tr>\n",
       "      <th>elevation_1500</th>\n",
       "      <td>-0.005</td>\n",
       "      <td>0.008</td>\n",
       "      <td>-0.616</td>\n",
       "      <td>0.538</td>\n",
       "      <td>-0.020</td>\n",
       "      <td>0.010</td>\n",
       "    </tr>\n",
       "    <tr>\n",
       "      <th>elevation_greater_1500</th>\n",
       "      <td>-0.014</td>\n",
       "      <td>0.008</td>\n",
       "      <td>-1.803</td>\n",
       "      <td>0.071</td>\n",
       "      <td>-0.030</td>\n",
       "      <td>0.001</td>\n",
       "    </tr>\n",
       "    <tr>\n",
       "      <th>urban_avg</th>\n",
       "      <td>0.014</td>\n",
       "      <td>0.010</td>\n",
       "      <td>1.368</td>\n",
       "      <td>0.171</td>\n",
       "      <td>-0.006</td>\n",
       "      <td>0.034</td>\n",
       "    </tr>\n",
       "    <tr>\n",
       "      <th>cropland_avg</th>\n",
       "      <td>0.018</td>\n",
       "      <td>0.007</td>\n",
       "      <td>2.545</td>\n",
       "      <td>0.011</td>\n",
       "      <td>0.004</td>\n",
       "      <td>0.031</td>\n",
       "    </tr>\n",
       "    <tr>\n",
       "      <th>pasture_avg</th>\n",
       "      <td>0.010</td>\n",
       "      <td>0.007</td>\n",
       "      <td>1.502</td>\n",
       "      <td>0.133</td>\n",
       "      <td>-0.003</td>\n",
       "      <td>0.023</td>\n",
       "    </tr>\n",
       "    <tr>\n",
       "      <th>forest_avg</th>\n",
       "      <td>-0.004</td>\n",
       "      <td>0.007</td>\n",
       "      <td>-0.602</td>\n",
       "      <td>0.547</td>\n",
       "      <td>-0.017</td>\n",
       "      <td>0.009</td>\n",
       "    </tr>\n",
       "    <tr>\n",
       "      <th>grass_shrubland_avg</th>\n",
       "      <td>0.015</td>\n",
       "      <td>0.012</td>\n",
       "      <td>1.243</td>\n",
       "      <td>0.214</td>\n",
       "      <td>-0.009</td>\n",
       "      <td>0.040</td>\n",
       "    </tr>\n",
       "    <tr>\n",
       "      <th>Albania</th>\n",
       "      <td>0.031</td>\n",
       "      <td>0.004</td>\n",
       "      <td>7.472</td>\n",
       "      <td>0.000</td>\n",
       "      <td>0.023</td>\n",
       "      <td>0.039</td>\n",
       "    </tr>\n",
       "    <tr>\n",
       "      <th>Algeria</th>\n",
       "      <td>-0.103</td>\n",
       "      <td>0.002</td>\n",
       "      <td>-48.081</td>\n",
       "      <td>0.000</td>\n",
       "      <td>-0.107</td>\n",
       "      <td>-0.099</td>\n",
       "    </tr>\n",
       "    <tr>\n",
       "      <th>Andorra</th>\n",
       "      <td>-0.096</td>\n",
       "      <td>0.011</td>\n",
       "      <td>-9.046</td>\n",
       "      <td>0.000</td>\n",
       "      <td>-0.117</td>\n",
       "      <td>-0.075</td>\n",
       "    </tr>\n",
       "    <tr>\n",
       "      <th>Angola</th>\n",
       "      <td>0.093</td>\n",
       "      <td>0.006</td>\n",
       "      <td>16.207</td>\n",
       "      <td>0.000</td>\n",
       "      <td>0.082</td>\n",
       "      <td>0.104</td>\n",
       "    </tr>\n",
       "    <tr>\n",
       "      <th>Antigua and Barbuda</th>\n",
       "      <td>-0.106</td>\n",
       "      <td>0.011</td>\n",
       "      <td>-9.445</td>\n",
       "      <td>0.000</td>\n",
       "      <td>-0.128</td>\n",
       "      <td>-0.084</td>\n",
       "    </tr>\n",
       "    <tr>\n",
       "      <th>Argentina</th>\n",
       "      <td>-0.075</td>\n",
       "      <td>0.004</td>\n",
       "      <td>-17.253</td>\n",
       "      <td>0.000</td>\n",
       "      <td>-0.084</td>\n",
       "      <td>-0.067</td>\n",
       "    </tr>\n",
       "    <tr>\n",
       "      <th>Armenia</th>\n",
       "      <td>0.023</td>\n",
       "      <td>0.006</td>\n",
       "      <td>3.772</td>\n",
       "      <td>0.000</td>\n",
       "      <td>0.011</td>\n",
       "      <td>0.035</td>\n",
       "    </tr>\n",
       "    <tr>\n",
       "      <th>Aruba</th>\n",
       "      <td>-0.105</td>\n",
       "      <td>0.011</td>\n",
       "      <td>-9.514</td>\n",
       "      <td>0.000</td>\n",
       "      <td>-0.127</td>\n",
       "      <td>-0.083</td>\n",
       "    </tr>\n",
       "  </tbody>\n",
       "</table>\n",
       "</div>"
      ],
      "text/plain": [
       "                        Coef.  Std.Err.       z  P>|z|  [0.025  0.975]\n",
       "const                   0.104     0.011   9.545  0.000   0.083   0.125\n",
       "elevation_250           0.009     0.006   1.459  0.145  -0.003   0.021\n",
       "elevation_500           0.032     0.013   2.572  0.010   0.008   0.057\n",
       "elevation_1000          0.032     0.011   2.943  0.003   0.011   0.054\n",
       "elevation_1500         -0.005     0.008  -0.616  0.538  -0.020   0.010\n",
       "elevation_greater_1500 -0.014     0.008  -1.803  0.071  -0.030   0.001\n",
       "urban_avg               0.014     0.010   1.368  0.171  -0.006   0.034\n",
       "cropland_avg            0.018     0.007   2.545  0.011   0.004   0.031\n",
       "pasture_avg             0.010     0.007   1.502  0.133  -0.003   0.023\n",
       "forest_avg             -0.004     0.007  -0.602  0.547  -0.017   0.009\n",
       "grass_shrubland_avg     0.015     0.012   1.243  0.214  -0.009   0.040\n",
       "Albania                 0.031     0.004   7.472  0.000   0.023   0.039\n",
       "Algeria                -0.103     0.002 -48.081  0.000  -0.107  -0.099\n",
       "Andorra                -0.096     0.011  -9.046  0.000  -0.117  -0.075\n",
       "Angola                  0.093     0.006  16.207  0.000   0.082   0.104\n",
       "Antigua and Barbuda    -0.106     0.011  -9.445  0.000  -0.128  -0.084\n",
       "Argentina              -0.075     0.004 -17.253  0.000  -0.084  -0.067\n",
       "Armenia                 0.023     0.006   3.772  0.000   0.011   0.035\n",
       "Aruba                  -0.105     0.011  -9.514  0.000  -0.127  -0.083"
      ]
     },
     "metadata": {},
     "output_type": "display_data"
    }
   ],
   "source": [
    "## Drop cells that are less than 2.5 % Urban\n",
    "\n",
    "condition = (raw_df_subset['ocean'] != 1) & (raw_df_subset['urban'] > 0)\n",
    "data_regression = raw_df_subset[condition].drop_duplicates(['cell'])\n",
    "\n",
    "# Set target \n",
    "target = ['frequency'] # burned_intensity # frequency\n",
    "\n",
    "# Set features\n",
    "bin_list = [250, 500, 1000, 1500]\n",
    "elevation_bins = [] # elevation_range\n",
    "for bin_index in bin_list:\n",
    "    elevation_bins += ['elevation_' + str(bin_index)]\n",
    "    #elevation_bins += ['elevation_' + str(bin_index) + '_range']\n",
    "elevation_bins += ['elevation_greater_1500'] #+ ['elevation_greater_1500_range']\n",
    "                       \n",
    "landuse_features = ['urban_avg', 'cropland_avg', 'pasture_avg', \n",
    "                    'forest_avg', 'grass_shrubland_avg'] # other_land\n",
    "\n",
    "features = elevation_bins + landuse_features\n",
    "\n",
    "# Include Fixed Effects\n",
    "fixed_effects = ['grump_Countryeng', 'grid_cell_area']\n",
    "\n",
    "data_regression = data_regression.dropna(subset = target + features).reset_index(drop=True)\n",
    "\n",
    "Y = data_regression[target]\n",
    "X = data_regression[features]\n",
    "X = sm.add_constant(X)\n",
    "\n",
    "dummies = pd.get_dummies(data=data_regression['grump_Countryeng'], drop_first=True).astype(int)\n",
    "X = pd.concat([X, dummies], axis=1)\n",
    "\n",
    "ols_model = sm.WLS(Y,X, weights=data_regression['grid_cell_area'].values)\n",
    "#ols_model = sm.OLS(Y,X)\n",
    "results = ols_model.fit(cov_type='cluster', cov_kwds={'groups': data_regression['grump_Countryeng']})\n",
    "#results = ols_model.fit(cov_type='HC1')\n",
    "#print(results.summary())\n",
    "display(round(results.summary2().tables[1][:19],3))\n",
    "#print(results.summary())"
   ]
  },
  {
   "cell_type": "markdown",
   "metadata": {},
   "source": [
    "---"
   ]
  },
  {
   "cell_type": "markdown",
   "metadata": {},
   "source": [
    "## 2. Regression: Light Intensity, Elevation, Precipitation, Heat\n",
    "\n",
    "We next investigate whether economic activity concentrates disproportionately in flood-prone urban areas—specifically, locations that are low elevation, areas that are exposed to extreme precipitation, or both.\n",
    "\n",
    "- Group Precip and Heat to the Grid Level"
   ]
  },
  {
   "cell_type": "markdown",
   "metadata": {},
   "source": [
    "### Preparation"
   ]
  },
  {
   "cell_type": "code",
   "execution_count": 34,
   "metadata": {},
   "outputs": [],
   "source": [
    "## Elevation Bins\n",
    "\n",
    "bin_list = [10, 250, 500, 1000, 1500]\n",
    "\n",
    "## Elevation Bins\n",
    "\n",
    "raw_df_subset.loc[raw_df_subset['elevation_city'] < 10, 'elevation_10'] = 1\n",
    "raw_df_subset.loc[raw_df_subset['elevation_city'] >= 10, 'elevation_10'] = 0\n",
    "\n",
    "for bin_index in range(len(bin_list)-1):\n",
    "    condition = (raw_df_subset['elevation_city'] >= bin_list[bin_index]) & (raw_df_subset['elevation_city'] < bin_list[bin_index+1])\n",
    "    raw_df_subset.loc[condition == True, 'elevation_'+str(bin_list[bin_index+1])] = 1\n",
    "    raw_df_subset.loc[condition == False, 'elevation_'+str(bin_list[bin_index+1])] = 0\n",
    "\n",
    "raw_df_subset.loc[raw_df_subset['elevation_city'] >= 1500, 'elevation_greater_1500'] = 1\n",
    "raw_df_subset.loc[raw_df_subset['elevation_city'] < 1500, 'elevation_greater_1500'] = 0"
   ]
  },
  {
   "cell_type": "code",
   "execution_count": 35,
   "metadata": {},
   "outputs": [],
   "source": [
    "features = ['urban', 'cropland', 'pasture', 'forest', 'grass_shrubland',\n",
    "            'grid_cell_area'] \n",
    "\n",
    "for feature in features:\n",
    "    raw_df_subset[feature+'_avg'] = raw_df_subset.groupby(['grid_cell'])[feature].transform('mean')"
   ]
  },
  {
   "cell_type": "markdown",
   "metadata": {},
   "source": [
    "---"
   ]
  },
  {
   "cell_type": "markdown",
   "metadata": {},
   "source": [
    "### Panel A: Elevation"
   ]
  },
  {
   "cell_type": "code",
   "execution_count": 36,
   "metadata": {},
   "outputs": [
    {
     "name": "stdout",
     "output_type": "stream",
     "text": [
      "                          PanelOLS Estimation Summary                           \n",
      "================================================================================\n",
      "Dep. Variable:           ln_light2008   R-squared:                        0.0275\n",
      "Estimator:                   PanelOLS   R-squared (Between):              0.0157\n",
      "No. Observations:               51933   R-squared (Within):               0.0275\n",
      "Date:                Wed, Jan 31 2024   R-squared (Overall):              0.0235\n",
      "Time:                        13:27:45   Log-likelihood                -6.078e+04\n",
      "Cov. Estimator:             Clustered                                           \n",
      "                                        F-statistic:                      2945.5\n",
      "Entities:                         202   P-value                           0.0000\n",
      "Avg Obs:                       257.09   Distribution:                 F(1,51730)\n",
      "Min Obs:                       1.0000                                           \n",
      "Max Obs:                       6796.0   F-statistic (robust):             21.962\n",
      "                                        P-value                           0.0000\n",
      "Time periods:                   33275   Distribution:                 F(1,51730)\n",
      "Avg Obs:                       1.5607                                           \n",
      "Min Obs:                       1.0000                                           \n",
      "Max Obs:                       142.00                                           \n",
      "                                                                                \n",
      "                               Parameter Estimates                               \n",
      "=================================================================================\n",
      "               Parameter  Std. Err.     T-stat    P-value    Lower CI    Upper CI\n",
      "---------------------------------------------------------------------------------\n",
      "const             1.3158     0.0272     48.439     0.0000      1.2625      1.3690\n",
      "elevation_250     0.2943     0.0628     4.6864     0.0000      0.1712      0.4174\n",
      "=================================================================================\n",
      "\n",
      "F-test for Poolability: 130.53\n",
      "P-value: 0.0000\n",
      "Distribution: F(201,51730)\n",
      "\n",
      "Included effects: Entity\n"
     ]
    }
   ],
   "source": [
    "condition = (raw_df_subset['ocean'] != 1) & (raw_df_subset['urban_avg'] > 0)\n",
    "data_regression = raw_df_subset[condition].drop_duplicates(['cell'])\n",
    "\n",
    "# Set target \n",
    "target = ['ln_light2008'] # ln_light2008\n",
    "# Set features\n",
    "# bin_list = [10, 250, 500, 1000, 1500, 'greater_1500']\n",
    "bin_list = [250, 500, 1000]\n",
    "bin_list = [250]\n",
    "\n",
    "elevation_bins = []\n",
    "for bin_index in bin_list:\n",
    "    elevation_bins += ['elevation_' + str(bin_index)]\n",
    "\n",
    "landuse_features = ['urban_avg', 'cropland_avg', 'pasture_avg', \n",
    "                    'forest_avg', 'grass_shrubland_avg'] # other_land\n",
    "\n",
    "features = elevation_bins #+ landuse_features\n",
    "\n",
    "fixed_effects = ['grump_Countryeng', 'grid_cell_area']\n",
    "\n",
    "data_regression = data_regression.dropna(subset = target + features + fixed_effects)\n",
    "data_regression['grump_Countryeng'] = data_regression['grump_Countryeng'].astype('category')\n",
    "data_regression['grump_Countryeng'] = data_regression['grump_Countryeng'].cat.codes\n",
    "#data_regression = data_regression.reset_index().set_index(['grump_Countryeng','grid_cell'])\n",
    "data_regression = data_regression.reset_index().set_index(['grump_Countryeng', 'grump_URBID'])\n",
    "\n",
    "Y = data_regression[target]\n",
    "X = data_regression[features]\n",
    "X = sm.add_constant(X)\n",
    "\n",
    "panel_ols_model = PanelOLS(Y, X, weights=data_regression['grid_cell_area'], \n",
    "               entity_effects=True, time_effects=False, check_rank=False, drop_absorbed=True)\n",
    "results1 = panel_ols_model.fit(cov_type='clustered', cluster_entity=True)\n",
    "#results1 = panel_ols_model.fit(cov_type='robust')\n",
    "print(results1)"
   ]
  },
  {
   "cell_type": "code",
   "execution_count": 37,
   "metadata": {},
   "outputs": [
    {
     "name": "stdout",
     "output_type": "stream",
     "text": [
      "                          PanelOLS Estimation Summary                           \n",
      "================================================================================\n",
      "Dep. Variable:           ln_light2008   R-squared:                        0.4276\n",
      "Estimator:                   PanelOLS   R-squared (Between):              0.0745\n",
      "No. Observations:               51933   R-squared (Within):               0.3855\n",
      "Date:                Wed, Jan 31 2024   R-squared (Overall):              0.2816\n",
      "Time:                        13:27:48   Log-likelihood                   -4726.0\n",
      "Cov. Estimator:             Clustered                                           \n",
      "                                        F-statistic:                      3138.3\n",
      "Entities:                         202   P-value                           0.0000\n",
      "Avg Obs:                       257.09   Distribution:                 F(6,18451)\n",
      "Min Obs:                       1.0000                                           \n",
      "Max Obs:                       6796.0   F-statistic (robust):             29.282\n",
      "                                        P-value                           0.0000\n",
      "Time periods:                   33275   Distribution:                 F(6,18451)\n",
      "Avg Obs:                       1.5607                                           \n",
      "Min Obs:                       1.0000                                           \n",
      "Max Obs:                       142.00                                           \n",
      "                                                                                \n",
      "                                  Parameter Estimates                                  \n",
      "=======================================================================================\n",
      "                     Parameter  Std. Err.     T-stat    P-value    Lower CI    Upper CI\n",
      "---------------------------------------------------------------------------------------\n",
      "const                   0.8085     0.1417     5.7051     0.0000      0.5307      1.0862\n",
      "elevation_250           0.2441     0.1910     1.2782     0.2012     -0.1303      0.6186\n",
      "urban_avg               4.3275     0.4616     9.3747     0.0000      3.4227      5.2323\n",
      "cropland_avg            0.6267     0.1412     4.4383     0.0000      0.3500      0.9035\n",
      "pasture_avg             0.3014     0.1266     2.3815     0.0173      0.0533      0.5495\n",
      "forest_avg              0.1710     0.1587     1.0778     0.2812     -0.1400      0.4820\n",
      "grass_shrubland_avg     0.1532     0.1634     0.9371     0.3487     -0.1672      0.4735\n",
      "=======================================================================================\n",
      "\n",
      "F-test for Poolability: 4.1250\n",
      "P-value: 0.0000\n",
      "Distribution: F(33475,18451)\n",
      "\n",
      "Included effects: Entity, Time\n"
     ]
    }
   ],
   "source": [
    "condition = (raw_df_subset['ocean'] != 1) & (raw_df_subset['urban_avg'] > 0)\n",
    "data_regression = raw_df_subset[condition].drop_duplicates(['cell'])\n",
    "\n",
    "# Set target \n",
    "target = ['ln_light2008'] # ln_light2008\n",
    "# Set features\n",
    "# bin_list = [10, 250, 500, 1000, 1500, 'greater_1500']\n",
    "bin_list = [250, 500, 1000]\n",
    "bin_list = [250]\n",
    "\n",
    "elevation_bins = []\n",
    "for bin_index in bin_list:\n",
    "    elevation_bins += ['elevation_' + str(bin_index)]\n",
    "                       \n",
    "landuse_features = ['urban_avg', 'cropland_avg', 'pasture_avg', \n",
    "                    'forest_avg', 'grass_shrubland_avg'] # other_land\n",
    "\n",
    "features = elevation_bins + landuse_features\n",
    "\n",
    "fixed_effects = ['grump_Countryeng', 'grid_cell_area']\n",
    "\n",
    "data_regression = data_regression.dropna(subset = target + features + fixed_effects)\n",
    "data_regression['grump_Countryeng'] = data_regression['grump_Countryeng'].astype('category')\n",
    "data_regression['grump_Countryeng'] = data_regression['grump_Countryeng'].cat.codes\n",
    "#data_regression = data_regression.reset_index().set_index(['grump_Countryeng','grid_cell'])\n",
    "data_regression = data_regression.reset_index().set_index(['grump_Countryeng', 'grump_URBID'])\n",
    "\n",
    "Y = data_regression[target]\n",
    "X = data_regression[features]\n",
    "X = sm.add_constant(X)\n",
    "\n",
    "panel_ols_model = PanelOLS(Y, X, weights=data_regression['grid_cell_area'], \n",
    "               entity_effects=True, time_effects=True, check_rank=False, drop_absorbed=True)\n",
    "results1 = panel_ols_model.fit(cov_type='clustered', cluster_entity=True)\n",
    "#results1 = panel_ols_model.fit(cov_type='robust')\n",
    "print(results1)"
   ]
  },
  {
   "cell_type": "markdown",
   "metadata": {},
   "source": [
    "---"
   ]
  },
  {
   "cell_type": "markdown",
   "metadata": {},
   "source": [
    "### Panel B: Extreme Heat\n",
    "\n",
    "https://www.weather.gov/ama/heatindex"
   ]
  },
  {
   "cell_type": "code",
   "execution_count": 38,
   "metadata": {},
   "outputs": [],
   "source": [
    "# At least once in the sample period \n",
    "raw_df_subset['duration_max'] = raw_df_subset.groupby(['grid_cell'])['duration'].transform('max')\n",
    "#raw_df_subset['temp_406'] = raw_df_subset.groupby(['grid_cell', 'grid_year'])['temp_406'].transform('max')\n",
    "\n",
    "bin_list = [10, 250, 500, 1000, 1500, 'greater_1500']\n",
    "for bin_index in bin_list:\n",
    "    raw_df_subset['elevation_' + str(bin_index) + '_duration_max'] = \\\n",
    "        raw_df_subset['elevation_' + str(bin_index) ] * raw_df_subset['duration_max']"
   ]
  },
  {
   "cell_type": "code",
   "execution_count": 39,
   "metadata": {},
   "outputs": [],
   "source": [
    "## Create Extreme Heat Indicator: 40.6\n",
    "raw_df_subset.loc[raw_df_subset['avg_temp'].isna(), 'temp_406'] = 0\n",
    "raw_df_subset.loc[raw_df_subset['avg_temp'] > 0, 'temp_406'] = 1\n",
    "\n",
    "# At least once in the sample period \n",
    "raw_df_subset['temp_406'] = raw_df_subset.groupby(['grid_cell'])['temp_406'].transform('max')\n",
    "#raw_df_subset['temp_406'] = raw_df_subset.groupby(['grid_cell', 'grid_year'])['temp_406'].transform('max')\n",
    "\n",
    "bin_list = [10, 250, 500, 1000, 1500, 'greater_1500']\n",
    "for bin_index in bin_list:\n",
    "    raw_df_subset['elevation_' + str(bin_index) + '_temp_406'] = \\\n",
    "        raw_df_subset['elevation_' + str(bin_index) ] * raw_df_subset['temp_406']"
   ]
  },
  {
   "cell_type": "markdown",
   "metadata": {},
   "source": [
    "---"
   ]
  },
  {
   "cell_type": "code",
   "execution_count": 40,
   "metadata": {},
   "outputs": [
    {
     "name": "stdout",
     "output_type": "stream",
     "text": [
      "0.109\n",
      "                          PanelOLS Estimation Summary                           \n",
      "================================================================================\n",
      "Dep. Variable:           ln_light2008   R-squared:                        0.0793\n",
      "Estimator:                   PanelOLS   R-squared (Between):             -0.0613\n",
      "No. Observations:               51933   R-squared (Within):               0.0793\n",
      "Date:                Wed, Jan 31 2024   R-squared (Overall):              0.0323\n",
      "Time:                        13:27:50   Log-likelihood                -5.935e+04\n",
      "Cov. Estimator:             Clustered                                           \n",
      "                                        F-statistic:                      2007.1\n",
      "Entities:                         202   P-value                           0.0000\n",
      "Avg Obs:                       257.09   Distribution:                 F(3,51728)\n",
      "Min Obs:                       1.0000                                           \n",
      "Max Obs:                       6796.0   F-statistic (robust):             31.334\n",
      "                                        P-value                           0.0000\n",
      "Time periods:                   33275   Distribution:                 F(3,51728)\n",
      "Avg Obs:                       1.5607                                           \n",
      "Min Obs:                       1.0000                                           \n",
      "Max Obs:                       142.00                                           \n",
      "                                                                                \n",
      "                                   Parameter Estimates                                    \n",
      "==========================================================================================\n",
      "                        Parameter  Std. Err.     T-stat    P-value    Lower CI    Upper CI\n",
      "------------------------------------------------------------------------------------------\n",
      "const                      1.2553     0.0308     40.776     0.0000      1.1950      1.3156\n",
      "temp_406                   0.6416     0.0803     7.9913     0.0000      0.4842      0.7990\n",
      "elevation_250              0.2458     0.0527     4.6611     0.0000      0.1424      0.3491\n",
      "elevation_250_temp_406     0.0123     0.0923     0.1333     0.8940     -0.1685      0.1931\n",
      "==========================================================================================\n",
      "\n",
      "F-test for Poolability: 144.90\n",
      "P-value: 0.0000\n",
      "Distribution: F(201,51728)\n",
      "\n",
      "Included effects: Entity\n"
     ]
    }
   ],
   "source": [
    "condition = (raw_df_subset['ocean'] != 1) & (raw_df_subset['urban_avg'] > 0)\n",
    "data_regression = raw_df_subset[condition].drop_duplicates(['cell'])\n",
    "\n",
    "# Set target \n",
    "target = ['ln_light2008'] # ln_light2008\n",
    "# Set features\n",
    "# bin_list = [10, 250, 500, 1000, 1500, 'greater_1500']\n",
    "bin_list = [250, 500, 1000]\n",
    "bin_list = [250]\n",
    "\n",
    "elevation_bins = ['temp_406'] # temp_406 # precip_25\n",
    "for bin_index in bin_list:\n",
    "    elevation_bins += ['elevation_' + str(bin_index)]\n",
    "    elevation_bins += ['elevation_' + str(bin_index) + '_temp_406']\n",
    "                       \n",
    "landuse_features = ['urban_avg', 'cropland_avg', 'pasture_avg', \n",
    "                    'forest_avg', 'grass_shrubland_avg'] # other_land\n",
    "fixed_effects = ['grump_Countryeng', 'grid_cell_area']\n",
    "\n",
    "features = elevation_bins #+ landuse_features\n",
    "\n",
    "data_regression = data_regression.dropna(subset = target + features + fixed_effects)\n",
    "data_regression = data_regression.reset_index().set_index(['grump_Countryeng', 'grump_URBID'])\n",
    "data_regression['country'] = data_regression.index.get_level_values(0)\n",
    "\n",
    "Y = data_regression[target]\n",
    "X = data_regression[features]\n",
    "X = sm.add_constant(X)\n",
    "\n",
    "print(np.round(data_regression['temp_406'].mean(),3))\n",
    "\n",
    "panel_ols_model = PanelOLS(Y, X, weights=data_regression['grid_cell_area'], \n",
    "               entity_effects=True, time_effects=False, check_rank=False, drop_absorbed=True)\n",
    "results1 = panel_ols_model.fit(cov_type='clustered', cluster_entity=True)\n",
    "#results1 = panel_ols_model.fit(cov_type='robust')\n",
    "print(results1)"
   ]
  },
  {
   "cell_type": "code",
   "execution_count": 41,
   "metadata": {},
   "outputs": [
    {
     "name": "stdout",
     "output_type": "stream",
     "text": [
      "0.109\n",
      "                          PanelOLS Estimation Summary                           \n",
      "================================================================================\n",
      "Dep. Variable:           ln_light2008   R-squared:                        0.4415\n",
      "Estimator:                   PanelOLS   R-squared (Between):              0.0420\n",
      "No. Observations:               51933   R-squared (Within):               0.3939\n",
      "Date:                Wed, Jan 31 2024   R-squared (Overall):              0.2764\n",
      "Time:                        13:27:54   Log-likelihood                   -4086.4\n",
      "Cov. Estimator:             Clustered                                           \n",
      "                                        F-statistic:                      2469.7\n",
      "Entities:                         202   P-value                           0.0000\n",
      "Avg Obs:                       257.09   Distribution:                 F(8,18449)\n",
      "Min Obs:                       1.0000                                           \n",
      "Max Obs:                       6796.0   F-statistic (robust):             41.539\n",
      "                                        P-value                           0.0000\n",
      "Time periods:                   33275   Distribution:                 F(8,18449)\n",
      "Avg Obs:                       1.5607                                           \n",
      "Min Obs:                       1.0000                                           \n",
      "Max Obs:                       142.00                                           \n",
      "                                                                                \n",
      "                                   Parameter Estimates                                    \n",
      "==========================================================================================\n",
      "                        Parameter  Std. Err.     T-stat    P-value    Lower CI    Upper CI\n",
      "------------------------------------------------------------------------------------------\n",
      "const                      0.7991     0.1438     5.5569     0.0000      0.5173      1.0810\n",
      "temp_406                   0.2777     0.0467     5.9429     0.0000      0.1861      0.3694\n",
      "elevation_250              0.2200     0.1951     1.1276     0.2595     -0.1625      0.6025\n",
      "elevation_250_temp_406    -0.0523     0.0530    -0.9862     0.3240     -0.1561      0.0516\n",
      "urban_avg                  4.1575     0.4495     9.2498     0.0000      3.2765      5.0385\n",
      "cropland_avg               0.5995     0.1369     4.3779     0.0000      0.3311      0.8680\n",
      "pasture_avg                0.3063     0.1282     2.3893     0.0169      0.0550      0.5575\n",
      "forest_avg                 0.1805     0.1568     1.1506     0.2499     -0.1270      0.4879\n",
      "grass_shrubland_avg        0.1782     0.1594     1.1182     0.2635     -0.1342      0.4906\n",
      "==========================================================================================\n",
      "\n",
      "F-test for Poolability: 4.2393\n",
      "P-value: 0.0000\n",
      "Distribution: F(33475,18449)\n",
      "\n",
      "Included effects: Entity, Time\n"
     ]
    }
   ],
   "source": [
    "condition = (raw_df_subset['ocean'] != 1) & (raw_df_subset['urban'] > 0)\n",
    "data_regression = raw_df_subset[condition].drop_duplicates(['cell'])\n",
    "\n",
    "# Set target \n",
    "target = ['ln_light2008'] # ln_light2008\n",
    "# Set features\n",
    "# bin_list = [10, 250, 500, 1000, 1500, 'greater_1500']\n",
    "bin_list = [250, 500, 1000]\n",
    "bin_list = [250]\n",
    "\n",
    "elevation_bins = ['temp_406'] # temp_406 # precip_25\n",
    "for bin_index in bin_list:\n",
    "    elevation_bins += ['elevation_' + str(bin_index)]\n",
    "    elevation_bins += ['elevation_' + str(bin_index) + '_temp_406']\n",
    "                       \n",
    "landuse_features = ['urban_avg', 'cropland_avg', 'pasture_avg', \n",
    "                    'forest_avg', 'grass_shrubland_avg'] # other_land\n",
    "fixed_effects = ['grump_Countryeng', 'grid_cell_area']\n",
    "\n",
    "features = elevation_bins + landuse_features\n",
    "\n",
    "data_regression = data_regression.dropna(subset = target + features + fixed_effects)\n",
    "data_regression = data_regression.reset_index().set_index(['grump_Countryeng', 'grump_URBID'])\n",
    "data_regression['country'] = data_regression.index.get_level_values(0)\n",
    "\n",
    "Y = data_regression[target]\n",
    "X = data_regression[features]\n",
    "X = sm.add_constant(X)\n",
    "\n",
    "print(np.round(data_regression['temp_406'].mean(),3))\n",
    "\n",
    "panel_ols_model = PanelOLS(Y, X, weights=data_regression['grid_cell_area'], \n",
    "               entity_effects=True, time_effects=True, check_rank=False, drop_absorbed=True)\n",
    "results2 = panel_ols_model.fit(cov_type='clustered', cluster_entity=True)\n",
    "#results2 = panel_ols_model.fit(cov_type='robust')\n",
    "print(results2)"
   ]
  },
  {
   "cell_type": "markdown",
   "metadata": {},
   "source": [
    "### Panel C: Extreme Low Precipitation"
   ]
  },
  {
   "cell_type": "code",
   "execution_count": 42,
   "metadata": {},
   "outputs": [],
   "source": [
    "## Extreme Low Precipitation\n",
    "\n",
    "threshold = 30 \n",
    "\n",
    "raw_df_subset.loc[raw_df_subset['precip'] < threshold, 'precip_' + str(threshold)] = 1\n",
    "raw_df_subset.loc[raw_df_subset['precip'] >= threshold, 'precip_' + str(threshold)] = 0\n",
    "\n",
    "# At least once in the sample period \n",
    "raw_df_subset['precip_indicator'] = raw_df_subset.groupby(['grid_cell'])['precip_' + str(threshold)].transform('max')\n",
    "\n",
    "#features = ['precip'] \n",
    "#for feature in features:\n",
    "    #raw_df_subset[feature+'_city'] = raw_df_subset.groupby(['grid_cell', 'grid_year'])['precip_' + str(threshold)].transform('max')\n",
    "\n",
    "bin_list = [10, 250, 500, 1000, 1500, 'greater_1500']\n",
    "for bin_index in bin_list:\n",
    "    raw_df_subset['elevation_' + str(bin_index) + '_precip_' + str(threshold)] = \\\n",
    "        raw_df_subset['elevation_' + str(bin_index) ] * raw_df_subset['precip_indicator']"
   ]
  },
  {
   "cell_type": "code",
   "execution_count": 43,
   "metadata": {},
   "outputs": [
    {
     "data": {
      "text/plain": [
       "0.05     20.0\n",
       "0.10     28.0\n",
       "0.15     34.0\n",
       "0.20     39.0\n",
       "0.25     43.0\n",
       "0.30     47.0\n",
       "0.35     50.0\n",
       "0.40     54.0\n",
       "0.45     58.0\n",
       "0.50     63.0\n",
       "0.55     69.0\n",
       "0.60     75.0\n",
       "0.65     83.0\n",
       "0.70     92.0\n",
       "0.75    100.0\n",
       "0.80    110.0\n",
       "0.85    122.0\n",
       "0.90    139.0\n",
       "0.95    176.0\n",
       "Name: precip, dtype: float32"
      ]
     },
     "metadata": {},
     "output_type": "display_data"
    },
    {
     "data": {
      "text/plain": [
       "5"
      ]
     },
     "execution_count": 43,
     "metadata": {},
     "output_type": "execute_result"
    }
   ],
   "source": [
    "display(np.round(raw_df_subset['precip'].quantile(np.linspace(.05, 1, 19, 0), 'lower')))\n",
    "\n",
    "#inverse of quantile\n",
    "from scipy import stats\n",
    "round(stats.percentileofscore(raw_df_subset['precip'], 20))"
   ]
  },
  {
   "cell_type": "markdown",
   "metadata": {},
   "source": [
    "---"
   ]
  },
  {
   "cell_type": "code",
   "execution_count": 44,
   "metadata": {},
   "outputs": [
    {
     "name": "stdout",
     "output_type": "stream",
     "text": [
      "0.207\n",
      "                          PanelOLS Estimation Summary                           \n",
      "================================================================================\n",
      "Dep. Variable:           ln_light2008   R-squared:                        0.0301\n",
      "Estimator:                   PanelOLS   R-squared (Between):              0.0084\n",
      "No. Observations:               51933   R-squared (Within):               0.0301\n",
      "Date:                Wed, Jan 31 2024   R-squared (Overall):              0.0229\n",
      "Time:                        13:27:56   Log-likelihood                 -6.07e+04\n",
      "Cov. Estimator:             Clustered                                           \n",
      "                                        F-statistic:                      1032.3\n",
      "Entities:                         202   P-value                           0.0000\n",
      "Avg Obs:                       257.09   Distribution:                 F(3,51728)\n",
      "Min Obs:                       1.0000                                           \n",
      "Max Obs:                       6796.0   F-statistic (robust):             10.251\n",
      "                                        P-value                           0.0000\n",
      "Time periods:                   33275   Distribution:                 F(3,51728)\n",
      "Avg Obs:                       1.5607                                           \n",
      "Min Obs:                       1.0000                                           \n",
      "Max Obs:                       142.00                                           \n",
      "                                                                                \n",
      "                                    Parameter Estimates                                    \n",
      "===========================================================================================\n",
      "                         Parameter  Std. Err.     T-stat    P-value    Lower CI    Upper CI\n",
      "-------------------------------------------------------------------------------------------\n",
      "const                       1.3363     0.0316     42.311     0.0000      1.2744      1.3982\n",
      "precip_indicator           -0.0874     0.0546    -1.6010     0.1094     -0.1945      0.0196\n",
      "elevation_250               0.3003     0.0670     4.4852     0.0000      0.1691      0.4316\n",
      "elevation_250_precip_30    -0.0881     0.0749    -1.1764     0.2394     -0.2349      0.0587\n",
      "===========================================================================================\n",
      "\n",
      "F-test for Poolability: 130.48\n",
      "P-value: 0.0000\n",
      "Distribution: F(201,51728)\n",
      "\n",
      "Included effects: Entity\n"
     ]
    }
   ],
   "source": [
    "condition = (raw_df_subset['ocean'] != 1) & (raw_df_subset['urban'] > 0)\n",
    "data_regression = raw_df_subset[condition].drop_duplicates(['cell'])\n",
    "\n",
    "# Set target \n",
    "target = ['ln_light2008'] # ln_light2008\n",
    "# Set features\n",
    "bin_list = [250, 500, 1000]\n",
    "bin_list = [250]\n",
    "\n",
    "elevation_bins = ['precip_indicator'] # temp_406 # precip_25\n",
    "for bin_index in bin_list:\n",
    "    elevation_bins += ['elevation_' + str(bin_index)]\n",
    "    elevation_bins += ['elevation_' + str(bin_index) + '_precip_30']\n",
    "\n",
    "landuse_features = ['urban_avg', 'cropland_avg', 'pasture_avg', \n",
    "                    'forest_avg', 'grass_shrubland_avg'] # other_land\n",
    "fixed_effects = ['grump_Countryeng', 'grid_cell_area']\n",
    "features = elevation_bins #+ landuse_features\n",
    "\n",
    "data_regression = data_regression.dropna(subset = target + features + fixed_effects)\n",
    "data_regression = data_regression.reset_index().set_index(['grump_Countryeng', 'grump_URBID'])\n",
    "\n",
    "Y = data_regression[target]\n",
    "X = data_regression[features]\n",
    "X = sm.add_constant(X)\n",
    "\n",
    "print(np.round(data_regression['precip_indicator'].mean(),3))\n",
    "\n",
    "panel_ols_model = PanelOLS(Y, X, weights=data_regression['grid_cell_area'], \n",
    "               entity_effects=True, time_effects=False, check_rank=False, drop_absorbed=True)\n",
    "results3 = panel_ols_model.fit(cov_type='clustered', cluster_entity=True)\n",
    "print(results3)"
   ]
  },
  {
   "cell_type": "code",
   "execution_count": 45,
   "metadata": {},
   "outputs": [
    {
     "name": "stdout",
     "output_type": "stream",
     "text": [
      "0.207\n",
      "                          PanelOLS Estimation Summary                           \n",
      "================================================================================\n",
      "Dep. Variable:           ln_light2008   R-squared:                        0.4276\n",
      "Estimator:                   PanelOLS   R-squared (Between):              0.0731\n",
      "No. Observations:               51933   R-squared (Within):               0.3855\n",
      "Date:                Wed, Jan 31 2024   R-squared (Overall):              0.2812\n",
      "Time:                        13:28:01   Log-likelihood                   -4725.7\n",
      "Cov. Estimator:             Clustered                                           \n",
      "                                        F-statistic:                      2353.5\n",
      "Entities:                         202   P-value                           0.0000\n",
      "Avg Obs:                       257.09   Distribution:                 F(8,18449)\n",
      "Min Obs:                       1.0000                                           \n",
      "Max Obs:                       6796.0   F-statistic (robust):             26.809\n",
      "                                        P-value                           0.0000\n",
      "Time periods:                   33275   Distribution:                 F(8,18449)\n",
      "Avg Obs:                       1.5607                                           \n",
      "Min Obs:                       1.0000                                           \n",
      "Max Obs:                       142.00                                           \n",
      "                                                                                \n",
      "                                    Parameter Estimates                                    \n",
      "===========================================================================================\n",
      "                         Parameter  Std. Err.     T-stat    P-value    Lower CI    Upper CI\n",
      "-------------------------------------------------------------------------------------------\n",
      "const                       0.8108     0.1511     5.3662     0.0000      0.5146      1.1070\n",
      "precip_indicator           -0.0103     0.0855    -0.1204     0.9042     -0.1779      0.1573\n",
      "elevation_250               0.2416     0.1900     1.2712     0.2037     -0.1309      0.6141\n",
      "elevation_250_precip_30     0.0149     0.0961     0.1549     0.8769     -0.1734      0.2032\n",
      "urban_avg                   4.3273     0.4610     9.3859     0.0000      3.4236      5.2310\n",
      "cropland_avg                0.6266     0.1419     4.4157     0.0000      0.3484      0.9047\n",
      "pasture_avg                 0.3021     0.1251     2.4155     0.0157      0.0569      0.5472\n",
      "forest_avg                  0.1704     0.1625     1.0483     0.2945     -0.1482      0.4890\n",
      "grass_shrubland_avg         0.1532     0.1634     0.9376     0.3485     -0.1671      0.4736\n",
      "===========================================================================================\n",
      "\n",
      "F-test for Poolability: 4.0873\n",
      "P-value: 0.0000\n",
      "Distribution: F(33475,18449)\n",
      "\n",
      "Included effects: Entity, Time\n"
     ]
    }
   ],
   "source": [
    "condition = (raw_df_subset['ocean'] != 1) & (raw_df_subset['urban'] > 0)\n",
    "data_regression = raw_df_subset[condition].drop_duplicates(['cell'])\n",
    "\n",
    "# Set target \n",
    "target = ['ln_light2008'] # ln_light2008\n",
    "# Set features\n",
    "bin_list = [250, 500, 1000]\n",
    "bin_list = [250]\n",
    "\n",
    "elevation_bins = ['precip_indicator'] # temp_406 # precip_25\n",
    "for bin_index in bin_list:\n",
    "    elevation_bins += ['elevation_' + str(bin_index)]\n",
    "    elevation_bins += ['elevation_' + str(bin_index) + '_precip_30']\n",
    "\n",
    "landuse_features = ['urban_avg', 'cropland_avg', 'pasture_avg', \n",
    "                    'forest_avg', 'grass_shrubland_avg'] # other_land\n",
    "fixed_effects = ['grump_Countryeng', 'grid_cell_area']\n",
    "features = elevation_bins + landuse_features\n",
    "\n",
    "data_regression = data_regression.dropna(subset = target + features + fixed_effects)\n",
    "data_regression = data_regression.reset_index().set_index(['grump_Countryeng', 'grump_URBID'])\n",
    "\n",
    "Y = data_regression[target]\n",
    "X = data_regression[features]\n",
    "X = sm.add_constant(X)\n",
    "\n",
    "print(np.round(data_regression['precip_indicator'].mean(),3))\n",
    "\n",
    "panel_ols_model = PanelOLS(Y, X, weights=data_regression['grid_cell_area'], \n",
    "               entity_effects=True, time_effects=True, check_rank=False, drop_absorbed=True)\n",
    "results4 = panel_ols_model.fit(cov_type='clustered', cluster_entity=True)\n",
    "print(results4)"
   ]
  },
  {
   "cell_type": "code",
   "execution_count": 46,
   "metadata": {},
   "outputs": [
    {
     "data": {
      "text/html": [
       "<table class=\"simpletable\">\n",
       "<caption>Model Comparison</caption>\n",
       "<tr>\n",
       "               <td></td>                 <th>model_A_name</th>     <th>model_B_name</th>     <th>model_C_name</th>     <th>model_D_name</th>  \n",
       "</tr>\n",
       "<tr>\n",
       "  <th>Dep. Variable</th>                 <td>ln_light2008</td>     <td>ln_light2008</td>     <td>ln_light2008</td>     <td>ln_light2008</td>  \n",
       "</tr>\n",
       "<tr>\n",
       "  <th>Estimator</th>                       <td>PanelOLS</td>         <td>PanelOLS</td>         <td>PanelOLS</td>         <td>PanelOLS</td>    \n",
       "</tr>\n",
       "<tr>\n",
       "  <th>No. Observations</th>                  <td>51933</td>            <td>51933</td>            <td>51933</td>            <td>51933</td>     \n",
       "</tr>\n",
       "<tr>\n",
       "  <th>Cov. Est.</th>                       <td>Clustered</td>        <td>Clustered</td>        <td>Clustered</td>        <td>Clustered</td>   \n",
       "</tr>\n",
       "<tr>\n",
       "  <th>R-squared</th>                        <td>0.0793</td>           <td>0.4415</td>           <td>0.0301</td>           <td>0.4276</td>     \n",
       "</tr>\n",
       "<tr>\n",
       "  <th>R-Squared (Within)</th>               <td>0.0793</td>           <td>0.3939</td>           <td>0.0301</td>           <td>0.3855</td>     \n",
       "</tr>\n",
       "<tr>\n",
       "  <th>R-Squared (Between)</th>              <td>-0.0613</td>          <td>0.0420</td>           <td>0.0084</td>           <td>0.0731</td>     \n",
       "</tr>\n",
       "<tr>\n",
       "  <th>R-Squared (Overall)</th>              <td>0.0323</td>           <td>0.2764</td>           <td>0.0229</td>           <td>0.2812</td>     \n",
       "</tr>\n",
       "<tr>\n",
       "  <th>F-statistic</th>                      <td>2007.1</td>           <td>2469.7</td>           <td>1032.3</td>           <td>2353.5</td>     \n",
       "</tr>\n",
       "<tr>\n",
       "  <th>P-value (F-stat)</th>                 <td>0.0000</td>           <td>0.0000</td>           <td>0.0000</td>           <td>0.0000</td>     \n",
       "</tr>\n",
       "<tr>\n",
       "  <th>=========================</th>    <td>==============</td>   <td>==============</td>   <td>==============</td>   <td>==============</td> \n",
       "</tr>\n",
       "<tr>\n",
       "  <th>const</th>                           <td>1.2553***</td>        <td>0.7991***</td>        <td>1.3363***</td>        <td>0.8108***</td>   \n",
       "</tr>\n",
       "<tr>\n",
       "  <th> </th>                               <td>(0.0308)</td>         <td>(0.1438)</td>         <td>(0.0316)</td>         <td>(0.1511)</td>    \n",
       "</tr>\n",
       "<tr>\n",
       "  <th>temp_406</th>                        <td>0.6416***</td>        <td>0.2777***</td>        <td>        </td>         <td>        </td>    \n",
       "</tr>\n",
       "<tr>\n",
       "  <th> </th>                               <td>(0.0803)</td>         <td>(0.0467)</td>         <td>        </td>         <td>        </td>    \n",
       "</tr>\n",
       "<tr>\n",
       "  <th>elevation_250</th>                   <td>0.2458***</td>         <td>0.2200</td>          <td>0.3003***</td>         <td>0.2416</td>     \n",
       "</tr>\n",
       "<tr>\n",
       "  <th> </th>                               <td>(0.0527)</td>         <td>(0.1951)</td>         <td>(0.0670)</td>         <td>(0.1900)</td>    \n",
       "</tr>\n",
       "<tr>\n",
       "  <th>elevation_250_temp_406</th>           <td>0.0123</td>           <td>-0.0523</td>         <td>        </td>         <td>        </td>    \n",
       "</tr>\n",
       "<tr>\n",
       "  <th> </th>                               <td>(0.0923)</td>         <td>(0.0530)</td>         <td>        </td>         <td>        </td>    \n",
       "</tr>\n",
       "<tr>\n",
       "  <th>urban_avg</th>                       <td>        </td>         <td>4.1575***</td>        <td>        </td>         <td>4.3273***</td>   \n",
       "</tr>\n",
       "<tr>\n",
       "  <th> </th>                               <td>        </td>         <td>(0.4495)</td>         <td>        </td>         <td>(0.4610)</td>    \n",
       "</tr>\n",
       "<tr>\n",
       "  <th>cropland_avg</th>                    <td>        </td>         <td>0.5995***</td>        <td>        </td>         <td>0.6266***</td>   \n",
       "</tr>\n",
       "<tr>\n",
       "  <th> </th>                               <td>        </td>         <td>(0.1369)</td>         <td>        </td>         <td>(0.1419)</td>    \n",
       "</tr>\n",
       "<tr>\n",
       "  <th>pasture_avg</th>                     <td>        </td>         <td>0.3063**</td>         <td>        </td>         <td>0.3021**</td>    \n",
       "</tr>\n",
       "<tr>\n",
       "  <th> </th>                               <td>        </td>         <td>(0.1282)</td>         <td>        </td>         <td>(0.1251)</td>    \n",
       "</tr>\n",
       "<tr>\n",
       "  <th>forest_avg</th>                      <td>        </td>          <td>0.1805</td>          <td>        </td>          <td>0.1704</td>     \n",
       "</tr>\n",
       "<tr>\n",
       "  <th> </th>                               <td>        </td>         <td>(0.1568)</td>         <td>        </td>         <td>(0.1625)</td>    \n",
       "</tr>\n",
       "<tr>\n",
       "  <th>grass_shrubland_avg</th>             <td>        </td>          <td>0.1782</td>          <td>        </td>          <td>0.1532</td>     \n",
       "</tr>\n",
       "<tr>\n",
       "  <th> </th>                               <td>        </td>         <td>(0.1594)</td>         <td>        </td>         <td>(0.1634)</td>    \n",
       "</tr>\n",
       "<tr>\n",
       "  <th>precip_indicator</th>                <td>        </td>         <td>        </td>          <td>-0.0874</td>          <td>-0.0103</td>    \n",
       "</tr>\n",
       "<tr>\n",
       "  <th> </th>                               <td>        </td>         <td>        </td>         <td>(0.0546)</td>         <td>(0.0855)</td>    \n",
       "</tr>\n",
       "<tr>\n",
       "  <th>elevation_250_precip_30</th>         <td>        </td>         <td>        </td>          <td>-0.0881</td>          <td>0.0149</td>     \n",
       "</tr>\n",
       "<tr>\n",
       "  <th> </th>                               <td>        </td>         <td>        </td>         <td>(0.0749)</td>         <td>(0.0961)</td>    \n",
       "</tr>\n",
       "<tr>\n",
       "  <th>===========================</th> <td>================</td> <td>================</td> <td>================</td> <td>================</td>\n",
       "</tr>\n",
       "<tr>\n",
       "  <th>Effects</th>                          <td>Entity</td>           <td>Entity</td>           <td>Entity</td>           <td>Entity</td>     \n",
       "</tr>\n",
       "<tr>\n",
       "  <th></th>                                    <td></td>               <td>Time</td>               <td></td>               <td>Time</td>      \n",
       "</tr>\n",
       "</table><br/><br/>Std. Errors reported in parentheses<br/>id: 0x1470f7f50"
      ],
      "text/plain": [
       "                                        Model Comparison                                       \n",
       "===============================================================================================\n",
       "                                model_A_name     model_B_name     model_C_name     model_D_name\n",
       "-----------------------------------------------------------------------------------------------\n",
       "Dep. Variable                   ln_light2008     ln_light2008     ln_light2008     ln_light2008\n",
       "Estimator                           PanelOLS         PanelOLS         PanelOLS         PanelOLS\n",
       "No. Observations                       51933            51933            51933            51933\n",
       "Cov. Est.                          Clustered        Clustered        Clustered        Clustered\n",
       "R-squared                             0.0793           0.4415           0.0301           0.4276\n",
       "R-Squared (Within)                    0.0793           0.3939           0.0301           0.3855\n",
       "R-Squared (Between)                  -0.0613           0.0420           0.0084           0.0731\n",
       "R-Squared (Overall)                   0.0323           0.2764           0.0229           0.2812\n",
       "F-statistic                           2007.1           2469.7           1032.3           2353.5\n",
       "P-value (F-stat)                      0.0000           0.0000           0.0000           0.0000\n",
       "=========================     ==============   ==============   ==============   ==============\n",
       "const                              1.2553***        0.7991***        1.3363***        0.8108***\n",
       "                                    (0.0308)         (0.1438)         (0.0316)         (0.1511)\n",
       "temp_406                           0.6416***        0.2777***                                  \n",
       "                                    (0.0803)         (0.0467)                                  \n",
       "elevation_250                      0.2458***           0.2200        0.3003***           0.2416\n",
       "                                    (0.0527)         (0.1951)         (0.0670)         (0.1900)\n",
       "elevation_250_temp_406                0.0123          -0.0523                                  \n",
       "                                    (0.0923)         (0.0530)                                  \n",
       "urban_avg                                           4.1575***                         4.3273***\n",
       "                                                     (0.4495)                          (0.4610)\n",
       "cropland_avg                                        0.5995***                         0.6266***\n",
       "                                                     (0.1369)                          (0.1419)\n",
       "pasture_avg                                          0.3063**                          0.3021**\n",
       "                                                     (0.1282)                          (0.1251)\n",
       "forest_avg                                             0.1805                            0.1704\n",
       "                                                     (0.1568)                          (0.1625)\n",
       "grass_shrubland_avg                                    0.1782                            0.1532\n",
       "                                                     (0.1594)                          (0.1634)\n",
       "precip_indicator                                                       -0.0874          -0.0103\n",
       "                                                                      (0.0546)         (0.0855)\n",
       "elevation_250_precip_30                                                -0.0881           0.0149\n",
       "                                                                      (0.0749)         (0.0961)\n",
       "=========================== ================ ================ ================ ================\n",
       "Effects                               Entity           Entity           Entity           Entity\n",
       "                                                         Time                              Time\n",
       "-----------------------------------------------------------------------------------------------\n",
       "\n",
       "Std. Errors reported in parentheses\n",
       "PanelModelComparison, id: 0x1470f7f50"
      ]
     },
     "execution_count": 46,
     "metadata": {},
     "output_type": "execute_result"
    }
   ],
   "source": [
    "from linearmodels.panel import compare\n",
    "# https://bashtage.github.io/linearmodels/panel/panel/linearmodels.panel.results.compare.html?highlight=compare\n",
    "\n",
    "compare({'model_A_name': results1, 'model_B_name': results2,\n",
    "         'model_C_name': results3, 'model_D_name': results4}, precision='std_errors', stars = True)"
   ]
  },
  {
   "cell_type": "markdown",
   "metadata": {},
   "source": [
    "---"
   ]
  },
  {
   "cell_type": "markdown",
   "metadata": {},
   "source": [
    "## 3. Regression: Wildfire x Determinants"
   ]
  },
  {
   "cell_type": "markdown",
   "metadata": {},
   "source": [
    "### Preparation\n",
    "\n",
    "Include years"
   ]
  },
  {
   "cell_type": "code",
   "execution_count": 47,
   "metadata": {},
   "outputs": [
    {
     "data": {
      "text/plain": [
       "0.10408864647130708"
      ]
     },
     "execution_count": 47,
     "metadata": {},
     "output_type": "execute_result"
    }
   ],
   "source": [
    "## Extreme Heat: 40.6\n",
    "\n",
    "raw_df_subset.loc[raw_df_subset['avg_temp'].isna(), 'temp_406'] = 0\n",
    "raw_df_subset.loc[raw_df_subset['avg_temp'] > 0, 'temp_406'] = 1\n",
    "\n",
    "raw_df_subset['temp_406'].value_counts()[1] / raw_df_subset['temp_406'].value_counts()[0]"
   ]
  },
  {
   "cell_type": "code",
   "execution_count": 48,
   "metadata": {},
   "outputs": [
    {
     "data": {
      "text/plain": [
       "0.1162694831962504"
      ]
     },
     "execution_count": 48,
     "metadata": {},
     "output_type": "execute_result"
    }
   ],
   "source": [
    "## Extreme Low Precipitation\n",
    "\n",
    "threshold = 30\n",
    "\n",
    "raw_df_subset.loc[raw_df_subset['precip'] < threshold, 'precip_' + str(threshold)] = 1\n",
    "raw_df_subset.loc[raw_df_subset['precip'] >= threshold, 'precip_' + str(threshold)] = 0\n",
    "\n",
    "raw_df_subset['precip_30'].sum() / len(raw_df_subset['precip_30'])"
   ]
  },
  {
   "cell_type": "code",
   "execution_count": 49,
   "metadata": {},
   "outputs": [],
   "source": [
    "raw_df_subset['burned_area'] /= 100"
   ]
  },
  {
   "cell_type": "code",
   "execution_count": 50,
   "metadata": {},
   "outputs": [],
   "source": [
    "# https://stackoverflow.com/questions/24195432/fixed-effect-in-pandas-or-statsmodels\n",
    "\n",
    "condition = (raw_df_subset['burned_area'] > 0) # or burned_area_city\n",
    "# Full sample: 308,086 # Burned Area City: 220,645 # Burned Area: 185,601 \n",
    "# Full sample: 308,086 # Count City: 220,645 # Count: 108,034\n",
    "\n",
    "data_regression = raw_df_subset[condition]\n",
    "\n",
    "# Set target \n",
    "target = ['ln_light'] \n",
    "\n",
    "# Set features\n",
    "features = ['burned_area']\n",
    "# burned_area # count # temp_406 # precip_30\n",
    "\n",
    "fixed_effects = ['grump_Countryeng', 'grid_cell_area']\n",
    "\n",
    "data_regression = data_regression.dropna(subset = target + features + fixed_effects)\n",
    "data_regression['grump_Countryeng'] = data_regression['grump_Countryeng'].astype('category')\n",
    "data_regression['grump_Countryeng'] = data_regression['grump_Countryeng'].cat.codes\n",
    "#data_regression = data_regression.reset_index().set_index(['grump_Countryeng','grid_cell'])\n",
    "data_regression = data_regression.reset_index().set_index(['grump_Countryeng', 'grump_URBID'])\n",
    "\n",
    "Y = data_regression[target]\n",
    "X = data_regression[features]\n",
    "X = sm.add_constant(X)\n",
    "\n",
    "dummies = pd.get_dummies(data=data_regression['grid_year'], drop_first=True)\n",
    "X = pd.concat([X, dummies], axis=1)"
   ]
  },
  {
   "cell_type": "code",
   "execution_count": 51,
   "metadata": {},
   "outputs": [
    {
     "name": "stdout",
     "output_type": "stream",
     "text": [
      "                          PanelOLS Estimation Summary                           \n",
      "================================================================================\n",
      "Dep. Variable:               ln_light   R-squared:                        0.0097\n",
      "Estimator:                   PanelOLS   R-squared (Between):              0.0360\n",
      "No. Observations:              185601   R-squared (Within):               0.0097\n",
      "Date:                Wed, Jan 31 2024   R-squared (Overall):              0.0184\n",
      "Time:                        13:28:02   Log-likelihood                -2.168e+05\n",
      "Cov. Estimator:             Clustered                                           \n",
      "                                        F-statistic:                      749.28\n",
      "Entities:                         184   P-value                           0.0000\n",
      "Avg Obs:                       1008.7   Distribution:                F(6,185411)\n",
      "Min Obs:                       1.0000                                           \n",
      "Max Obs:                      2.9e+04   F-statistic (robust):             185.54\n",
      "                                        P-value                           0.0000\n",
      "Time periods:                   28310   Distribution:                F(6,185411)\n",
      "Avg Obs:                       6.5560                                           \n",
      "Min Obs:                       1.0000                                           \n",
      "Max Obs:                       381.00                                           \n",
      "                                                                                \n",
      "                              Parameter Estimates                              \n",
      "===============================================================================\n",
      "             Parameter  Std. Err.     T-stat    P-value    Lower CI    Upper CI\n",
      "-------------------------------------------------------------------------------\n",
      "const           1.1731     0.0191     61.276     0.0000      1.1356      1.2107\n",
      "burned_area    -0.8777     0.4283    -2.0493     0.0404     -1.7172     -0.0383\n",
      "2004            0.0173     0.0108     1.5999     0.1096     -0.0039      0.0385\n",
      "2005            0.0619     0.0116     5.3114     0.0000      0.0390      0.0847\n",
      "2006            0.0653     0.0197     3.3113     0.0009      0.0266      0.1039\n",
      "2007            0.0474     0.0231     2.0486     0.0405      0.0020      0.0927\n",
      "2008            0.2180     0.0250     8.7356     0.0000      0.1691      0.2670\n",
      "===============================================================================\n",
      "\n",
      "F-test for Poolability: 450.12\n",
      "P-value: 0.0000\n",
      "Distribution: F(183,185411)\n",
      "\n",
      "Included effects: Entity\n"
     ]
    }
   ],
   "source": [
    "panel_ols_model = PanelOLS(Y, X, weights=data_regression['grid_cell_area'], \n",
    "               entity_effects=True, time_effects=False, check_rank=False, drop_absorbed=True)\n",
    "results = panel_ols_model.fit(cov_type='clustered', cluster_entity=True)\n",
    "#results = panel_ols_model.fit(cov_type='robust')\n",
    "print(results)"
   ]
  },
  {
   "cell_type": "code",
   "execution_count": 52,
   "metadata": {},
   "outputs": [
    {
     "name": "stdout",
     "output_type": "stream",
     "text": [
      "                          PanelOLS Estimation Summary                           \n",
      "================================================================================\n",
      "Dep. Variable:               ln_light   R-squared:                        0.0385\n",
      "Estimator:                   PanelOLS   R-squared (Between):              0.0135\n",
      "No. Observations:              185601   R-squared (Within):               0.0091\n",
      "Date:                Wed, Jan 31 2024   R-squared (Overall):              0.0105\n",
      "Time:                        13:28:15   Log-likelihood                -6.604e+04\n",
      "Cov. Estimator:             Clustered                                           \n",
      "                                        F-statistic:                      3711.9\n",
      "Entities:                         184   P-value                           0.0000\n",
      "Avg Obs:                       1008.7   Distribution:                F(6,157102)\n",
      "Min Obs:                       1.0000                                           \n",
      "Max Obs:                      2.9e+04   F-statistic (robust):             57.617\n",
      "                                        P-value                           0.0000\n",
      "Time periods:                   28310   Distribution:                F(6,157102)\n",
      "Avg Obs:                       6.5560                                           \n",
      "Min Obs:                       1.0000                                           \n",
      "Max Obs:                       381.00                                           \n",
      "                                                                                \n",
      "                              Parameter Estimates                              \n",
      "===============================================================================\n",
      "             Parameter  Std. Err.     T-stat    P-value    Lower CI    Upper CI\n",
      "-------------------------------------------------------------------------------\n",
      "const           1.1723     0.0122     96.441     0.0000      1.1484      1.1961\n",
      "burned_area    -0.3489     0.1355    -2.5757     0.0100     -0.6144     -0.0834\n",
      "2004            0.0126     0.0059     2.1427     0.0321      0.0011      0.0242\n",
      "2005            0.0482     0.0082     5.9060     0.0000      0.0322      0.0641\n",
      "2006            0.0519     0.0141     3.6793     0.0002      0.0243      0.0796\n",
      "2007            0.0389     0.0180     2.1628     0.0306      0.0036      0.0742\n",
      "2008            0.2121     0.0246     8.6102     0.0000      0.1639      0.2604\n",
      "===============================================================================\n",
      "\n",
      "F-test for Poolability: 34.907\n",
      "P-value: 0.0000\n",
      "Distribution: F(28492,157102)\n",
      "\n",
      "Included effects: Entity, Time\n"
     ]
    }
   ],
   "source": [
    "panel_ols_model = PanelOLS(Y, X, weights=data_regression['grid_cell_area'], \n",
    "               entity_effects=True, time_effects=True, check_rank=False, drop_absorbed=True)\n",
    "results = panel_ols_model.fit(cov_type='clustered', cluster_entity=True)\n",
    "#results = panel_ols_model.fit(cov_type='robust')\n",
    "print(results)"
   ]
  },
  {
   "cell_type": "markdown",
   "metadata": {},
   "source": [
    "### Interpretation"
   ]
  },
  {
   "cell_type": "code",
   "execution_count": 53,
   "metadata": {},
   "outputs": [
    {
     "data": {
      "text/plain": [
       "'10 percent incrase in burned area:'"
      ]
     },
     "metadata": {},
     "output_type": "display_data"
    },
    {
     "data": {
      "text/plain": [
       "-0.08402847405129577"
      ]
     },
     "metadata": {},
     "output_type": "display_data"
    },
    {
     "data": {
      "text/plain": [
       "'10 percent incrase in burned area:'"
      ]
     },
     "metadata": {},
     "output_type": "display_data"
    },
    {
     "data": {
      "text/plain": [
       "-0.03428836130451818"
      ]
     },
     "metadata": {},
     "output_type": "display_data"
    }
   ],
   "source": [
    "display('10 percent incrase in burned area:', np.exp(-0.8777*0.1)-1)\n",
    "display('10 percent incrase in burned area:', np.exp(-0.3489*0.1)-1)"
   ]
  },
  {
   "cell_type": "code",
   "execution_count": 54,
   "metadata": {},
   "outputs": [
    {
     "name": "stdout",
     "output_type": "stream",
     "text": [
      "1 Std Effect: 22.198\n",
      "1 Std Effect: 0.039\n"
     ]
    },
    {
     "data": {
      "text/plain": [
       "'1 SD in burned area:'"
      ]
     },
     "metadata": {},
     "output_type": "display_data"
    },
    {
     "data": {
      "text/plain": [
       "-0.013514941889887"
      ]
     },
     "metadata": {},
     "output_type": "display_data"
    },
    {
     "data": {
      "text/plain": [
       "'1 SD in count:'"
      ]
     },
     "metadata": {},
     "output_type": "display_data"
    },
    {
     "data": {
      "text/plain": [
       "-0.017601648869328135"
      ]
     },
     "metadata": {},
     "output_type": "display_data"
    }
   ],
   "source": [
    "print('1 Std Effect:',\n",
    "      round(raw_df_subset[condition]['count'].std(), 3))\n",
    "\n",
    "print('1 Std Effect:',\n",
    "      round(raw_df_subset[condition]['burned_area'].std(), 3))\n",
    "\n",
    "display('1 SD in burned area:', np.exp(-0.3489*0.039)-1)\n",
    "display('1 SD in count:', np.exp(-0.0008*22.198)-1)"
   ]
  },
  {
   "cell_type": "code",
   "execution_count": 55,
   "metadata": {},
   "outputs": [
    {
     "name": "stdout",
     "output_type": "stream",
     "text": [
      "1 Std Effect: -1.101\n",
      "1 Std Effect: 0.01\n"
     ]
    }
   ],
   "source": [
    "print('1 Std Effect:',\n",
    "      round(raw_df_subset.burned_area.std() * results.params['burned_area'] * 100, 3))\n",
    "\n",
    "print('1 Std Effect:',\n",
    "      round(raw_df_subset.burned_area.mean(),3))"
   ]
  },
  {
   "cell_type": "markdown",
   "metadata": {},
   "source": [
    "--- "
   ]
  },
  {
   "cell_type": "markdown",
   "metadata": {},
   "source": [
    "## 4. Regressions: Light x Wildfire Lags"
   ]
  },
  {
   "cell_type": "code",
   "execution_count": 56,
   "metadata": {},
   "outputs": [
    {
     "name": "stdout",
     "output_type": "stream",
     "text": [
      "Unaffacted:  18.2 %\n",
      "Affected at least once:  81.8 %\n",
      "Affected multiple times:  87.6 %\n"
     ]
    }
   ],
   "source": [
    "## Locations that were affected by a Fire\n",
    "condition = (raw_df_subset['burned_area'] > 0)\n",
    "#condition = condition & (raw_df_subset['existing'] == 1)\n",
    "fire_count = raw_df_subset[condition].groupby(['grid_cell']).burned_area.count()\n",
    "\n",
    "## Locations that were affected and unaffected by a Fire\n",
    "number_affected = len(fire_count)\n",
    "number_unaffected = len(raw_df_subset.groupby(['grid_cell'])['burned_area']) - len(fire_count)\n",
    "\n",
    "## Percent of Locations that were affected multiple times within the sample period\n",
    "print('Unaffacted: ', round(number_unaffected / (number_affected + number_unaffected), 3) * 100, '%')\n",
    "print('Affected at least once: ', round(number_affected / (number_affected + number_unaffected), 3) * 100, '%')\n",
    "print('Affected multiple times: ', round((fire_count > 1).sum() / number_affected, 3) * 100, '%')\n",
    "# 9461 vs 42472"
   ]
  },
  {
   "cell_type": "markdown",
   "metadata": {},
   "source": [
    "---"
   ]
  },
  {
   "cell_type": "code",
   "execution_count": 57,
   "metadata": {},
   "outputs": [],
   "source": [
    "## Create Lags of Burned Area\n",
    "\n",
    "# raw_df_subset['burned_city_standard'] = (raw_df_subset['burned_area_city'] - raw_df_subset['burned_area_city'].mean() ) / raw_df_subset['burned_area_city'].std()\n",
    "\n",
    "raw_df_subset['burned_city_lag1'] = raw_df_subset['burned_area'].shift(1)\n",
    "raw_df_subset['burned_city_lag2'] = raw_df_subset['burned_area'].shift(2)\n",
    "raw_df_subset['burned_city_lag3'] = raw_df_subset['burned_area'].shift(3)\n",
    "raw_df_subset['burned_city_lag4'] = raw_df_subset['burned_area'].shift(4)\n",
    "raw_df_subset['burned_city_lag5'] = raw_df_subset['burned_area'].shift(5)\n",
    "raw_df_subset['burned_city_lag6'] = raw_df_subset['burned_area'].shift(6)\n"
   ]
  },
  {
   "cell_type": "code",
   "execution_count": 58,
   "metadata": {},
   "outputs": [],
   "source": [
    "## Create Lags of Burned Area\n",
    "raw_df_subset.loc[raw_df_subset['count'].isna(), 'count'] = 0\n",
    "\n",
    "raw_df_subset['count_city_lag1'] = raw_df_subset['count'].shift(1)\n",
    "raw_df_subset['count_city_lag2'] = raw_df_subset['count'].shift(2)\n",
    "raw_df_subset['count_city_lag3'] = raw_df_subset['count'].shift(3)\n",
    "raw_df_subset['count_city_lag4'] = raw_df_subset['count'].shift(4)\n",
    "raw_df_subset['count_city_lag5'] = raw_df_subset['count'].shift(5)\n",
    "raw_df_subset['count_city_lag6'] = raw_df_subset['count'].shift(6)"
   ]
  },
  {
   "cell_type": "code",
   "execution_count": 59,
   "metadata": {},
   "outputs": [],
   "source": [
    "# https://stackoverflow.com/questions/24195432/fixed-effect-in-pandas-or-statsmodels\n",
    "\n",
    "# condition = (raw_df_subset['ocean'] != 1) & (raw_df_subset['urban'] > 0)\n",
    "condition = (raw_df_subset['burned_area'] > 0)\n",
    "# or burned_area, burned_area_city\n",
    "# Full sample: 308,086 # Burned Area: 185,601 # Burned Area City: 220,645\n",
    "\n",
    "data_regression = raw_df_subset[condition]\n",
    "\n",
    "# Set target \n",
    "target = ['ln_light'] \n",
    "# Set features\n",
    "\n",
    "features = ['burned_area'] \n",
    "# burned_area # burned_city_lag1\n",
    "# count_city # count_city_lag1\n",
    "                       \n",
    "fixed_effects = ['grump_Countryeng', 'grid_cell_area']\n",
    "\n",
    "data_regression = data_regression.dropna(subset = target + features + fixed_effects)\n",
    "data_regression['grump_Countryeng'] = data_regression['grump_Countryeng'].astype('category')\n",
    "data_regression['grump_Countryeng'] = data_regression['grump_Countryeng'].cat.codes\n",
    "data_regression = data_regression.reset_index().set_index(['grid_cell', 'grump_Countryeng'])\n",
    "data_regression = data_regression.reset_index().set_index(['grump_Countryeng', 'grump_URBID'])\n",
    "\n",
    "Y = data_regression[target]\n",
    "X = data_regression[features]\n",
    "X = sm.add_constant(X)\n",
    "\n",
    "dummies = pd.get_dummies(data=data_regression['grid_year'], drop_first=True)\n",
    "X = pd.concat([X, dummies], axis=1)"
   ]
  },
  {
   "cell_type": "code",
   "execution_count": 60,
   "metadata": {},
   "outputs": [
    {
     "name": "stdout",
     "output_type": "stream",
     "text": [
      "                          PanelOLS Estimation Summary                           \n",
      "================================================================================\n",
      "Dep. Variable:               ln_light   R-squared:                        0.0427\n",
      "Estimator:                   PanelOLS   R-squared (Between):              0.0625\n",
      "No. Observations:              185601   R-squared (Within):               0.0088\n",
      "Date:                Wed, Jan 31 2024   R-squared (Overall):              0.0266\n",
      "Time:                        13:28:18   Log-likelihood                -8.695e+04\n",
      "Cov. Estimator:             Clustered                                           \n",
      "                                        F-statistic:                      2413.5\n",
      "Entities:                         184   P-value                           0.0000\n",
      "Avg Obs:                       1008.7   Distribution:                F(6,157285)\n",
      "Min Obs:                       1.0000                                           \n",
      "Max Obs:                      2.9e+04   F-statistic (robust):             50.962\n",
      "                                        P-value                           0.0000\n",
      "Time periods:                   28310   Distribution:                F(6,157285)\n",
      "Avg Obs:                       6.5560                                           \n",
      "Min Obs:                       1.0000                                           \n",
      "Max Obs:                       381.00                                           \n",
      "                                                                                \n",
      "                              Parameter Estimates                              \n",
      "===============================================================================\n",
      "             Parameter  Std. Err.     T-stat    P-value    Lower CI    Upper CI\n",
      "-------------------------------------------------------------------------------\n",
      "const           1.1911     0.0143     83.582     0.0000      1.1632      1.2190\n",
      "burned_area    -1.5249     0.2094    -7.2841     0.0000     -1.9353     -1.1146\n",
      "2004            0.0114     0.0063     1.8092     0.0704     -0.0010      0.0238\n",
      "2005            0.0500     0.0082     6.0637     0.0000      0.0338      0.0662\n",
      "2006            0.0517     0.0139     3.7217     0.0002      0.0245      0.0789\n",
      "2007            0.0396     0.0185     2.1350     0.0328      0.0032      0.0759\n",
      "2008            0.2127     0.0240     8.8621     0.0000      0.1657      0.2597\n",
      "===============================================================================\n",
      "\n",
      "F-test for Poolability: 26.955\n",
      "P-value: 0.0000\n",
      "Distribution: F(28309,157285)\n",
      "\n",
      "Included effects: Time\n"
     ]
    }
   ],
   "source": [
    "panel_ols_model = PanelOLS(Y, X, weights=data_regression['grid_cell_area'], \n",
    "               entity_effects=False, time_effects=True, check_rank=False, drop_absorbed=True)\n",
    "#results = panel_ols_model.fit(cov_type='clustered', cluster_time=True)\n",
    "results = panel_ols_model.fit(cov_type='clustered', cluster_entity=True)\n",
    "#results = panel_ols_model.fit(cov_type='robust')\n",
    "print(results)"
   ]
  },
  {
   "cell_type": "code",
   "execution_count": 61,
   "metadata": {},
   "outputs": [
    {
     "name": "stdout",
     "output_type": "stream",
     "text": [
      "                          PanelOLS Estimation Summary                           \n",
      "================================================================================\n",
      "Dep. Variable:               ln_light   R-squared:                        0.0385\n",
      "Estimator:                   PanelOLS   R-squared (Between):              0.0135\n",
      "No. Observations:              185601   R-squared (Within):               0.0091\n",
      "Date:                Wed, Jan 31 2024   R-squared (Overall):              0.0105\n",
      "Time:                        13:28:30   Log-likelihood                -6.604e+04\n",
      "Cov. Estimator:             Clustered                                           \n",
      "                                        F-statistic:                      3711.9\n",
      "Entities:                         184   P-value                           0.0000\n",
      "Avg Obs:                       1008.7   Distribution:                F(6,157102)\n",
      "Min Obs:                       1.0000                                           \n",
      "Max Obs:                      2.9e+04   F-statistic (robust):             57.617\n",
      "                                        P-value                           0.0000\n",
      "Time periods:                   28310   Distribution:                F(6,157102)\n",
      "Avg Obs:                       6.5560                                           \n",
      "Min Obs:                       1.0000                                           \n",
      "Max Obs:                       381.00                                           \n",
      "                                                                                \n",
      "                              Parameter Estimates                              \n",
      "===============================================================================\n",
      "             Parameter  Std. Err.     T-stat    P-value    Lower CI    Upper CI\n",
      "-------------------------------------------------------------------------------\n",
      "const           1.1723     0.0122     96.441     0.0000      1.1484      1.1961\n",
      "burned_area    -0.3489     0.1355    -2.5757     0.0100     -0.6144     -0.0834\n",
      "2004            0.0126     0.0059     2.1427     0.0321      0.0011      0.0242\n",
      "2005            0.0482     0.0082     5.9060     0.0000      0.0322      0.0641\n",
      "2006            0.0519     0.0141     3.6793     0.0002      0.0243      0.0796\n",
      "2007            0.0389     0.0180     2.1628     0.0306      0.0036      0.0742\n",
      "2008            0.2121     0.0246     8.6102     0.0000      0.1639      0.2604\n",
      "===============================================================================\n",
      "\n",
      "F-test for Poolability: 34.907\n",
      "P-value: 0.0000\n",
      "Distribution: F(28492,157102)\n",
      "\n",
      "Included effects: Entity, Time\n"
     ]
    }
   ],
   "source": [
    "panel_ols_model = PanelOLS(Y, X, weights=data_regression['grid_cell_area'], \n",
    "               entity_effects=True, time_effects=True, check_rank=False, drop_absorbed=True)\n",
    "results = panel_ols_model.fit(cov_type='clustered', cluster_entity=True)\n",
    "#results = panel_ols_model.fit(cov_type='robust')\n",
    "print(results)"
   ]
  },
  {
   "cell_type": "code",
   "execution_count": 62,
   "metadata": {},
   "outputs": [],
   "source": [
    "#### Loop\n",
    "\n",
    "feature_list = ['burned_area', 'burned_city_lag1', 'burned_city_lag2', 'burned_city_lag3', 'burned_city_lag4', \n",
    "               'burned_city_lag5', 'burned_city_lag6']\n",
    "#feature_list = ['count', 'count_city_lag1', 'count_city_lag2', 'count_city_lag3', 'count_city_lag4',\n",
    "#               'count_city_lag5', 'count_city_lag6']\n",
    "\n",
    "regression4_results = pd.DataFrame(columns=['params' , 'std_errors', 'pvalues'])\n",
    "\n",
    "for index in feature_list:\n",
    "    condition = (raw_df_subset['burned_area'] > 0) # burned_area # count\n",
    "    data_regression = raw_df_subset[condition]\n",
    "\n",
    "    target = ['ln_light'] \n",
    "    features = [index] \n",
    "                       \n",
    "    fixed_effects = ['grump_Countryeng', 'grid_cell_area']\n",
    "\n",
    "    data_regression = data_regression.dropna(subset = target + features + fixed_effects)\n",
    "    data_regression['grump_Countryeng'] = data_regression['grump_Countryeng'].astype('category')\n",
    "    data_regression['grump_Countryeng'] = data_regression['grump_Countryeng'].cat.codes\n",
    "    #data_regression = data_regression.reset_index().set_index(['grump_Countryeng', 'grid_cell'])\n",
    "    data_regression = data_regression.reset_index().set_index(['grump_Countryeng', 'grump_URBID'])\n",
    "    \n",
    "    Y = data_regression[target]\n",
    "    X = data_regression[features]\n",
    "    X = sm.add_constant(X)\n",
    "\n",
    "    dummies = pd.get_dummies(data=data_regression['grid_year'], drop_first=True)\n",
    "    X = pd.concat([X, dummies], axis=1)\n",
    "    \n",
    "    panel_ols_model = PanelOLS(Y, X, weights=data_regression['grid_cell_area'], \n",
    "                               entity_effects=True, time_effects=True, check_rank=False, drop_absorbed=True)\n",
    "    results = panel_ols_model.fit(cov_type='clustered', cluster_entity=True)\n",
    "    #results = panel_ols_model.fit(cov_type='robust')\n",
    "    \n",
    "    regression4_results.loc[index, 'params'] = np.round(results.params[1:2].values[0],4)\n",
    "    regression4_results.loc[index, 'std_errors'] = np.round(results.std_errors[1:2].values[0],4)\n",
    "    regression4_results.loc[index, 'pvalues'] = np.round(results.pvalues[1:2].values[0],4)"
   ]
  },
  {
   "cell_type": "code",
   "execution_count": 63,
   "metadata": {},
   "outputs": [
    {
     "data": {
      "text/html": [
       "<div>\n",
       "<style scoped>\n",
       "    .dataframe tbody tr th:only-of-type {\n",
       "        vertical-align: middle;\n",
       "    }\n",
       "\n",
       "    .dataframe tbody tr th {\n",
       "        vertical-align: top;\n",
       "    }\n",
       "\n",
       "    .dataframe thead th {\n",
       "        text-align: right;\n",
       "    }\n",
       "</style>\n",
       "<table border=\"1\" class=\"dataframe\">\n",
       "  <thead>\n",
       "    <tr style=\"text-align: right;\">\n",
       "      <th></th>\n",
       "      <th>params</th>\n",
       "      <th>std_errors</th>\n",
       "      <th>pvalues</th>\n",
       "    </tr>\n",
       "  </thead>\n",
       "  <tbody>\n",
       "    <tr>\n",
       "      <th>burned_area</th>\n",
       "      <td>-0.3489</td>\n",
       "      <td>0.1355</td>\n",
       "      <td>0.01</td>\n",
       "    </tr>\n",
       "    <tr>\n",
       "      <th>burned_city_lag1</th>\n",
       "      <td>-0.1686</td>\n",
       "      <td>0.1239</td>\n",
       "      <td>0.1735</td>\n",
       "    </tr>\n",
       "    <tr>\n",
       "      <th>burned_city_lag2</th>\n",
       "      <td>-0.2269</td>\n",
       "      <td>0.1071</td>\n",
       "      <td>0.0341</td>\n",
       "    </tr>\n",
       "    <tr>\n",
       "      <th>burned_city_lag3</th>\n",
       "      <td>-0.166</td>\n",
       "      <td>0.1043</td>\n",
       "      <td>0.1115</td>\n",
       "    </tr>\n",
       "    <tr>\n",
       "      <th>burned_city_lag4</th>\n",
       "      <td>-0.1581</td>\n",
       "      <td>0.1018</td>\n",
       "      <td>0.1204</td>\n",
       "    </tr>\n",
       "    <tr>\n",
       "      <th>burned_city_lag5</th>\n",
       "      <td>-0.1971</td>\n",
       "      <td>0.0981</td>\n",
       "      <td>0.0444</td>\n",
       "    </tr>\n",
       "    <tr>\n",
       "      <th>burned_city_lag6</th>\n",
       "      <td>-0.2149</td>\n",
       "      <td>0.1028</td>\n",
       "      <td>0.0365</td>\n",
       "    </tr>\n",
       "  </tbody>\n",
       "</table>\n",
       "</div>"
      ],
      "text/plain": [
       "                  params std_errors pvalues\n",
       "burned_area      -0.3489     0.1355    0.01\n",
       "burned_city_lag1 -0.1686     0.1239  0.1735\n",
       "burned_city_lag2 -0.2269     0.1071  0.0341\n",
       "burned_city_lag3  -0.166     0.1043  0.1115\n",
       "burned_city_lag4 -0.1581     0.1018  0.1204\n",
       "burned_city_lag5 -0.1971     0.0981  0.0444\n",
       "burned_city_lag6 -0.2149     0.1028  0.0365"
      ]
     },
     "metadata": {},
     "output_type": "display_data"
    }
   ],
   "source": [
    "display(regression4_results)"
   ]
  },
  {
   "cell_type": "markdown",
   "metadata": {},
   "source": [
    "---"
   ]
  },
  {
   "cell_type": "code",
   "execution_count": 64,
   "metadata": {},
   "outputs": [
    {
     "name": "stdout",
     "output_type": "stream",
     "text": [
      "1 Std Effect: 22.198\n",
      "1 Std Effect: 0.032\n"
     ]
    }
   ],
   "source": [
    "print('1 Std Effect:',\n",
    "      round(raw_df_subset[condition]['count'].std(), 3))\n",
    "\n",
    "print('1 Std Effect:',\n",
    "      round(raw_df_subset['burned_area'].std(), 3))"
   ]
  },
  {
   "cell_type": "code",
   "execution_count": 65,
   "metadata": {},
   "outputs": [
    {
     "data": {
      "text/plain": [
       "17.84312395209908"
      ]
     },
     "execution_count": 65,
     "metadata": {},
     "output_type": "execute_result"
    }
   ],
   "source": [
    "raw_df_subset['count'].std() # 0.031555302 # 17.84312395209908"
   ]
  },
  {
   "cell_type": "code",
   "execution_count": 66,
   "metadata": {},
   "outputs": [
    {
     "data": {
      "text/plain": [
       "90.63645"
      ]
     },
     "execution_count": 66,
     "metadata": {},
     "output_type": "execute_result"
    }
   ],
   "source": [
    "(raw_df_subset[condition].burned_area*100).max()"
   ]
  },
  {
   "cell_type": "code",
   "execution_count": 67,
   "metadata": {},
   "outputs": [
    {
     "data": {
      "text/plain": [
       "-0.03428836130451818"
      ]
     },
     "execution_count": 67,
     "metadata": {},
     "output_type": "execute_result"
    }
   ],
   "source": [
    "# https://www.wiwi.uni-frankfurt.de/profs/fuchs/staff/reimers/Script_ex.pdf\n",
    "\n",
    "np.exp(-0.0712*0.1) - 1 # 10 percent increase -> -0.7 percent\n",
    "#np.exp(-0.8777*0.1) - 1 # 10 percent increase -> -0.7 percent\n",
    "\n",
    "np.exp(-0.0712*0.032) - 1 # 10 percent increase -> -0.28 percent\n",
    "#np.exp(-0.8777*0.039) - 1 # 10 percent increase -> -0.7 percent\n",
    "\n",
    "np.exp(-0.3489*0.1) - 1 # 10 percent increase -> -0.28 percent\n"
   ]
  },
  {
   "cell_type": "code",
   "execution_count": 68,
   "metadata": {},
   "outputs": [
    {
     "data": {
      "text/plain": [
       "-0.003561642251729724"
      ]
     },
     "execution_count": 68,
     "metadata": {},
     "output_type": "execute_result"
    }
   ],
   "source": [
    "np.exp(-0.0712*0.031555302) - 1 # 10 percent increase -> -0.28 percent\n",
    "# -0.002244215476827738\n",
    "np.exp(-0.0002*17.84) - 1 # 10 percent increase -> -0.28 percent\n",
    "# -0.003562264816675098"
   ]
  },
  {
   "cell_type": "code",
   "execution_count": 69,
   "metadata": {},
   "outputs": [
    {
     "data": {
      "text/plain": [
       "-0.08935305182200515"
      ]
     },
     "execution_count": 69,
     "metadata": {},
     "output_type": "execute_result"
    }
   ],
   "source": [
    "np.exp(-0.0002*468) - 1 # 10 percent increase -> -0.55 percent"
   ]
  },
  {
   "cell_type": "code",
   "execution_count": 70,
   "metadata": {},
   "outputs": [
    {
     "data": {
      "text/plain": [
       "0.0059720855206251144"
      ]
     },
     "execution_count": 70,
     "metadata": {},
     "output_type": "execute_result"
    }
   ],
   "source": [
    "raw_df_subset[condition]['burned_area'].quantile(0.6)"
   ]
  },
  {
   "cell_type": "code",
   "execution_count": 71,
   "metadata": {},
   "outputs": [
    {
     "data": {
      "text/plain": [
       "-0.011236394805001826"
      ]
     },
     "execution_count": 71,
     "metadata": {},
     "output_type": "execute_result"
    }
   ],
   "source": [
    "np.exp(-0.0113) - 1"
   ]
  },
  {
   "cell_type": "markdown",
   "metadata": {},
   "source": [
    "---"
   ]
  },
  {
   "cell_type": "markdown",
   "metadata": {},
   "source": [
    "## 5. Regressions: Light x Wildfire Interaction Lags"
   ]
  },
  {
   "cell_type": "code",
   "execution_count": 72,
   "metadata": {},
   "outputs": [],
   "source": [
    "# data_regression.light.quantile(np.linspace(.1, 1, 18, 0))\n",
    "# data_regression.light.quantile(np.linspace(.95, 1, 18, 0))\n",
    "\n",
    "#condition = (raw_df_subset['ocean'] != 1) & (raw_df_subset['urban'] > 0)\n",
    "#data_regression = raw_df_subset[condition]\n",
    "#data_regression = data_regression.groupby(['cell']).mean() \n",
    "\n",
    "#condition = (data_regression['burned_area'] == 0)\n",
    "#data_regression[condition]"
   ]
  },
  {
   "cell_type": "markdown",
   "metadata": {
    "tags": []
   },
   "source": [
    "### Figure: Recovery over Time"
   ]
  },
  {
   "cell_type": "code",
   "execution_count": 73,
   "metadata": {},
   "outputs": [],
   "source": [
    "confidence_level = 0.90"
   ]
  },
  {
   "cell_type": "code",
   "execution_count": 74,
   "metadata": {},
   "outputs": [],
   "source": [
    "## Create Lags of Burned Area\n",
    "\n",
    "raw_df_subset['burned_city_lag1'] = raw_df_subset['burned_area'].shift(1)\n",
    "raw_df_subset['burned_city_lag2'] = raw_df_subset['burned_area'].shift(2)\n",
    "raw_df_subset['burned_city_lag3'] = raw_df_subset['burned_area'].shift(3)\n",
    "raw_df_subset['burned_city_lag4'] = raw_df_subset['burned_area'].shift(4)\n",
    "\n",
    "raw_df_subset['burned_city_lead1'] = raw_df_subset['burned_area'].shift(-1)\n",
    "raw_df_subset['burned_city_lead2'] = raw_df_subset['burned_area'].shift(-2)"
   ]
  },
  {
   "cell_type": "code",
   "execution_count": 75,
   "metadata": {},
   "outputs": [],
   "source": [
    "feature_list = ['burned_city_lead2', 'burned_city_lead1', 'burned_area',\n",
    "                'burned_city_lag1', 'burned_city_lag2', 'burned_city_lag3', 'burned_city_lag4']\n",
    "\n",
    "results_df = pd.DataFrame(columns = ['params', 'lower', 'upper'])\n",
    "\n",
    "for feature in feature_list:\n",
    "    target = ['ln_light'] \n",
    "    features = [feature]\n",
    "    fixed_effects = ['grump_Countryeng', 'grid_cell_area']\n",
    "    \n",
    "    # condition = (raw_df_subset['ocean'] != 1) & (raw_df_subset['urban'] > 0)\n",
    "    condition = (raw_df_subset['burned_area'] > 0) # or burned_area, burned_area_city\n",
    "    # Full sample: 308,086 # Burned Area: 185,601 # Burned Area City: 220,645\n",
    "    \n",
    "    data_regression = raw_df_subset[condition]\n",
    "    data_regression = data_regression.dropna(subset = target + features + fixed_effects)\n",
    "    data_regression['grump_Countryeng'] = data_regression['grump_Countryeng'].astype('category')\n",
    "    data_regression['grump_Countryeng'] = data_regression['grump_Countryeng'].cat.codes\n",
    "    #data_regression = data_regression.reset_index().set_index(['grump_Countryeng', 'grid_cell'])\n",
    "    data_regression = data_regression.reset_index().set_index(['grump_Countryeng', 'grump_URBID'])\n",
    "    \n",
    "    Y = data_regression[target]\n",
    "    X = data_regression[features]\n",
    "    X = sm.add_constant(X)\n",
    "    \n",
    "    dummies = pd.get_dummies(data=data_regression['grid_year'], drop_first=True)\n",
    "    X = pd.concat([X, dummies], axis=1)\n",
    "    \n",
    "    panel_ols_model = PanelOLS(Y, X, weights=data_regression['grid_cell_area'], \n",
    "                               entity_effects=True, time_effects=True, check_rank=False, \n",
    "                               drop_absorbed=True)\n",
    "    results = panel_ols_model.fit(cov_type='clustered', cluster_entity=True)\n",
    "    #results = panel_ols_model.fit(cov_type='robust')\n",
    "    \n",
    "    results_df.loc[feature, 'params'] = results.params[feature]\n",
    "    results_df.loc[feature, 'lower'] = results.conf_int(confidence_level).loc[feature,'lower']\n",
    "    results_df.loc[feature, 'upper'] = results.conf_int(confidence_level).loc[feature,'upper']\n",
    "\n",
    "results_df.index = np.arange(-2,5)\n",
    "results_df = results_df.astype(float)"
   ]
  },
  {
   "cell_type": "markdown",
   "metadata": {},
   "source": [
    "---"
   ]
  },
  {
   "cell_type": "markdown",
   "metadata": {},
   "source": [
    "### Figure: Recovery x Elevation"
   ]
  },
  {
   "cell_type": "code",
   "execution_count": 76,
   "metadata": {},
   "outputs": [],
   "source": [
    "## Elevation Bins\n",
    "\n",
    "bin_list = [10, 250, 500, 1000, 1500]\n",
    "\n",
    "## Elevation Bins\n",
    "\n",
    "raw_df_subset.loc[raw_df_subset['elevation_city'] < 10, 'elevation_10'] = 1\n",
    "raw_df_subset.loc[raw_df_subset['elevation_city'] >= 10, 'elevation_10'] = 0\n",
    "\n",
    "for bin_index in range(len(bin_list)-1):\n",
    "    condition = (raw_df_subset['elevation_city'] >= bin_list[bin_index]) & (raw_df_subset['elevation_city'] < bin_list[bin_index+1])\n",
    "    raw_df_subset.loc[condition == True, 'elevation_'+str(bin_list[bin_index+1])] = 1\n",
    "    raw_df_subset.loc[condition == False, 'elevation_'+str(bin_list[bin_index+1])] = 0\n",
    "\n",
    "raw_df_subset.loc[raw_df_subset['elevation_city'] >= 1500, 'elevation_greater_1500'] = 1\n",
    "raw_df_subset.loc[raw_df_subset['elevation_city'] < 1500, 'elevation_greater_1500'] = 0\n",
    "\n",
    "raw_df_subset['elevation_rest'] = 1 - raw_df_subset['elevation_250']"
   ]
  },
  {
   "cell_type": "code",
   "execution_count": 77,
   "metadata": {},
   "outputs": [],
   "source": [
    "shift_list = ['lead2', 'lead1', '', 'lag1', 'lag2', 'lag3', 'lag4']\n",
    "\n",
    "for shift_index, shift_string in zip(range(-2,5), shift_list):\n",
    "    raw_df_subset['elevation_250_burned' + str(shift_string)] = \\\n",
    "        raw_df_subset['elevation_250'] * raw_df_subset['burned_area'].shift(shift_index)\n",
    "    raw_df_subset['elevation_rest_burned' + str(shift_string)] = \\\n",
    "        raw_df_subset['elevation_rest'] * raw_df_subset['burned_area'].shift(shift_index)\n",
    "    \n",
    "# bin_list = [10, 250, 500, 1000, 1500, 'greater_1500', 'rest']\n",
    "# for bin_index in bin_list:"
   ]
  },
  {
   "cell_type": "code",
   "execution_count": 78,
   "metadata": {},
   "outputs": [],
   "source": [
    "results_elevation_250 = pd.DataFrame(columns = ['params', 'lower', 'upper'])\n",
    "results_elevation_rest = pd.DataFrame(columns = ['params', 'lower', 'upper'])\n",
    "\n",
    "shift_list = ['lead2', 'lead1', '', 'lag1', 'lag2', 'lag3', 'lag4']\n",
    "\n",
    "for shift_string in shift_list:\n",
    "    condition = (raw_df_subset['burned_area'] > 0)\n",
    "    data_regression = raw_df_subset[condition]\n",
    "\n",
    "    # Set target \n",
    "    target = ['ln_light']\n",
    "    \n",
    "    # Set features\n",
    "    bin_list = [250, 'rest']\n",
    "    \n",
    "    features = [] \n",
    "    for bin_index in bin_list:\n",
    "        #features += ['elevation_' + str(bin_index) + '_burned']\n",
    "        features += ['elevation_' + str(bin_index) + '_burned' + str(shift_string)] \n",
    "    \n",
    "    fixed_effects = ['grump_Countryeng', 'grid_cell_area']\n",
    "    \n",
    "    data_regression = data_regression.dropna(subset = target + features + fixed_effects)\n",
    "    data_regression['grump_Countryeng'] = data_regression['grump_Countryeng'].astype('category')\n",
    "    data_regression['grump_Countryeng'] = data_regression['grump_Countryeng'].cat.codes\n",
    "    #data_regression = data_regression.reset_index().set_index(['grump_Countryeng', 'grid_cell'])\n",
    "    data_regression = data_regression.reset_index().set_index(['grump_Countryeng', 'grump_URBID'])\n",
    "    \n",
    "    Y = data_regression[target]\n",
    "    X = data_regression[features]\n",
    "    X = sm.add_constant(X)\n",
    "    \n",
    "    dummies = pd.get_dummies(data=data_regression['grid_year'], drop_first=True)\n",
    "    X = pd.concat([X, dummies], axis=1)\n",
    "    \n",
    "    panel_ols_model = PanelOLS(Y, X, weights=data_regression['grid_cell_area'], \n",
    "                               entity_effects=True, time_effects=True, check_rank=False, drop_absorbed=True)\n",
    "    results = panel_ols_model.fit(cov_type='clustered', cluster_entity=True)\n",
    "    #results = panel_ols_model.fit(cov_type='robust')\n",
    "    \n",
    "    results_elevation_250.loc[features[0], 'params'] = results.params[features[0]]\n",
    "    results_elevation_250.loc[features[0], 'lower'] = results.conf_int(confidence_level).loc[features[0],'lower']\n",
    "    results_elevation_250.loc[features[0], 'upper'] = results.conf_int(confidence_level).loc[features[0],'upper']\n",
    "    \n",
    "    results_elevation_rest.loc[features[1], 'params'] = results.params[features[1]]\n",
    "    results_elevation_rest.loc[features[1], 'lower'] = results.conf_int(confidence_level).loc[features[1],'lower']\n",
    "    results_elevation_rest.loc[features[1], 'upper'] = results.conf_int(confidence_level).loc[features[1],'upper']"
   ]
  },
  {
   "cell_type": "code",
   "execution_count": 79,
   "metadata": {},
   "outputs": [],
   "source": [
    "results_elevation_250.index = np.arange(-2,5)\n",
    "results_elevation_250 = results_elevation_250.astype(float)\n",
    "\n",
    "results_elevation_rest.index = np.arange(-2,5)\n",
    "results_elevation_rest = results_elevation_rest.astype(float)"
   ]
  },
  {
   "cell_type": "markdown",
   "metadata": {},
   "source": [
    "#### Figure"
   ]
  },
  {
   "cell_type": "code",
   "execution_count": 80,
   "metadata": {},
   "outputs": [
    {
     "data": {
      "image/png": "[encoded data removed]",
      "text/plain": [
       "<Figure size 1400x400 with 2 Axes>"
      ]
     },
     "metadata": {},
     "output_type": "display_data"
    }
   ],
   "source": [
    "fig, (ax1, ax2) = plt.subplots(1,2,figsize=(14, 4))\n",
    "\n",
    "colors = sns.color_palette('viridis', n_colors=3)\n",
    "\n",
    "ax1.fill_between(x=results_df.index, y1=results_df.lower, y2=results_df.upper,\n",
    "                color=colors[0], alpha=0.25)\n",
    "sns.lineplot(x=results_df.index, y='lower', data = results_df,\n",
    "                  linestyle='-', linewidth=1, color=colors[0], alpha=0.5, ax=ax1)\n",
    "sns.lineplot(x=results_df.index, y='upper', data = results_df,\n",
    "                  linestyle='-', linewidth=1, color=colors[0], alpha=0.25, ax=ax1)\n",
    "sns.lineplot(x=results_df.index, y='params', data = results_df,\n",
    "                  linestyle='-', linewidth=1, color=colors[0], ax=ax1, \n",
    "             label='Basline', legend=False)\n",
    "\n",
    "ax1.set_ylabel('Effect of Fire on Log Light Intensity')\n",
    "ax1.set_xlabel('Year')\n",
    "ax1.yaxis.grid(True)\n",
    "#ax1.set_yticks(np.arange(-0.003,0.0035,0.001))\n",
    "\n",
    "ax2.fill_between(x=results_elevation_rest.index, y1=results_elevation_rest.lower, y2=results_elevation_rest.upper,\n",
    "                color=colors[1], alpha=0.25)\n",
    "sns.lineplot(x=results_elevation_rest.index, y='lower', data = results_elevation_rest,\n",
    "                  linestyle='-', linewidth=1, color=colors[1], alpha=0.5, ax=ax2)\n",
    "sns.lineplot(x=results_elevation_rest.index, y='upper', data = results_elevation_rest,\n",
    "                  linestyle='-', linewidth=1, color=colors[1], alpha=0.25, ax=ax2)\n",
    "sns.lineplot(x=results_elevation_rest.index, y='params', data = results_elevation_rest,\n",
    "                  linestyle='-', linewidth=1, color=colors[1], ax=ax2, \n",
    "             label='Elevation$_{[otherwise]}$', legend=False)\n",
    "\n",
    "ax2.fill_between(x=results_elevation_250.index, y1=results_elevation_250.lower, y2=results_elevation_250.upper,\n",
    "                color=colors[2], alpha=0.25)\n",
    "sns.lineplot(x=results_elevation_250.index, y='lower', data = results_elevation_250,\n",
    "                  linestyle='-', linewidth=1, color=colors[2], alpha=0.5, ax=ax2, legend=False)\n",
    "sns.lineplot(x=results_elevation_250.index, y='upper', data = results_elevation_250,\n",
    "                  linestyle='-', linewidth=1, color=colors[2], alpha=0.25, ax=ax2, legend=False)\n",
    "sns.lineplot(x=results_elevation_250.index, y='params', data = results_elevation_250,\n",
    "                  linestyle='-', linewidth=1, color=colors[2], ax=ax2, \n",
    "             label='Elevation$_{[10, 250]}$', legend=False)\n",
    "\n",
    "ax2.set_ylabel('Effect of Fire on Log Light Intensity')\n",
    "ax2.set_xlabel('Year')\n",
    "ax2.yaxis.grid(True)\n",
    "#ax2.set_yticks(np.arange(-0.003,0.0035,0.001))\n",
    "\n",
    "ax1.set_title('Panel A \\n', fontweight='bold')\n",
    "ax2.set_title('Panel B \\n', fontweight='bold')\n",
    "\n",
    "plt.subplots_adjust(wspace=0.25)\n",
    "\n",
    "lines1, labels1 = ax1.get_legend_handles_labels()\n",
    "lines2, labels2 = ax2.get_legend_handles_labels()\n",
    "fig.legend(lines1 + lines2[::-1], labels1 + labels2[::-1], loc='lower left', ncol=3, \n",
    "           edgecolor='black', bbox_to_anchor=(0.35,-0.15))\n",
    "\n",
    "#plt.show()\n",
    "plt.savefig(\n",
    "   os.path.join(os.path.dirname(\"__file__\"), '..', 'outputs', 'Heterogeneity_Elevation.png'), dpi=(150)\n",
    ")"
   ]
  },
  {
   "cell_type": "markdown",
   "metadata": {},
   "source": [
    "---"
   ]
  },
  {
   "cell_type": "markdown",
   "metadata": {},
   "source": [
    "### Figure: Recovery Existing vs New"
   ]
  },
  {
   "cell_type": "code",
   "execution_count": 81,
   "metadata": {},
   "outputs": [
    {
     "data": {
      "text/plain": [
       "count    308086.000000\n",
       "mean          4.557708\n",
       "std           6.260722\n",
       "min           0.000000\n",
       "25%           1.000000\n",
       "50%           2.000000\n",
       "75%           6.000000\n",
       "max          51.000000\n",
       "Name: light1992_city, dtype: float64"
      ]
     },
     "execution_count": 81,
     "metadata": {},
     "output_type": "execute_result"
    }
   ],
   "source": [
    "raw_df_subset['light1992_city'] = raw_df_subset.groupby('grump_URBID').light1992.transform('mean')\n",
    "#raw_df_subset.groupby(['grid_cell']).light1992_city.transform('mean').describe()\n",
    "raw_df_subset['light1992_city'].describe()"
   ]
  },
  {
   "cell_type": "code",
   "execution_count": 82,
   "metadata": {},
   "outputs": [],
   "source": [
    "## Below Median\n",
    "\n",
    "condition = (raw_df_subset['light1992_city'] <= 2) & (raw_df_subset['light1992'].isna() == False)\n",
    "raw_df_subset.loc[condition == True, 'new'] = 1\n",
    "raw_df_subset.loc[condition == False, 'new'] = 0\n",
    "\n",
    "condition = (raw_df_subset['light1992_city'] > 2) & (raw_df_subset['light1992'].isna() == False)\n",
    "raw_df_subset.loc[condition == True, 'existing'] = 1\n",
    "raw_df_subset.loc[condition == False, 'existing'] = 0\n",
    "\n",
    "#raw_df_subset['new'] = raw_df_subset['new']  * raw_df_subset['elevation_250'] \n",
    "#raw_df_subset['existing'] = raw_df_subset['existing']  * raw_df_subset['elevation_250'] "
   ]
  },
  {
   "cell_type": "code",
   "execution_count": 83,
   "metadata": {},
   "outputs": [
    {
     "data": {
      "text/plain": [
       "count    185601.000000\n",
       "mean          4.041023\n",
       "std           5.723233\n",
       "min           0.000000\n",
       "25%           0.500000\n",
       "50%           2.000000\n",
       "75%           5.000000\n",
       "max          51.000000\n",
       "Name: light1992_city, dtype: float64"
      ]
     },
     "execution_count": 83,
     "metadata": {},
     "output_type": "execute_result"
    }
   ],
   "source": [
    "raw_df_subset[(raw_df_subset['burned_area'] > 0)]['light1992_city'].describe()\n",
    "# Median Light Intensity 1992: 2\n",
    "# Most Balanced: 2\n",
    "#raw_df_subset[(raw_df_subset['burned_area'] > 0)][['new', 'existing']].sum()"
   ]
  },
  {
   "cell_type": "code",
   "execution_count": 84,
   "metadata": {},
   "outputs": [],
   "source": [
    "feature_list = ['new', 'existing']\n",
    "shift_list = ['lead2', 'lead1', '', 'lag1', 'lag2', 'lag3', 'lag4']\n",
    "\n",
    "for feature in feature_list:\n",
    "    for shift_index, shift_string in zip(range(-2,5), shift_list):\n",
    "        raw_df_subset['burned_city_' + str(feature) + str(shift_string)] = \\\n",
    "            raw_df_subset[str(feature)] * raw_df_subset['burned_area'].shift(shift_index)"
   ]
  },
  {
   "cell_type": "code",
   "execution_count": 85,
   "metadata": {},
   "outputs": [],
   "source": [
    "results_new = pd.DataFrame(columns = ['params', 'lower', 'upper'])\n",
    "results_existing = pd.DataFrame(columns = ['params', 'lower', 'upper'])\n",
    "\n",
    "shift_list = ['lead2', 'lead1', '', 'lag1', 'lag2', 'lag3', 'lag4']\n",
    "\n",
    "for shift_string in shift_list:\n",
    "    condition = (raw_df_subset['burned_area'] > 0)\n",
    "    data_regression = raw_df_subset[condition]\n",
    "\n",
    "    # Set target \n",
    "    target = ['ln_light']\n",
    "    \n",
    "    # Set features\n",
    "    bin_list = ['new', 'existing']\n",
    "    \n",
    "    features = [] \n",
    "    for bin_index in bin_list:\n",
    "        features += ['burned_city_' + str(bin_index) + str(shift_string)]\n",
    "    \n",
    "    fixed_effects = ['grump_Countryeng', 'grid_cell_area']\n",
    "    \n",
    "    data_regression = data_regression.dropna(subset = target + features + fixed_effects)\n",
    "    data_regression['grump_Countryeng'] = data_regression['grump_Countryeng'].astype('category')\n",
    "    data_regression['grump_Countryeng'] = data_regression['grump_Countryeng'].cat.codes\n",
    "    #data_regression = data_regression.reset_index().set_index(['grump_Countryeng', 'grid_cell'])\n",
    "    data_regression = data_regression.reset_index().set_index(['grump_Countryeng', 'grump_URBID'])\n",
    "    \n",
    "    Y = data_regression[target]\n",
    "    X = data_regression[features]\n",
    "    X = sm.add_constant(X)\n",
    "    \n",
    "    dummies = pd.get_dummies(data=data_regression['grid_year'], drop_first=True)\n",
    "    X = pd.concat([X, dummies], axis=1)\n",
    "    \n",
    "    panel_ols_model = PanelOLS(Y, X, weights=data_regression['grid_cell_area'], \n",
    "                               entity_effects=True, time_effects=True, check_rank=False, drop_absorbed=True)\n",
    "    results = panel_ols_model.fit(cov_type='clustered', cluster_entity=True)\n",
    "    #results = panel_ols_model.fit(cov_type='robust')\n",
    "    \n",
    "    results_new.loc[features[0], 'params'] = results.params[features[0]]\n",
    "    results_new.loc[features[0], 'lower'] = results.conf_int(confidence_level).loc[features[0],'lower']\n",
    "    results_new.loc[features[0], 'upper'] = results.conf_int(confidence_level).loc[features[0],'upper']\n",
    "    \n",
    "    results_existing.loc[features[1], 'params'] = results.params[features[1]]\n",
    "    results_existing.loc[features[1], 'lower'] = results.conf_int(confidence_level).loc[features[1],'lower']\n",
    "    results_existing.loc[features[1], 'upper'] = results.conf_int(confidence_level).loc[features[1],'upper']"
   ]
  },
  {
   "cell_type": "code",
   "execution_count": 86,
   "metadata": {},
   "outputs": [],
   "source": [
    "results_new.index = np.arange(-2,5)\n",
    "results_new = results_new.astype(float)\n",
    "\n",
    "results_existing.index = np.arange(-2,5)\n",
    "results_existing = results_existing.astype(float)"
   ]
  },
  {
   "cell_type": "markdown",
   "metadata": {},
   "source": [
    "#### Figure"
   ]
  },
  {
   "cell_type": "code",
   "execution_count": 87,
   "metadata": {},
   "outputs": [
    {
     "data": {
      "image/png": "[encoded data removed]",
      "text/plain": [
       "<Figure size 1400x400 with 2 Axes>"
      ]
     },
     "metadata": {},
     "output_type": "display_data"
    }
   ],
   "source": [
    "fig, (ax1, ax2) = plt.subplots(1,2,figsize=(14, 4))\n",
    "\n",
    "colors = sns.color_palette('viridis', n_colors=3)\n",
    "\n",
    "ax1.fill_between(x=results_df.index, y1=results_df.lower, y2=results_df.upper,\n",
    "                color=colors[0], alpha=0.25)\n",
    "sns.lineplot(x=results_df.index, y='lower', data = results_df,\n",
    "                  linestyle='-', linewidth=1, color=colors[0], alpha=0.5, ax=ax1)\n",
    "sns.lineplot(x=results_df.index, y='upper', data = results_df,\n",
    "                  linestyle='-', linewidth=1, color=colors[0], alpha=0.25, ax=ax1)\n",
    "sns.lineplot(x=results_df.index, y='params', data = results_df,\n",
    "                  linestyle='-', linewidth=1, color=colors[0], ax=ax1, \n",
    "             label='Basline', legend=False)\n",
    "\n",
    "ax1.set_ylabel('Effect of Fire on Log Light Intensity')\n",
    "ax1.set_xlabel('Year')\n",
    "ax1.yaxis.grid(True)\n",
    "#ax1.set_yticks(np.arange(-0.003,0.0035,0.001))\n",
    "\n",
    "ax2.fill_between(x=results_existing.index, y1=results_existing.lower, y2=results_existing.upper,\n",
    "                color=colors[1], alpha=0.25)\n",
    "sns.lineplot(x=results_existing.index, y='lower', data = results_existing,\n",
    "                  linestyle='-', linewidth=1, color=colors[1], alpha=0.5, ax=ax2)\n",
    "sns.lineplot(x=results_existing.index, y='upper', data = results_existing,\n",
    "                  linestyle='-', linewidth=1, color=colors[1], alpha=0.25, ax=ax2)\n",
    "sns.lineplot(x=results_existing.index, y='params', data = results_existing,\n",
    "                  linestyle='-', linewidth=1, color=colors[1], ax=ax2, \n",
    "             label='Existing Areas', legend=False)\n",
    "\n",
    "ax2.fill_between(x=results_new.index, y1=results_new.lower, y2=results_new.upper,\n",
    "                color=colors[2], alpha=0.25)\n",
    "sns.lineplot(x=results_new.index, y='lower', data = results_new,\n",
    "                  linestyle='-', linewidth=1, color=colors[2], alpha=0.5, ax=ax2, legend=False)\n",
    "sns.lineplot(x=results_new.index, y='upper', data = results_new,\n",
    "                  linestyle='-', linewidth=1, color=colors[2], alpha=0.25, ax=ax2, legend=False)\n",
    "sns.lineplot(x=results_new.index, y='params', data = results_new,\n",
    "                  linestyle='-', linewidth=1, color=colors[2], ax=ax2, \n",
    "             label='New Areas', legend=False)\n",
    "\n",
    "#ax2.errorbar(x=results_new.index, y=results_new.params, \n",
    "#             yerr=[results_new.lower - results_new.params], \n",
    "#             color='red', alpha=0.75, capsize=5, markeredgewidth=1, marker='o')\n",
    "\n",
    "ax2.set_ylabel('Effect of Fire on Log Light Intensity')\n",
    "ax2.set_xlabel('Year')\n",
    "ax2.yaxis.grid(True)\n",
    "#ax2.set_yticks(np.arange(-0.003,0.0035,0.001))\n",
    "\n",
    "ax1.set_title('Panel A \\n', fontweight='bold')\n",
    "ax2.set_title('Panel B \\n', fontweight='bold')\n",
    "\n",
    "plt.subplots_adjust(wspace=0.25)\n",
    "\n",
    "lines1, labels1 = ax1.get_legend_handles_labels()\n",
    "lines2, labels2 = ax2.get_legend_handles_labels()\n",
    "fig.legend(lines1 + lines2[::-1], labels1 + labels2[::-1], loc='lower left', ncol=3, \n",
    "           edgecolor='black', bbox_to_anchor=(0.35,-0.15))\n",
    "\n",
    "#plt.show()\n",
    "plt.savefig(\n",
    "   os.path.join(os.path.dirname(\"__file__\"), '..', 'outputs', 'Heterogeneity_New_Existing.png'), dpi=(150)\n",
    ")\n",
    "\n",
    "## 3. Regression: Wildfire x Determinants\n",
    "## 4. Regressions: Light x Wildfire Lags \n",
    "## 5. Regressions: Light x Wildfire Interaction Lags"
   ]
  },
  {
   "cell_type": "markdown",
   "metadata": {},
   "source": [
    "#### Final Figures"
   ]
  },
  {
   "cell_type": "code",
   "execution_count": 88,
   "metadata": {},
   "outputs": [
    {
     "data": {
      "image/png": "[encoded data removed]",
      "text/plain": [
       "<Figure size 1800x400 with 3 Axes>"
      ]
     },
     "metadata": {},
     "output_type": "display_data"
    }
   ],
   "source": [
    "fig, (ax1, ax2, ax3) = plt.subplots(1,3,figsize=(18, 4))\n",
    "\n",
    "#colors = sns.color_palette('viridis', n_colors=3)\n",
    "colors = sns.color_palette('RdBu_r', n_colors=11)\n",
    "\n",
    "ax1.axhline(y = 0, color = 'black', linestyle = '-', alpha=1, linewidth=1)\n",
    "ax2.axhline(y = 0, color = 'black', linestyle = '-', alpha=1, linewidth=1)\n",
    "ax3.axhline(y = 0, color = 'black', linestyle = '-', alpha=1, linewidth=1)\n",
    "\n",
    "ax1.axvline(x = 0, color = 'black', linestyle = '--', alpha=0.75, linewidth=1)\n",
    "ax2.axvline(x = 0, color = 'black', linestyle = '--', alpha=0.75, linewidth=1)\n",
    "ax3.axvline(x = 0, color = 'black', linestyle = '--', alpha=0.75, linewidth=1)\n",
    "\n",
    "ax1.fill_between(x=results_df.index, y1=results_df.lower, y2=results_df.upper,\n",
    "                color=colors[0], alpha=0.25)\n",
    "#sns.lineplot(x=results_df.index, y='lower', data = results_df,\n",
    "#                  linestyle='-', linewidth=1, color=colors[0], alpha=0.5, ax=ax1)\n",
    "#sns.lineplot(x=results_df.index, y='upper', data = results_df,\n",
    "#                  linestyle='-', linewidth=1, color=colors[0], alpha=0.25, ax=ax1)\n",
    "sns.lineplot(x=results_df.index, y='params', data = results_df,\n",
    "                  linestyle='-', linewidth=1, color=colors[0], ax=ax1, \n",
    "             label='Basline', legend=True)\n",
    "\n",
    "ax1.set_ylabel('Effect of Fire on Log Light Intensity')\n",
    "ax1.set_xlabel('Year')\n",
    "#ax1.yaxis.grid(True)\n",
    "ax1.set_yticks(np.arange(-1,0.4,0.2))\n",
    "#ax1.set_yticks(np.arange(-0.7,0.6,0.2)) # Grid-Cell FE\n",
    "\n",
    "ax2.fill_between(x=results_elevation_rest.index, y1=results_elevation_rest.lower, y2=results_elevation_rest.upper,\n",
    "                color=colors[0], alpha=0.25)\n",
    "#sns.lineplot(x=results_elevation_rest.index, y='lower', data = results_elevation_rest,\n",
    "#                  linestyle='-', linewidth=1, color=colors[1], alpha=0.5, ax=ax2)\n",
    "#sns.lineplot(x=results_elevation_rest.index, y='upper', data = results_elevation_rest,\n",
    "#                  linestyle='-', linewidth=1, color=colors[1], alpha=0.25, ax=ax2)\n",
    "sns.lineplot(x=results_elevation_rest.index, y='params', data = results_elevation_rest,\n",
    "                  linestyle='-', linewidth=1, color=colors[0], ax=ax2, \n",
    "             label='Elevation$_{[otherwise]}$', legend=True)\n",
    "\n",
    "ax2.fill_between(x=results_elevation_250.index, y1=results_elevation_250.lower, y2=results_elevation_250.upper,\n",
    "                color=colors[10], alpha=0.25)\n",
    "#sns.lineplot(x=results_elevation_250.index, y='lower', data = results_elevation_250,\n",
    "#                  linestyle='-', linewidth=1, color=colors[2], alpha=0.5, ax=ax2, legend=False)\n",
    "#sns.lineplot(x=results_elevation_250.index, y='upper', data = results_elevation_250,\n",
    "#                  linestyle='-', linewidth=1, color=colors[2], alpha=0.25, ax=ax2, legend=False)\n",
    "sns.lineplot(x=results_elevation_250.index, y='params', data = results_elevation_250,\n",
    "                  linestyle='-', linewidth=1, color=colors[10], ax=ax2, \n",
    "             label='Elevation$_{[10, 250]}$', legend=True)\n",
    "\n",
    "ax2.set_ylabel('Effect of Fire on Log Light Intensity')\n",
    "ax2.set_xlabel('Year')\n",
    "#ax2.yaxis.grid(True)\n",
    "ax2.set_yticks(np.arange(-1,0.4,0.2))\n",
    "#ax2.set_yticks(np.arange(-0.7,0.6,0.2)) # Grid-Cell FE\n",
    "\n",
    "##################################################\n",
    "\n",
    "ax3.fill_between(x=results_existing.index, y1=results_existing.lower, y2=results_existing.upper,\n",
    "                color=colors[0], alpha=0.25)\n",
    "#sns.lineplot(x=results_existing.index, y='lower', data = results_existing,\n",
    "#                  linestyle='-', linewidth=1, color=colors[1], alpha=0.5, ax=ax3)\n",
    "#sns.lineplot(x=results_existing.index, y='upper', data = results_existing,\n",
    "#                  linestyle='-', linewidth=1, color=colors[1], alpha=0.25, ax=ax3)\n",
    "sns.lineplot(x=results_existing.index, y='params', data = results_existing,\n",
    "                  linestyle='-', linewidth=1, color=colors[0], ax=ax3, \n",
    "             label='Existing Areas', legend=True)\n",
    "\n",
    "ax3.fill_between(x=results_new.index, y1=results_new.lower, y2=results_new.upper,\n",
    "                color=colors[10], alpha=0.25)\n",
    "#sns.lineplot(x=results_new.index, y='lower', data = results_new,\n",
    "#                  linestyle='-', linewidth=1, color=colors[2], alpha=0.5, ax=ax3, legend=False)\n",
    "#sns.lineplot(x=results_new.index, y='upper', data = results_new,\n",
    "#                  linestyle='-', linewidth=1, color=colors[2], alpha=0.25, ax=ax3, legend=False)\n",
    "sns.lineplot(x=results_new.index, y='params', data = results_new,\n",
    "                  linestyle='-', linewidth=1, color=colors[10], ax=ax3, \n",
    "             label='New Areas', legend=True)\n",
    "\n",
    "ax3.set_ylabel('Effect of Fire on Log Light Intensity')\n",
    "ax3.set_xlabel('Year')\n",
    "#ax3.yaxis.grid(True)\n",
    "ax3.set_yticks(np.arange(-1,0.4,0.2))\n",
    "#ax3.set_yticks(np.arange(-0.7,0.6,0.2)) # Grid-Cell FE\n",
    "\n",
    "##################################################\n",
    "\n",
    "ax1.set_title('Panel A \\n', fontweight='bold')\n",
    "ax2.set_title('Panel B \\n', fontweight='bold')\n",
    "ax3.set_title('Panel C \\n', fontweight='bold')\n",
    "\n",
    "ax1.legend(edgecolor='0.8', loc='lower right', framealpha=1)\n",
    "handles, labels = ax2.get_legend_handles_labels()\n",
    "ax2.legend(handles[::-1], labels[::-1], edgecolor='0.8', loc='lower right', framealpha=1)\n",
    "handles, labels = ax3.get_legend_handles_labels()\n",
    "ax3.legend(handles[::-1], labels[::-1], edgecolor='0.8', loc='lower right', framealpha=1)\n",
    "\n",
    "plt.subplots_adjust(wspace=0.25)\n",
    "\n",
    "#plt.show()\n",
    "plt.savefig(\n",
    "   os.path.join(os.path.dirname(\"__file__\"), '..', 'outputs', 'Heterogeneity_Burned_Area_City.png'), dpi=(150)\n",
    ")\n",
    "\n",
    "## 3. Regression: Wildfire x Determinants\n",
    "## 4. Regressions: Light x Wildfire Lags \n",
    "## 5. Regressions: Light x Wildfire Interaction Lags"
   ]
  },
  {
   "cell_type": "code",
   "execution_count": 89,
   "metadata": {},
   "outputs": [
    {
     "data": {
      "text/html": [
       "<div>\n",
       "<style scoped>\n",
       "    .dataframe tbody tr th:only-of-type {\n",
       "        vertical-align: middle;\n",
       "    }\n",
       "\n",
       "    .dataframe tbody tr th {\n",
       "        vertical-align: top;\n",
       "    }\n",
       "\n",
       "    .dataframe thead th {\n",
       "        text-align: right;\n",
       "    }\n",
       "</style>\n",
       "<table border=\"1\" class=\"dataframe\">\n",
       "  <thead>\n",
       "    <tr style=\"text-align: right;\">\n",
       "      <th></th>\n",
       "      <th>params</th>\n",
       "      <th>lower</th>\n",
       "      <th>upper</th>\n",
       "    </tr>\n",
       "  </thead>\n",
       "  <tbody>\n",
       "    <tr>\n",
       "      <th>-2</th>\n",
       "      <td>-0.324078</td>\n",
       "      <td>-0.631705</td>\n",
       "      <td>-0.016451</td>\n",
       "    </tr>\n",
       "    <tr>\n",
       "      <th>-1</th>\n",
       "      <td>-0.475759</td>\n",
       "      <td>-0.819721</td>\n",
       "      <td>-0.131796</td>\n",
       "    </tr>\n",
       "    <tr>\n",
       "      <th>0</th>\n",
       "      <td>-0.635432</td>\n",
       "      <td>-1.036006</td>\n",
       "      <td>-0.234858</td>\n",
       "    </tr>\n",
       "    <tr>\n",
       "      <th>1</th>\n",
       "      <td>-0.387137</td>\n",
       "      <td>-0.737336</td>\n",
       "      <td>-0.036937</td>\n",
       "    </tr>\n",
       "    <tr>\n",
       "      <th>2</th>\n",
       "      <td>-0.455152</td>\n",
       "      <td>-0.776046</td>\n",
       "      <td>-0.134259</td>\n",
       "    </tr>\n",
       "    <tr>\n",
       "      <th>3</th>\n",
       "      <td>-0.375697</td>\n",
       "      <td>-0.670944</td>\n",
       "      <td>-0.080450</td>\n",
       "    </tr>\n",
       "    <tr>\n",
       "      <th>4</th>\n",
       "      <td>-0.385394</td>\n",
       "      <td>-0.661094</td>\n",
       "      <td>-0.109694</td>\n",
       "    </tr>\n",
       "  </tbody>\n",
       "</table>\n",
       "</div>"
      ],
      "text/plain": [
       "      params     lower     upper\n",
       "-2 -0.324078 -0.631705 -0.016451\n",
       "-1 -0.475759 -0.819721 -0.131796\n",
       " 0 -0.635432 -1.036006 -0.234858\n",
       " 1 -0.387137 -0.737336 -0.036937\n",
       " 2 -0.455152 -0.776046 -0.134259\n",
       " 3 -0.375697 -0.670944 -0.080450\n",
       " 4 -0.385394 -0.661094 -0.109694"
      ]
     },
     "execution_count": 89,
     "metadata": {},
     "output_type": "execute_result"
    }
   ],
   "source": [
    "results_existing"
   ]
  },
  {
   "cell_type": "code",
   "execution_count": 90,
   "metadata": {},
   "outputs": [],
   "source": [
    "# https://stackoverflow.com/questions/24195432/fixed-effect-in-pandas-or-statsmodels"
   ]
  },
  {
   "cell_type": "markdown",
   "metadata": {},
   "source": [
    "---"
   ]
  },
  {
   "cell_type": "markdown",
   "metadata": {},
   "source": [
    "## 6. Regressions: Change in Land Use\n",
    "\n",
    "Differences in Land Use between years\n",
    "elevation 250 x new vs existing"
   ]
  },
  {
   "cell_type": "markdown",
   "metadata": {},
   "source": [
    "---"
   ]
  },
  {
   "cell_type": "code",
   "execution_count": 91,
   "metadata": {},
   "outputs": [
    {
     "data": {
      "text/plain": [
       "urban_change              0.121305\n",
       "cropland_change           0.233965\n",
       "pasture_change            0.173752\n",
       "forest_change             0.261849\n",
       "grass_shrubland_change    0.213258\n",
       "other_land_change         0.029396\n",
       "ocean_change              0.000000\n",
       "water_change              0.000000\n",
       "dtype: float64"
      ]
     },
     "metadata": {},
     "output_type": "display_data"
    },
    {
     "data": {
      "text/html": [
       "<div>\n",
       "<style scoped>\n",
       "    .dataframe tbody tr th:only-of-type {\n",
       "        vertical-align: middle;\n",
       "    }\n",
       "\n",
       "    .dataframe tbody tr th {\n",
       "        vertical-align: top;\n",
       "    }\n",
       "\n",
       "    .dataframe thead th {\n",
       "        text-align: right;\n",
       "    }\n",
       "</style>\n",
       "<table border=\"1\" class=\"dataframe\">\n",
       "  <thead>\n",
       "    <tr style=\"text-align: right;\">\n",
       "      <th></th>\n",
       "      <th>urban_change</th>\n",
       "      <th>cropland_change</th>\n",
       "      <th>pasture_change</th>\n",
       "      <th>forest_change</th>\n",
       "      <th>grass_shrubland_change</th>\n",
       "      <th>other_land_change</th>\n",
       "      <th>ocean_change</th>\n",
       "      <th>water_change</th>\n",
       "    </tr>\n",
       "  </thead>\n",
       "  <tbody>\n",
       "    <tr>\n",
       "      <th>count</th>\n",
       "      <td>308086.000000</td>\n",
       "      <td>308086.000000</td>\n",
       "      <td>308086.000000</td>\n",
       "      <td>308086.000000</td>\n",
       "      <td>308086.000000</td>\n",
       "      <td>308086.000000</td>\n",
       "      <td>308086.0</td>\n",
       "      <td>308086.0</td>\n",
       "    </tr>\n",
       "    <tr>\n",
       "      <th>mean</th>\n",
       "      <td>0.000297</td>\n",
       "      <td>-0.000474</td>\n",
       "      <td>-0.000307</td>\n",
       "      <td>0.000486</td>\n",
       "      <td>0.000089</td>\n",
       "      <td>-0.000092</td>\n",
       "      <td>0.0</td>\n",
       "      <td>0.0</td>\n",
       "    </tr>\n",
       "    <tr>\n",
       "      <th>std</th>\n",
       "      <td>0.002142</td>\n",
       "      <td>0.011982</td>\n",
       "      <td>0.009635</td>\n",
       "      <td>0.005933</td>\n",
       "      <td>0.009923</td>\n",
       "      <td>0.004527</td>\n",
       "      <td>0.0</td>\n",
       "      <td>0.0</td>\n",
       "    </tr>\n",
       "    <tr>\n",
       "      <th>min</th>\n",
       "      <td>-0.153600</td>\n",
       "      <td>-0.361600</td>\n",
       "      <td>-0.443200</td>\n",
       "      <td>-0.190400</td>\n",
       "      <td>-0.513600</td>\n",
       "      <td>-0.385600</td>\n",
       "      <td>0.0</td>\n",
       "      <td>0.0</td>\n",
       "    </tr>\n",
       "    <tr>\n",
       "      <th>25%</th>\n",
       "      <td>0.000000</td>\n",
       "      <td>0.000000</td>\n",
       "      <td>0.000000</td>\n",
       "      <td>0.000000</td>\n",
       "      <td>0.000000</td>\n",
       "      <td>0.000000</td>\n",
       "      <td>0.0</td>\n",
       "      <td>0.0</td>\n",
       "    </tr>\n",
       "    <tr>\n",
       "      <th>50%</th>\n",
       "      <td>0.000000</td>\n",
       "      <td>0.000000</td>\n",
       "      <td>0.000000</td>\n",
       "      <td>0.000000</td>\n",
       "      <td>0.000000</td>\n",
       "      <td>0.000000</td>\n",
       "      <td>0.0</td>\n",
       "      <td>0.0</td>\n",
       "    </tr>\n",
       "    <tr>\n",
       "      <th>75%</th>\n",
       "      <td>0.000000</td>\n",
       "      <td>0.000000</td>\n",
       "      <td>0.000000</td>\n",
       "      <td>0.000000</td>\n",
       "      <td>0.000000</td>\n",
       "      <td>0.000000</td>\n",
       "      <td>0.0</td>\n",
       "      <td>0.0</td>\n",
       "    </tr>\n",
       "    <tr>\n",
       "      <th>max</th>\n",
       "      <td>0.142400</td>\n",
       "      <td>0.468800</td>\n",
       "      <td>0.510400</td>\n",
       "      <td>0.302400</td>\n",
       "      <td>0.443200</td>\n",
       "      <td>0.264000</td>\n",
       "      <td>0.0</td>\n",
       "      <td>0.0</td>\n",
       "    </tr>\n",
       "  </tbody>\n",
       "</table>\n",
       "</div>"
      ],
      "text/plain": [
       "        urban_change  cropland_change  pasture_change  forest_change  \\\n",
       "count  308086.000000    308086.000000   308086.000000  308086.000000   \n",
       "mean        0.000297        -0.000474       -0.000307       0.000486   \n",
       "std         0.002142         0.011982        0.009635       0.005933   \n",
       "min        -0.153600        -0.361600       -0.443200      -0.190400   \n",
       "25%         0.000000         0.000000        0.000000       0.000000   \n",
       "50%         0.000000         0.000000        0.000000       0.000000   \n",
       "75%         0.000000         0.000000        0.000000       0.000000   \n",
       "max         0.142400         0.468800        0.510400       0.302400   \n",
       "\n",
       "       grass_shrubland_change  other_land_change  ocean_change  water_change  \n",
       "count           308086.000000      308086.000000      308086.0      308086.0  \n",
       "mean                 0.000089          -0.000092           0.0           0.0  \n",
       "std                  0.009923           0.004527           0.0           0.0  \n",
       "min                 -0.513600          -0.385600           0.0           0.0  \n",
       "25%                  0.000000           0.000000           0.0           0.0  \n",
       "50%                  0.000000           0.000000           0.0           0.0  \n",
       "75%                  0.000000           0.000000           0.0           0.0  \n",
       "max                  0.443200           0.264000           0.0           0.0  "
      ]
     },
     "metadata": {},
     "output_type": "display_data"
    }
   ],
   "source": [
    "## Relative cells affected\n",
    "\n",
    "display((raw_df_subset[landuse_features_change] > 0).sum() / (raw_df_subset[landuse_features_change] >= 0).sum())\n",
    "display(raw_df_subset[landuse_features_change].describe())"
   ]
  },
  {
   "cell_type": "code",
   "execution_count": 92,
   "metadata": {},
   "outputs": [],
   "source": [
    "landuse_features_change_copy = raw_df_subset[landuse_features_change]\n",
    "raw_df_subset[landuse_features_change] = landuse_features_change_copy"
   ]
  },
  {
   "cell_type": "code",
   "execution_count": 93,
   "metadata": {},
   "outputs": [],
   "source": [
    "## Group cultivated and uncultivated land categories\n",
    "\n",
    "raw_df_subset['cultivated_land_change'] = raw_df_subset[['cropland_change', 'pasture_change']].sum(axis=1)\n",
    "raw_df_subset['uncultivated_land_change'] = raw_df_subset[['forest_change', 'grass_shrubland_change']].sum(axis=1)"
   ]
  },
  {
   "cell_type": "code",
   "execution_count": 94,
   "metadata": {},
   "outputs": [
    {
     "data": {
      "text/html": [
       "<div>\n",
       "<style scoped>\n",
       "    .dataframe tbody tr th:only-of-type {\n",
       "        vertical-align: middle;\n",
       "    }\n",
       "\n",
       "    .dataframe tbody tr th {\n",
       "        vertical-align: top;\n",
       "    }\n",
       "\n",
       "    .dataframe thead th {\n",
       "        text-align: right;\n",
       "    }\n",
       "</style>\n",
       "<table border=\"1\" class=\"dataframe\">\n",
       "  <thead>\n",
       "    <tr style=\"text-align: right;\">\n",
       "      <th></th>\n",
       "      <th>urban_change</th>\n",
       "      <th>cultivated_land_change</th>\n",
       "      <th>uncultivated_land_change</th>\n",
       "    </tr>\n",
       "  </thead>\n",
       "  <tbody>\n",
       "    <tr>\n",
       "      <th>count</th>\n",
       "      <td>308086.000000</td>\n",
       "      <td>308086.000000</td>\n",
       "      <td>308086.000000</td>\n",
       "    </tr>\n",
       "    <tr>\n",
       "      <th>mean</th>\n",
       "      <td>0.000297</td>\n",
       "      <td>-0.000781</td>\n",
       "      <td>0.000575</td>\n",
       "    </tr>\n",
       "    <tr>\n",
       "      <th>std</th>\n",
       "      <td>0.002142</td>\n",
       "      <td>0.011547</td>\n",
       "      <td>0.010753</td>\n",
       "    </tr>\n",
       "    <tr>\n",
       "      <th>min</th>\n",
       "      <td>-0.153600</td>\n",
       "      <td>-0.443200</td>\n",
       "      <td>-0.513600</td>\n",
       "    </tr>\n",
       "    <tr>\n",
       "      <th>25%</th>\n",
       "      <td>0.000000</td>\n",
       "      <td>-0.001600</td>\n",
       "      <td>0.000000</td>\n",
       "    </tr>\n",
       "    <tr>\n",
       "      <th>50%</th>\n",
       "      <td>0.000000</td>\n",
       "      <td>0.000000</td>\n",
       "      <td>0.000000</td>\n",
       "    </tr>\n",
       "    <tr>\n",
       "      <th>75%</th>\n",
       "      <td>0.000000</td>\n",
       "      <td>0.000000</td>\n",
       "      <td>0.001600</td>\n",
       "    </tr>\n",
       "    <tr>\n",
       "      <th>max</th>\n",
       "      <td>0.142400</td>\n",
       "      <td>0.510400</td>\n",
       "      <td>0.443200</td>\n",
       "    </tr>\n",
       "  </tbody>\n",
       "</table>\n",
       "</div>"
      ],
      "text/plain": [
       "        urban_change  cultivated_land_change  uncultivated_land_change\n",
       "count  308086.000000           308086.000000             308086.000000\n",
       "mean        0.000297               -0.000781                  0.000575\n",
       "std         0.002142                0.011547                  0.010753\n",
       "min        -0.153600               -0.443200                 -0.513600\n",
       "25%         0.000000               -0.001600                  0.000000\n",
       "50%         0.000000                0.000000                  0.000000\n",
       "75%         0.000000                0.000000                  0.001600\n",
       "max         0.142400                0.510400                  0.443200"
      ]
     },
     "execution_count": 94,
     "metadata": {},
     "output_type": "execute_result"
    }
   ],
   "source": [
    "raw_df_subset[['urban_change', 'cultivated_land_change', 'uncultivated_land_change']].describe()"
   ]
  },
  {
   "cell_type": "code",
   "execution_count": 95,
   "metadata": {},
   "outputs": [],
   "source": [
    "#raw_df_subset['urban_change_city'] = raw_df_subset.groupby(['grump_URBID', 'grid_year'])['urban_change'].transform('max')\n",
    "#raw_df_subset['urban_change_frequency'] = raw_df_subset.groupby(['grid_cell']).urban_change_city.transform('mean')\n",
    "#raw_df_subset['frequency'].describe()"
   ]
  },
  {
   "cell_type": "code",
   "execution_count": 96,
   "metadata": {},
   "outputs": [],
   "source": [
    "#raw_df_subset[landuse_features_change] *= 100\n",
    "\n",
    "raw_df_subset.loc[raw_df_subset['cultivated_land_change'] > 0, 'cultivated_land_change'] = 1\n",
    "raw_df_subset.loc[raw_df_subset['cultivated_land_change'] < 0, 'cultivated_land_change'] = -1\n",
    "raw_df_subset.loc[raw_df_subset['uncultivated_land_change'] > 0, 'uncultivated_land_change'] = 1\n",
    "raw_df_subset.loc[raw_df_subset['uncultivated_land_change'] < 0, 'uncultivated_land_change'] = -1\n",
    "\n",
    "for feature in landuse_features_change:\n",
    "    raw_df_subset.loc[raw_df_subset[feature] > 0, feature] = 1\n",
    "    raw_df_subset.loc[raw_df_subset[feature] < 0, feature] = -1"
   ]
  },
  {
   "cell_type": "code",
   "execution_count": 97,
   "metadata": {},
   "outputs": [],
   "source": [
    "## Create Lags of Burned Area\n",
    "\n",
    "# raw_df_subset['burned_city_standard'] = (raw_df_subset['burned_area_city'] - raw_df_subset['burned_area_city'].mean() ) / raw_df_subset['burned_area_city'].std()\n",
    "\n",
    "raw_df_subset['burned_city_lag1'] = raw_df_subset['burned_area'].shift(1)\n",
    "raw_df_subset['burned_city_lag2'] = raw_df_subset['burned_area'].shift(2)\n",
    "raw_df_subset['burned_city_lag3'] = raw_df_subset['burned_area'].shift(3)\n",
    "raw_df_subset['burned_city_lag4'] = raw_df_subset['burned_area'].shift(4)\n",
    "raw_df_subset['burned_city_lag5'] = raw_df_subset['burned_area'].shift(5)\n",
    "raw_df_subset['burned_city_lag6'] = raw_df_subset['burned_area'].shift(6)"
   ]
  },
  {
   "cell_type": "markdown",
   "metadata": {},
   "source": [
    "---"
   ]
  },
  {
   "cell_type": "code",
   "execution_count": 98,
   "metadata": {},
   "outputs": [],
   "source": [
    "# https://stackoverflow.com/questions/24195432/fixed-effect-in-pandas-or-statsmodels\n",
    "\n",
    "condition = (raw_df_subset['burned_area'] > 0) # or burned_area, burned_area_city\n",
    "data_regression = raw_df_subset[condition]\n",
    "\n",
    "# Set target \n",
    "target = ['urban_change'] # probability of more or less\n",
    "# ['urban_change', 'cultivated_land_change', 'uncultivated_land_change']\n",
    "# ['urban_change','cropland_change','pasture_change','forest_change','grass_shrubland_change',\n",
    "\n",
    "# Set features\n",
    "features = ['burned_area'] \n",
    "# elevation_250_burned\n",
    "# burned_area # burned_city_lag1\n",
    "\n",
    "#features += ['urban', 'cropland', 'pasture', 'forest', 'grass_shrubland']\n",
    "                       \n",
    "fixed_effects = ['grump_Countryeng', 'grid_cell_area']\n",
    "\n",
    "data_regression = data_regression.dropna(subset = target + features + fixed_effects)\n",
    "data_regression['grump_Countryeng'] = data_regression['grump_Countryeng'].astype('category')\n",
    "#data_regression['grump_Countryeng'] = data_regression['grump_Countryeng'].cat.codes\n",
    "\n",
    "#data_regression['grump_NAME'] = data_regression['grump_NAME'].astype('category')\n",
    "#data_regression['grump_NAME'] = data_regression['grump_NAME'].cat.codes\n",
    "#data_regression = data_regression.reset_index().set_index(['grump_Countryeng', 'grid_cell'])\n",
    "data_regression = data_regression.reset_index().set_index(['grump_Countryeng', 'grump_URBID'])\n",
    "    \n",
    "Y = data_regression[target]\n",
    "X = data_regression[features]\n",
    "X = sm.add_constant(X)\n",
    "\n",
    "dummies = pd.get_dummies(data=data_regression['grid_year'], drop_first=True)\n",
    "X = pd.concat([X, dummies], axis=1)"
   ]
  },
  {
   "cell_type": "code",
   "execution_count": 99,
   "metadata": {},
   "outputs": [
    {
     "name": "stdout",
     "output_type": "stream",
     "text": [
      "                          PanelOLS Estimation Summary                           \n",
      "================================================================================\n",
      "Dep. Variable:           urban_change   R-squared:                        0.0005\n",
      "Estimator:                   PanelOLS   R-squared (Between):             -0.0017\n",
      "No. Observations:              185601   R-squared (Within):               0.0005\n",
      "Date:                Wed, Jan 31 2024   R-squared (Overall):              0.0004\n",
      "Time:                        13:34:29   Log-likelihood                  -6.8e+04\n",
      "Cov. Estimator:             Clustered                                           \n",
      "                                        F-statistic:                      31.310\n",
      "Entities:                         184   P-value                           0.0000\n",
      "Avg Obs:                       1008.7   Distribution:                F(6,185411)\n",
      "Min Obs:                       1.0000                                           \n",
      "Max Obs:                      2.9e+04   F-statistic (robust):             3.9447\n",
      "                                        P-value                           0.0006\n",
      "Time periods:                   28310   Distribution:                F(6,185411)\n",
      "Avg Obs:                       6.5560                                           \n",
      "Min Obs:                       1.0000                                           \n",
      "Max Obs:                       381.00                                           \n",
      "                                                                                \n",
      "                              Parameter Estimates                              \n",
      "===============================================================================\n",
      "             Parameter  Std. Err.     T-stat    P-value    Lower CI    Upper CI\n",
      "-------------------------------------------------------------------------------\n",
      "const           0.0860     0.0048     17.993     0.0000      0.0766      0.0953\n",
      "burned_area    -0.1787     0.0439    -4.0759     0.0000     -0.2647     -0.0928\n",
      "2004            0.0103     0.0055     1.8928     0.0584     -0.0004      0.0210\n",
      "2005            0.0034     0.0064     0.5359     0.5920     -0.0091      0.0159\n",
      "2006            0.0075     0.0069     1.0942     0.2739     -0.0059      0.0210\n",
      "2007           -0.0009     0.0078    -0.1203     0.9043     -0.0162      0.0143\n",
      "2008         2.611e-06     0.0084     0.0003     0.9998     -0.0164      0.0164\n",
      "===============================================================================\n",
      "\n",
      "F-test for Poolability: 52.519\n",
      "P-value: 0.0000\n",
      "Distribution: F(183,185411)\n",
      "\n",
      "Included effects: Entity\n"
     ]
    }
   ],
   "source": [
    "panel_ols_model = PanelOLS(Y, X, weights=data_regression['grid_cell_area'], \n",
    "               entity_effects=True, time_effects=False, check_rank=False, drop_absorbed=True)\n",
    "results = panel_ols_model.fit(cov_type='clustered', cluster_entity=True)\n",
    "#results = panel_ols_model.fit(cov_type='robust')\n",
    "print(results)"
   ]
  },
  {
   "cell_type": "markdown",
   "metadata": {},
   "source": [
    "---"
   ]
  },
  {
   "cell_type": "markdown",
   "metadata": {},
   "source": [
    "#### Recovery"
   ]
  },
  {
   "cell_type": "code",
   "execution_count": 100,
   "metadata": {},
   "outputs": [],
   "source": [
    "#### Loop\n",
    "\n",
    "feature_list = ['burned_area', 'burned_city_lag1', 'burned_city_lag2', 'burned_city_lag3', 'burned_city_lag4']\n",
    "#feature_list = ['count', 'count_city_lag1', 'count_city_lag2', 'count_city_lag3', 'count_city_lag4']\n",
    "#feature_list = ['elevation_250_burned', 'elevation_250_burnedlag1', 'elevation_250_burnedlag2', \n",
    "#                'elevation_250_burnedlag3', 'elevation_250_burnedlag4']\n",
    "\n",
    "regression_change_results = pd.DataFrame(columns=['params' , 'std_errors', 'pvalues'])\n",
    "\n",
    "for index in feature_list:\n",
    "    condition = (raw_df_subset['burned_area'] > 0) # or burned_area, burned_area_city\n",
    "    data_regression = raw_df_subset[condition]\n",
    "\n",
    "    target = ['urban_change'] \n",
    "    # ['urban_change', 'cultivated_land_change', 'uncultivated_land_change']\n",
    "    # ['urban_change','cropland_change','pasture_change','forest_change','grass_shrubland_change',\n",
    "\n",
    "    features = [index]\n",
    "                       \n",
    "    fixed_effects = ['grump_Countryeng', 'grid_cell_area']\n",
    "\n",
    "    data_regression = data_regression.dropna(subset = target + features + fixed_effects)\n",
    "    data_regression['grump_Countryeng'] = data_regression['grump_Countryeng'].astype('category')\n",
    "    data_regression['grump_Countryeng'] = data_regression['grump_Countryeng'].cat.codes\n",
    "    #data_regression = data_regression.reset_index().set_index(['grump_Countryeng', 'grid_cell'])\n",
    "    data_regression = data_regression.reset_index().set_index(['grump_Countryeng', 'grump_URBID'])\n",
    "    \n",
    "    Y = data_regression[target]\n",
    "    X = data_regression[features]\n",
    "    X = sm.add_constant(X)\n",
    "\n",
    "    dummies = pd.get_dummies(data=data_regression['grid_year'], drop_first=True)\n",
    "    X = pd.concat([X, dummies], axis=1)\n",
    "    \n",
    "    panel_ols_model = PanelOLS(Y, X, weights=data_regression['grid_cell_area'], \n",
    "                               entity_effects=True, time_effects=True, check_rank=False, drop_absorbed=True)\n",
    "    results = panel_ols_model.fit(cov_type='clustered', cluster_entity=True)\n",
    "    #results = panel_ols_model.fit(cov_type='robust')\n",
    "    \n",
    "    regression_change_results.loc[index, 'params'] = np.round(results.params[1:2].values[0],4)\n",
    "    regression_change_results.loc[index, 'std_errors'] = np.round(results.std_errors[1:2].values[0],4)\n",
    "    regression_change_results.loc[index, 'pvalues'] = np.round(results.pvalues[1:2].values[0],4)"
   ]
  },
  {
   "cell_type": "code",
   "execution_count": 101,
   "metadata": {},
   "outputs": [
    {
     "data": {
      "text/html": [
       "<div>\n",
       "<style scoped>\n",
       "    .dataframe tbody tr th:only-of-type {\n",
       "        vertical-align: middle;\n",
       "    }\n",
       "\n",
       "    .dataframe tbody tr th {\n",
       "        vertical-align: top;\n",
       "    }\n",
       "\n",
       "    .dataframe thead th {\n",
       "        text-align: right;\n",
       "    }\n",
       "</style>\n",
       "<table border=\"1\" class=\"dataframe\">\n",
       "  <thead>\n",
       "    <tr style=\"text-align: right;\">\n",
       "      <th></th>\n",
       "      <th>params</th>\n",
       "      <th>std_errors</th>\n",
       "      <th>pvalues</th>\n",
       "    </tr>\n",
       "  </thead>\n",
       "  <tbody>\n",
       "    <tr>\n",
       "      <th>burned_area</th>\n",
       "      <td>-0.0739</td>\n",
       "      <td>0.041</td>\n",
       "      <td>0.0717</td>\n",
       "    </tr>\n",
       "    <tr>\n",
       "      <th>burned_city_lag1</th>\n",
       "      <td>-0.0682</td>\n",
       "      <td>0.0329</td>\n",
       "      <td>0.0383</td>\n",
       "    </tr>\n",
       "    <tr>\n",
       "      <th>burned_city_lag2</th>\n",
       "      <td>-0.0639</td>\n",
       "      <td>0.0334</td>\n",
       "      <td>0.0559</td>\n",
       "    </tr>\n",
       "    <tr>\n",
       "      <th>burned_city_lag3</th>\n",
       "      <td>-0.108</td>\n",
       "      <td>0.0319</td>\n",
       "      <td>0.0007</td>\n",
       "    </tr>\n",
       "    <tr>\n",
       "      <th>burned_city_lag4</th>\n",
       "      <td>-0.0363</td>\n",
       "      <td>0.0304</td>\n",
       "      <td>0.2329</td>\n",
       "    </tr>\n",
       "  </tbody>\n",
       "</table>\n",
       "</div>"
      ],
      "text/plain": [
       "                  params std_errors pvalues\n",
       "burned_area      -0.0739      0.041  0.0717\n",
       "burned_city_lag1 -0.0682     0.0329  0.0383\n",
       "burned_city_lag2 -0.0639     0.0334  0.0559\n",
       "burned_city_lag3  -0.108     0.0319  0.0007\n",
       "burned_city_lag4 -0.0363     0.0304  0.2329"
      ]
     },
     "metadata": {},
     "output_type": "display_data"
    }
   ],
   "source": [
    "display(regression_change_results)"
   ]
  },
  {
   "cell_type": "markdown",
   "metadata": {},
   "source": [
    "---"
   ]
  },
  {
   "cell_type": "code",
   "execution_count": 102,
   "metadata": {},
   "outputs": [
    {
     "data": {
      "text/plain": [
       "-7.199999839067459e-05"
      ]
     },
     "execution_count": 102,
     "metadata": {},
     "output_type": "execute_result"
    }
   ],
   "source": [
    "condition = (raw_df_subset['burned_area'] > 0) # or burned_area, burned_area_city\n",
    "data_regression = raw_df_subset[condition]\n",
    "round(data_regression['burned_area'].std(),2) * -0.0018"
   ]
  },
  {
   "cell_type": "markdown",
   "metadata": {},
   "source": [
    "---"
   ]
  },
  {
   "cell_type": "markdown",
   "metadata": {},
   "source": [
    "#### Heterogeneity: New vs Existing\n",
    "\n",
    "Add Figure"
   ]
  },
  {
   "cell_type": "code",
   "execution_count": 103,
   "metadata": {},
   "outputs": [],
   "source": [
    "results_new = pd.DataFrame(columns = ['params', 'std_errors', 'pvalues'])\n",
    "results_existing = pd.DataFrame(columns = ['params', 'std_errors', 'pvalues'])\n",
    "\n",
    "shift_list = ['lead2', 'lead1', '', 'lag1', 'lag2', 'lag3', 'lag4']\n",
    "\n",
    "for shift_string in shift_list:\n",
    "    condition = (raw_df_subset['burned_area'] > 0)\n",
    "    data_regression = raw_df_subset[condition]\n",
    "\n",
    "    # Set target \n",
    "    target = ['uncultivated_land_change']\n",
    "    \n",
    "    # Set features\n",
    "    bin_list = ['new', 'existing']\n",
    "    \n",
    "    features = [] \n",
    "    for bin_index in bin_list:\n",
    "        features += ['burned_city_' + str(bin_index) + str(shift_string)]\n",
    "    \n",
    "    fixed_effects = ['grump_Countryeng', 'grid_cell_area']\n",
    "    \n",
    "    data_regression = data_regression.dropna(subset = target + features + fixed_effects)\n",
    "    data_regression['grump_Countryeng'] = data_regression['grump_Countryeng'].astype('category')\n",
    "    data_regression['grump_Countryeng'] = data_regression['grump_Countryeng'].cat.codes\n",
    "    #data_regression = data_regression.reset_index().set_index(['grump_Countryeng', 'grid_cell'])\n",
    "    data_regression = data_regression.reset_index().set_index(['grump_Countryeng', 'grump_URBID'])\n",
    "    \n",
    "    Y = data_regression[target]\n",
    "    X = data_regression[features]\n",
    "    X = sm.add_constant(X)\n",
    "    \n",
    "    dummies = pd.get_dummies(data=data_regression['grid_year'], drop_first=True)\n",
    "    X = pd.concat([X, dummies], axis=1)\n",
    "    \n",
    "    panel_ols_model = PanelOLS(Y, X, #weights=data_regression['grid_cell_area'], \n",
    "                               entity_effects=True, time_effects=True, check_rank=False, drop_absorbed=True)\n",
    "    results = panel_ols_model.fit(cov_type='clustered', cluster_entity=True)\n",
    "    #results = panel_ols_model.fit(cov_type='robust')\n",
    "    \n",
    "    results_new.loc[features[0], 'params'] = results.params[features[0]]\n",
    "    results_new.loc[features[0], 'std_errors'] = results.std_errors[features[1]]\n",
    "    results_new.loc[features[0], 'pvalues'] = results.pvalues[features[1]]\n",
    "    \n",
    "    results_existing.loc[features[1], 'params'] = results.params[features[1]]\n",
    "    results_existing.loc[features[1], 'std_errors'] = results.std_errors[features[1]]\n",
    "    results_existing.loc[features[1], 'pvalues'] = results.pvalues[features[1]]"
   ]
  },
  {
   "cell_type": "code",
   "execution_count": 104,
   "metadata": {},
   "outputs": [
    {
     "data": {
      "text/html": [
       "<div>\n",
       "<style scoped>\n",
       "    .dataframe tbody tr th:only-of-type {\n",
       "        vertical-align: middle;\n",
       "    }\n",
       "\n",
       "    .dataframe tbody tr th {\n",
       "        vertical-align: top;\n",
       "    }\n",
       "\n",
       "    .dataframe thead th {\n",
       "        text-align: right;\n",
       "    }\n",
       "</style>\n",
       "<table border=\"1\" class=\"dataframe\">\n",
       "  <thead>\n",
       "    <tr style=\"text-align: right;\">\n",
       "      <th></th>\n",
       "      <th>params</th>\n",
       "      <th>std_errors</th>\n",
       "      <th>pvalues</th>\n",
       "    </tr>\n",
       "  </thead>\n",
       "  <tbody>\n",
       "    <tr>\n",
       "      <th>burned_city_newlead2</th>\n",
       "      <td>0.071239</td>\n",
       "      <td>0.127689</td>\n",
       "      <td>0.270807</td>\n",
       "    </tr>\n",
       "    <tr>\n",
       "      <th>burned_city_newlead1</th>\n",
       "      <td>-0.004312</td>\n",
       "      <td>0.119991</td>\n",
       "      <td>0.625991</td>\n",
       "    </tr>\n",
       "    <tr>\n",
       "      <th>burned_city_new</th>\n",
       "      <td>-0.148051</td>\n",
       "      <td>0.141042</td>\n",
       "      <td>0.198884</td>\n",
       "    </tr>\n",
       "    <tr>\n",
       "      <th>burned_city_newlag1</th>\n",
       "      <td>-0.053208</td>\n",
       "      <td>0.116115</td>\n",
       "      <td>0.888641</td>\n",
       "    </tr>\n",
       "    <tr>\n",
       "      <th>burned_city_newlag2</th>\n",
       "      <td>-0.151686</td>\n",
       "      <td>0.128259</td>\n",
       "      <td>0.282737</td>\n",
       "    </tr>\n",
       "    <tr>\n",
       "      <th>burned_city_newlag3</th>\n",
       "      <td>-0.101374</td>\n",
       "      <td>0.103834</td>\n",
       "      <td>0.669199</td>\n",
       "    </tr>\n",
       "    <tr>\n",
       "      <th>burned_city_newlag4</th>\n",
       "      <td>0.066888</td>\n",
       "      <td>0.120561</td>\n",
       "      <td>0.671326</td>\n",
       "    </tr>\n",
       "  </tbody>\n",
       "</table>\n",
       "</div>"
      ],
      "text/plain": [
       "                        params std_errors   pvalues\n",
       "burned_city_newlead2  0.071239   0.127689  0.270807\n",
       "burned_city_newlead1 -0.004312   0.119991  0.625991\n",
       "burned_city_new      -0.148051   0.141042  0.198884\n",
       "burned_city_newlag1  -0.053208   0.116115  0.888641\n",
       "burned_city_newlag2  -0.151686   0.128259  0.282737\n",
       "burned_city_newlag3  -0.101374   0.103834  0.669199\n",
       "burned_city_newlag4   0.066888   0.120561  0.671326"
      ]
     },
     "metadata": {},
     "output_type": "display_data"
    },
    {
     "data": {
      "text/html": [
       "<div>\n",
       "<style scoped>\n",
       "    .dataframe tbody tr th:only-of-type {\n",
       "        vertical-align: middle;\n",
       "    }\n",
       "\n",
       "    .dataframe tbody tr th {\n",
       "        vertical-align: top;\n",
       "    }\n",
       "\n",
       "    .dataframe thead th {\n",
       "        text-align: right;\n",
       "    }\n",
       "</style>\n",
       "<table border=\"1\" class=\"dataframe\">\n",
       "  <thead>\n",
       "    <tr style=\"text-align: right;\">\n",
       "      <th></th>\n",
       "      <th>params</th>\n",
       "      <th>std_errors</th>\n",
       "      <th>pvalues</th>\n",
       "    </tr>\n",
       "  </thead>\n",
       "  <tbody>\n",
       "    <tr>\n",
       "      <th>burned_city_existinglead2</th>\n",
       "      <td>0.140612</td>\n",
       "      <td>0.127689</td>\n",
       "      <td>0.270807</td>\n",
       "    </tr>\n",
       "    <tr>\n",
       "      <th>burned_city_existinglead1</th>\n",
       "      <td>-0.058481</td>\n",
       "      <td>0.119991</td>\n",
       "      <td>0.625991</td>\n",
       "    </tr>\n",
       "    <tr>\n",
       "      <th>burned_city_existing</th>\n",
       "      <td>-0.181203</td>\n",
       "      <td>0.141042</td>\n",
       "      <td>0.198884</td>\n",
       "    </tr>\n",
       "    <tr>\n",
       "      <th>burned_city_existinglag1</th>\n",
       "      <td>-0.016259</td>\n",
       "      <td>0.116115</td>\n",
       "      <td>0.888641</td>\n",
       "    </tr>\n",
       "    <tr>\n",
       "      <th>burned_city_existinglag2</th>\n",
       "      <td>-0.137775</td>\n",
       "      <td>0.128259</td>\n",
       "      <td>0.282737</td>\n",
       "    </tr>\n",
       "    <tr>\n",
       "      <th>burned_city_existinglag3</th>\n",
       "      <td>-0.044363</td>\n",
       "      <td>0.103834</td>\n",
       "      <td>0.669199</td>\n",
       "    </tr>\n",
       "    <tr>\n",
       "      <th>burned_city_existinglag4</th>\n",
       "      <td>0.051158</td>\n",
       "      <td>0.120561</td>\n",
       "      <td>0.671326</td>\n",
       "    </tr>\n",
       "  </tbody>\n",
       "</table>\n",
       "</div>"
      ],
      "text/plain": [
       "                             params std_errors   pvalues\n",
       "burned_city_existinglead2  0.140612   0.127689  0.270807\n",
       "burned_city_existinglead1 -0.058481   0.119991  0.625991\n",
       "burned_city_existing      -0.181203   0.141042  0.198884\n",
       "burned_city_existinglag1  -0.016259   0.116115  0.888641\n",
       "burned_city_existinglag2  -0.137775   0.128259  0.282737\n",
       "burned_city_existinglag3  -0.044363   0.103834  0.669199\n",
       "burned_city_existinglag4   0.051158   0.120561  0.671326"
      ]
     },
     "metadata": {},
     "output_type": "display_data"
    }
   ],
   "source": [
    "display(results_new)\n",
    "display(results_existing)"
   ]
  },
  {
   "cell_type": "markdown",
   "metadata": {},
   "source": [
    "---"
   ]
  },
  {
   "cell_type": "markdown",
   "metadata": {},
   "source": [
    "## 7. Regressions: Robustness IV"
   ]
  },
  {
   "cell_type": "code",
   "execution_count": 105,
   "metadata": {},
   "outputs": [],
   "source": [
    "from linearmodels import PanelOLS, PooledOLS, RandomEffects, IV2SLS, IVGMM"
   ]
  },
  {
   "cell_type": "code",
   "execution_count": 106,
   "metadata": {},
   "outputs": [],
   "source": [
    "target = ['ln_light']\n",
    "exogenous = ['burned_area'] # burned_area # burned_city_lag1\n",
    "endogenous = ['ln_light_lag1']\n",
    "instrument = ['ln_light_lag2']\n",
    "fixed_effects = ['year', 'cell', 'grump_Countryeng', 'grump_URBID']\n",
    "\n",
    "condition = (raw_df_subset['burned_area'] > 0)\n",
    "data_regression = raw_df_subset.dropna(subset = target + exogenous + endogenous + instrument + fixed_effects)\n",
    "\n",
    "Y = data_regression[target]\n",
    "X = data_regression[exogenous]\n",
    "X = sm.add_constant(X)\n",
    "\n",
    "data_regression['year'] = 'year_' + data_regression['year'].astype(str)\n",
    "dummies = pd.get_dummies(data=data_regression['year'], drop_first=True)\n",
    "X = pd.concat([X, dummies], axis=1)\n",
    "\n",
    "dummies = pd.get_dummies(data=data_regression['grump_Countryeng'], drop_first=True)\n",
    "X = pd.concat([X, dummies], axis=1)\n",
    "\n",
    "W = data_regression[endogenous]\n",
    "Z = data_regression[instrument]"
   ]
  },
  {
   "cell_type": "code",
   "execution_count": 107,
   "metadata": {},
   "outputs": [
    {
     "name": "stdout",
     "output_type": "stream",
     "text": [
      "                          IV-2SLS Estimation Summary                          \n",
      "==============================================================================\n",
      "Dep. Variable:               ln_light   R-squared:                      0.5504\n",
      "Estimator:                    IV-2SLS   Adj. R-squared:                 0.5501\n",
      "No. Observations:              308086   F-statistic:                -6.285e+19\n",
      "Date:                Wed, Jan 31 2024   P-value (F-stat)                1.0000\n",
      "Time:                        13:37:21   Distribution:                chi2(208)\n",
      "Cov. Estimator:             clustered                                         \n",
      "                                                                              \n",
      "                                         Parameter Estimates                                         \n",
      "=====================================================================================================\n",
      "                                   Parameter  Std. Err.     T-stat    P-value    Lower CI    Upper CI\n",
      "-----------------------------------------------------------------------------------------------------\n",
      "const                                 0.2372     0.0140     16.949     0.0000      0.2098      0.2647\n",
      "burned_area                          -0.4350     0.2454    -1.7725     0.0763     -0.9159      0.0460\n",
      "year_2004                             0.0053     0.0038     1.4076     0.1592     -0.0021      0.0128\n",
      "year_2005                             0.0224     0.0054     4.1780     0.0000      0.0119      0.0330\n",
      "year_2006                             0.0190     0.0080     2.3814     0.0172      0.0034      0.0346\n",
      "year_2007                             0.0135     0.0079     1.7156     0.0862     -0.0019      0.0289\n",
      "year_2008                             0.0959     0.0096     10.029     0.0000      0.0772      0.1147\n",
      "Albania                               0.1393     0.0211     6.5884     0.0000      0.0978      0.1807\n",
      "Algeria                               0.3654     0.0203     18.005     0.0000      0.3256      0.4052\n",
      "Andorra                               1.3815     0.0240     57.496     0.0000      1.3344      1.4286\n",
      "Angola                               -0.2063     0.0295    -6.9944     0.0000     -0.2641     -0.1485\n",
      "Antigua and Barbuda                   0.3147     0.0333     9.4454     0.0000      0.2494      0.3800\n",
      "Argentina                             0.3003     0.0065     46.409     0.0000      0.2876      0.3130\n",
      "Armenia                              -0.0986     0.0050    -19.794     0.0000     -0.1083     -0.0888\n",
      "Aruba                                 0.5127     0.0157     32.700     0.0000      0.4820      0.5434\n",
      "Australia                             0.1457     0.0037     38.879     0.0000      0.1384      0.1531\n",
      "Austria                               0.5763     0.0411     14.021     0.0000      0.4957      0.6569\n",
      "Azerbaijan                            0.2202     0.0148     14.890     0.0000      0.1912      0.2492\n",
      "Bahamas                               0.8008     0.0118     67.815     0.0000      0.7777      0.8240\n",
      "Bahrain                               0.8987     0.0844     10.645     0.0000      0.7333      1.0642\n",
      "Bangladesh                            0.0970     0.0122     7.9454     0.0000      0.0731      0.1209\n",
      "Barbados                              0.6747     0.0317     21.301     0.0000      0.6126      0.7368\n",
      "Belarus                               0.1073     0.0119     8.9995     0.0000      0.0839      0.1306\n",
      "Belgium                               1.0673     0.0733     14.563     0.0000      0.9236      1.2109\n",
      "Belize                                0.1340     0.0072     18.601     0.0000      0.1199      0.1481\n",
      "Benin                                -0.1177     0.0301    -3.9128     0.0001     -0.1766     -0.0587\n",
      "Bhutan                               -0.2426     0.0061    -39.652     0.0000     -0.2546     -0.2306\n",
      "Bolivia                               0.2974     0.0028     106.44     0.0000      0.2920      0.3029\n",
      "Bosnia-Herzegovina                    0.3939     0.0268     14.669     0.0000      0.3412      0.4465\n",
      "Botswana                             -0.1569     0.0052    -30.208     0.0000     -0.1671     -0.1467\n",
      "Brazil                                0.2690     0.0085     31.784     0.0000      0.2524      0.2856\n",
      "Brunei Darussalam                     0.2393     0.0292     8.1870     0.0000      0.1820      0.2966\n",
      "Bulgaria                              0.3108     0.0225     13.805     0.0000      0.2667      0.3550\n",
      "Burkina Faso                         -0.2029     0.0154    -13.199     0.0000     -0.2330     -0.1728\n",
      "Burundi                              -0.2205     0.0105    -20.976     0.0000     -0.2411     -0.1999\n",
      "Cambodia                             -0.2174     0.0206    -10.575     0.0000     -0.2576     -0.1771\n",
      "Cameroon                             -0.2337     0.0106    -22.002     0.0000     -0.2545     -0.2129\n",
      "Canada                                0.7437     0.0303     24.516     0.0000      0.6842      0.8031\n",
      "Cape Verde                            0.1040     0.0020     52.675     0.0000      0.1001      0.1079\n",
      "Cayman Islands                        0.7804     0.0201     38.887     0.0000      0.7410      0.8197\n",
      "Central African Republic             -0.2085     0.0262    -7.9487     0.0000     -0.2599     -0.1571\n",
      "Chad                                 -0.1775     0.0240    -7.4004     0.0000     -0.2245     -0.1305\n",
      "Chile                                 0.3249     0.0138     23.615     0.0000      0.2979      0.3519\n",
      "China                                 0.2536     0.0167     15.189     0.0000      0.2209      0.2863\n",
      "Colombia                              0.3862     0.0089     43.262     0.0000      0.3687      0.4037\n",
      "Commonwealth of Dominica              0.3337     0.0134     24.812     0.0000      0.3073      0.3601\n",
      "Comoros                              -0.2579     0.0131    -19.737     0.0000     -0.2836     -0.2323\n",
      "Congo                                -0.1119     0.0082    -13.628     0.0000     -0.1280     -0.0958\n",
      "Congo, Democratic Republic           -0.1994     0.0220    -9.0526     0.0000     -0.2426     -0.1563\n",
      "Costa Rica                            0.4060     0.0207     19.596     0.0000      0.3653      0.4466\n",
      "Croatia                               0.4779     0.0352     13.594     0.0000      0.4090      0.5468\n",
      "Cuba                                  0.1268     0.0118     10.744     0.0000      0.1037      0.1500\n",
      "Cyprus                                0.5627     0.0307     18.346     0.0000      0.5026      0.6228\n",
      "Czech Republic                        0.7633     0.0503     15.166     0.0000      0.6647      0.8620\n",
      "Denmark                               0.4866     0.0322     15.133     0.0000      0.4236      0.5496\n",
      "Djibouti                              0.7798     0.0133     58.641     0.0000      0.7537      0.8058\n",
      "Dominican Republic                    0.2945     0.0134     21.935     0.0000      0.2682      0.3208\n",
      "East Timor                           -0.2346     0.0090    -26.125     0.0000     -0.2522     -0.2170\n",
      "Ecuador                               0.5004     0.0193     25.861     0.0000      0.4624      0.5383\n",
      "Egypt                                 1.1500     0.0468     24.585     0.0000      1.0583      1.2417\n",
      "El Salvador                           0.4252     0.0268     15.881     0.0000      0.3727      0.4777\n",
      "Equatorial Guinea                    -0.0260     0.0042    -6.1417     0.0000     -0.0342     -0.0177\n",
      "Eritrea                              -0.0208     0.0071    -2.9454     0.0032     -0.0347     -0.0070\n",
      "Estonia                               0.2876     0.0196     14.644     0.0000      0.2491      0.3261\n",
      "Ethiopia                             -0.1998     0.0110    -18.136     0.0000     -0.2214     -0.1782\n",
      "Falkland Islands                      0.4299     0.0134     31.963     0.0000      0.4035      0.4562\n",
      "Fiji                                 -0.0806     0.0009    -86.075     0.0000     -0.0824     -0.0787\n",
      "Finland                               0.7438     0.0360     20.666     0.0000      0.6733      0.8144\n",
      "France                                0.6685     0.0419     15.969     0.0000      0.5865      0.7506\n",
      "French Guiana                         0.4562     0.0049     93.640     0.0000      0.4466      0.4657\n",
      "Gabon                                -0.1818     0.0006    -296.51     0.0000     -0.1830     -0.1806\n",
      "Gambia                               -0.2534     0.0208    -12.180     0.0000     -0.2942     -0.2126\n",
      "Georgia                              -0.0510     0.0055    -9.2776     0.0000     -0.0617     -0.0402\n",
      "Germany                               0.7026     0.0493     14.245     0.0000      0.6060      0.7993\n",
      "Ghana                                 0.0049     0.0266     0.1833     0.8546     -0.0473      0.0570\n",
      "Greece                                0.4098     0.0261     15.690     0.0000      0.3586      0.4610\n",
      "Greenland                             0.2751     0.0063     43.354     0.0000      0.2627      0.2876\n",
      "Grenada                               0.6836     0.0019     364.96     0.0000      0.6800      0.6873\n",
      "Guadeloupe                            0.8378     0.0182     45.921     0.0000      0.8020      0.8735\n",
      "Guatemala                             0.2712     0.0208     13.048     0.0000      0.2305      0.3119\n",
      "Guernsey                             -0.2362     0.0098    -24.055     0.0000     -0.2554     -0.2170\n",
      "Guinea                               -0.2361     0.0193    -12.204     0.0000     -0.2741     -0.1982\n",
      "Guinea-Bissau                        -0.2432     0.0163    -14.940     0.0000     -0.2751     -0.2113\n",
      "Guyana                               -0.0743     0.0048    -15.516     0.0000     -0.0837     -0.0649\n",
      "Haiti                                -0.3009     0.0043    -69.640     0.0000     -0.3094     -0.2924\n",
      "Honduras                              0.1418     0.0133     10.626     0.0000      0.1157      0.1680\n",
      "Hong Kong                             1.1662     0.0890     13.103     0.0000      0.9917      1.3406\n",
      "Hungary                               0.4674     0.0338     13.837     0.0000      0.4012      0.5337\n",
      "Iceland                               0.5969     0.0135     44.183     0.0000      0.5704      0.6234\n",
      "India                                 0.3888     0.0238     16.340     0.0000      0.3422      0.4355\n",
      "Indonesia                             0.1475     0.0100     14.798     0.0000      0.1280      0.1671\n",
      "Iran                                  0.6370     0.0282     22.604     0.0000      0.5818      0.6923\n",
      "Iraq                                  0.4919     0.0249     19.742     0.0000      0.4430      0.5407\n",
      "Ireland                               0.6329     0.0310     20.398     0.0000      0.5721      0.6937\n",
      "Isle of Man                           0.3515     0.0237     14.853     0.0000      0.3051      0.3979\n",
      "Israel                                1.1935     0.0528     22.612     0.0000      1.0900      1.2969\n",
      "Italy                                 0.7739     0.0492     15.740     0.0000      0.6775      0.8702\n",
      "Ivory Coast                           0.0185     0.0107     1.7211     0.0852     -0.0026      0.0395\n",
      "Jamaica                               0.4886     0.0339     14.412     0.0000      0.4222      0.5551\n",
      "Japan                                 0.6748     0.0415     16.277     0.0000      0.5936      0.7561\n",
      "Jersey                                1.0179     0.0134     75.686     0.0000      0.9915      1.0442\n",
      "Jordan                                0.8081     0.0573     14.104     0.0000      0.6958      0.9205\n",
      "Kazakhstan                            0.1124     0.0064     17.521     0.0000      0.0998      0.1249\n",
      "Kenya                                -0.0726     0.0070    -10.423     0.0000     -0.0862     -0.0589\n",
      "Korea                                 0.8968     0.0527     17.023     0.0000      0.7935      1.0000\n",
      "Korea, Dem. People's Rep. of         -0.2609     0.0023    -113.65     0.0000     -0.2654     -0.2564\n",
      "Kuwait                                1.0578     0.0689     15.351     0.0000      0.9227      1.1928\n",
      "Kyrgyz Republic                       0.0330     0.0079     4.1620     0.0000      0.0174      0.0485\n",
      "Lao People's Democratic Republic     -0.2928     0.0094    -31.230     0.0000     -0.3111     -0.2744\n",
      "Latvia                                0.0655     0.0080     8.1846     0.0000      0.0498      0.0812\n",
      "Lebanon                               0.9356     0.0431     21.692     0.0000      0.8510      1.0201\n",
      "Lesotho                              -0.1123     0.0062    -18.085     0.0000     -0.1245     -0.1001\n",
      "Liberia                              -0.2258     0.0105    -21.405     0.0000     -0.2465     -0.2051\n",
      "Libyan Arab Jamahiriya                0.8219     0.0291     28.290     0.0000      0.7649      0.8788\n",
      "Lithuania                             0.1525     0.0121     12.582     0.0000      0.1287      0.1762\n",
      "Luxembourg                            0.6779     0.0518     13.096     0.0000      0.5765      0.7794\n",
      "Macao                                 0.7759     0.0743     10.442     0.0000      0.6303      0.9216\n",
      "Macedonia                             0.3285     0.0222     14.811     0.0000      0.2850      0.3720\n",
      "Madagascar                           -0.2455     0.0094    -26.009     0.0000     -0.2640     -0.2270\n",
      "Malawi                               -0.0666     0.0103    -6.4790     0.0000     -0.0867     -0.0464\n",
      "Malaysia                              0.3574     0.0252     14.192     0.0000      0.3080      0.4068\n",
      "Mali                                 -0.1935     0.0173    -11.167     0.0000     -0.2274     -0.1595\n",
      "Malta                                 1.1041     0.0158     69.916     0.0000      1.0731      1.1350\n",
      "Martinique                            0.7680     0.0211     36.315     0.0000      0.7265      0.8094\n",
      "Mauritania                           -0.1959     0.0040    -49.139     0.0000     -0.2037     -0.1881\n",
      "Mauritius                             1.4257     0.0171     83.600     0.0000      1.3923      1.4592\n",
      "Mayotte                               0.2491     0.0054     45.975     0.0000      0.2384      0.2597\n",
      "Mexico                                0.4605     0.0208     22.123     0.0000      0.4197      0.5013\n",
      "Mongolia                              0.1561     0.0012     129.33     0.0000      0.1537      0.1585\n",
      "Montserrat                           -0.6506     0.0060    -109.04     0.0000     -0.6623     -0.6389\n",
      "Morocco (includes Western Sahara)     0.4188     0.0180     23.289     0.0000      0.3835      0.4540\n",
      "Mozambique                           -0.1438     0.0188    -7.6338     0.0000     -0.1807     -0.1069\n",
      "Myanmar                              -0.2211     0.0070    -31.404     0.0000     -0.2349     -0.2073\n",
      "Namibia                               0.0539     0.0073     7.4126     0.0000      0.0397      0.0682\n",
      "Nepal                                -0.1153     0.0050    -22.951     0.0000     -0.1251     -0.1054\n",
      "Netherland Antilles                   1.0124     0.0287     35.224     0.0000      0.9561      1.0688\n",
      "Netherlands                           0.9992     0.0582     17.161     0.0000      0.8851      1.1133\n",
      "New Caledonia                        -0.0609     0.0013    -46.362     0.0000     -0.0635     -0.0583\n",
      "New Zealand                           0.1117     0.0064     17.391     0.0000      0.0991      0.1243\n",
      "Nicaragua                             0.0639     0.0027     23.818     0.0000      0.0587      0.0692\n",
      "Niger                                -0.1145     0.0108    -10.578     0.0000     -0.1358     -0.0933\n",
      "Nigeria                               0.0417     0.0127     3.2773     0.0010      0.0167      0.0666\n",
      "Norway                                0.7791     0.0300     25.987     0.0000      0.7203      0.8379\n",
      "Occupied Palestinian Territory        1.1822     0.0703     16.821     0.0000      1.0445      1.3200\n",
      "Oman                                  0.8840     0.0302     29.290     0.0000      0.8249      0.9432\n",
      "Pakistan                              0.6660     0.0325     20.494     0.0000      0.6023      0.7297\n",
      "Palau                                -0.3041     0.0060    -50.960     0.0000     -0.3158     -0.2924\n",
      "Panama                                0.3607     0.0104     34.546     0.0000      0.3403      0.3812\n",
      "Papua New Guinea                      0.0247     0.0074     3.3298     0.0009      0.0102      0.0392\n",
      "Paraguay                              0.1842     0.0052     35.165     0.0000      0.1739      0.1945\n",
      "Peru                                  0.2475     0.0009     276.70     0.0000      0.2457      0.2492\n",
      "Philippines                           0.0559     0.0100     5.5778     0.0000      0.0363      0.0756\n",
      "Poland                                0.6078     0.0423     14.367     0.0000      0.5249      0.6908\n",
      "Portugal                              0.6522     0.0417     15.654     0.0000      0.5706      0.7339\n",
      "Puerto Rico                           0.8213     0.0518     15.865     0.0000      0.7198      0.9228\n",
      "Qatar                                 1.2857     0.0566     22.716     0.0000      1.1748      1.3967\n",
      "Republic of Moldova                   0.1084     0.0120     9.0090     0.0000      0.0848      0.1320\n",
      "Reunion                               0.8852     0.0225     39.324     0.0000      0.8411      0.9293\n",
      "Romania                               0.2883     0.0225     12.824     0.0000      0.2442      0.3323\n",
      "Russia                                0.2057     0.0138     14.918     0.0000      0.1787      0.2327\n",
      "Rwanda                               -0.2728     0.0069    -39.519     0.0000     -0.2863     -0.2593\n",
      "Saint Kitts and Nevis                 0.5373     0.0052     103.92     0.0000      0.5272      0.5475\n",
      "Saint Lucia                           0.5833     0.0011     550.11     0.0000      0.5812      0.5854\n",
      "Saint Pierre and Miquelon             0.6326     0.0134     47.037     0.0000      0.6062      0.6590\n",
      "Saint Vincent                         0.2059     0.0078     26.401     0.0000      0.1906      0.2211\n",
      "San Marino                            1.6107     0.0325     49.630     0.0000      1.5471      1.6743\n",
      "Saudi Arabia                          1.1231     0.0318     35.327     0.0000      1.0608      1.1854\n",
      "Senegal                              -0.1364     0.0088    -15.446     0.0000     -0.1537     -0.1191\n",
      "Serbia and Montenegro                 0.4265     0.0284     15.011     0.0000      0.3708      0.4822\n",
      "Sierra Leone                         -0.2154     0.0175    -12.273     0.0000     -0.2498     -0.1810\n",
      "Singapore                             0.8072     0.0950     8.4944     0.0000      0.6210      0.9935\n",
      "Slovakia                              0.4693     0.0401     11.700     0.0000      0.3907      0.5480\n",
      "Slovenia                              0.6417     0.0404     15.898     0.0000      0.5626      0.7208\n",
      "Solomon Islands                      -0.1930     0.0102    -18.913     0.0000     -0.2130     -0.1730\n",
      "Somalia                              -0.1604     0.0108    -14.903     0.0000     -0.1815     -0.1393\n",
      "South Africa                          0.3837     0.0141     27.288     0.0000      0.3561      0.4112\n",
      "Spain                                 0.5813     0.0347     16.746     0.0000      0.5133      0.6494\n",
      "Sri Lanka                             0.4192     0.0211     19.840     0.0000      0.3778      0.4606\n",
      "Sudan                                 0.1806     0.0087     20.685     0.0000      0.1635      0.1977\n",
      "Suriname                              0.3438     0.0042     81.417     0.0000      0.3355      0.3521\n",
      "Swaziland                             0.4405     0.0147     30.052     0.0000      0.4118      0.4692\n",
      "Sweden                                0.6832     0.0333     20.496     0.0000      0.6178      0.7485\n",
      "Switzerland                           0.7165     0.0520     13.782     0.0000      0.6146      0.8184\n",
      "Syrian Arab Republic                  0.6572     0.0390     16.848     0.0000      0.5807      0.7336\n",
      "Taiwan                                0.8400     0.0439     19.149     0.0000      0.7541      0.9260\n",
      "Tajikistan                            0.0578     0.0156     3.7089     0.0002      0.0273      0.0884\n",
      "Thailand                              0.2369     0.0159     14.877     0.0000      0.2057      0.2682\n",
      "Togo                                 -0.1339     0.0394    -3.3986     0.0007     -0.2111     -0.0567\n",
      "Trinidad and Tobago                   0.6829     0.0369     18.521     0.0000      0.6107      0.7552\n",
      "Tunisia                               0.4568     0.0210     21.707     0.0000      0.4156      0.4980\n",
      "Turkey                                0.2539     0.0170     14.941     0.0000      0.2206      0.2873\n",
      "Turkmenistan                          0.3593     0.0133     26.946     0.0000      0.3332      0.3855\n",
      "Turks and Caicos Islands              0.0836     0.0134     6.2155     0.0000      0.0572      0.1100\n",
      "Uganda                               -0.1792     0.0120    -14.917     0.0000     -0.2027     -0.1556\n",
      "Ukraine                               0.1585     0.0144     11.001     0.0000      0.1303      0.1867\n",
      "United Arab Emirates                  1.4427     0.0489     29.504     0.0000      1.3469      1.5386\n",
      "United Kingdom                        0.8081     0.0494     16.345     0.0000      0.7112      0.9050\n",
      "United Rep. of Tanzania              -0.0935     0.0095    -9.8634     0.0000     -0.1120     -0.0749\n",
      "United States Virgin Islands          0.6085     0.0209     29.096     0.0000      0.5675      0.6495\n",
      "United States of America              0.6557     0.0344     19.058     0.0000      0.5882      0.7231\n",
      "Uruguay                               0.0875     0.0069     12.625     0.0000      0.0739      0.1011\n",
      "Uzbekistan                            0.4818     0.0278     17.361     0.0000      0.4274      0.5362\n",
      "Vanuatu                              -0.2563     0.0017    -151.19     0.0000     -0.2596     -0.2530\n",
      "Venezuela                             0.4707     0.0212     22.222     0.0000      0.4292      0.5122\n",
      "Viet Nam                              0.4189     0.0203     20.651     0.0000      0.3791      0.4587\n",
      "Yemen                                 0.5809     0.0138     42.013     0.0000      0.5538      0.6080\n",
      "Zambia                               -0.0223     0.0345    -0.6467     0.5178     -0.0898      0.0453\n",
      "Zimbabwe                              0.2454     0.0122     20.150     0.0000      0.2215      0.2692\n",
      "ln_light_lag1                         0.5588     0.0280     19.969     0.0000      0.5040      0.6137\n",
      "=====================================================================================================\n",
      "\n",
      "Endogenous: ln_light_lag1\n",
      "Instruments: ln_light_lag2\n",
      "Clustered Covariance (One-Way)\n",
      "Debiased: False\n",
      "Num Clusters: 202\n"
     ]
    }
   ],
   "source": [
    "resultIV = IV2SLS(Y, X, W, Z, weights=data_regression['grid_cell_area'])\n",
    "results = resultIV.fit(cov_type=\"clustered\", clusters=data_regression['grump_Countryeng'])\n",
    "#results = resultIV.fit(cov_type='unadjusted')\n",
    "print(results)"
   ]
  },
  {
   "cell_type": "markdown",
   "metadata": {},
   "source": [
    "---"
   ]
  }
 ],
 "metadata": {
  "interpreter": {
   "hash": "31f2aee4e71d21fbe5cf8b01ff0e069b9275f58929596ceb00d14d90e3e16cd6"
  },
  "kernelspec": {
   "display_name": "Python 3 (ipykernel)",
   "language": "python",
   "name": "python3"
  },
  "language_info": {
   "codemirror_mode": {
    "name": "ipython",
    "version": 3
   },
   "file_extension": ".py",
   "mimetype": "text/x-python",
   "name": "python",
   "nbconvert_exporter": "python",
   "pygments_lexer": "ipython3",
   "version": "3.11.4"
  }
 },
 "nbformat": 4,
 "nbformat_minor": 4
}
