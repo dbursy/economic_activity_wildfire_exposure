{
 "cells": [
  {
   "cell_type": "markdown",
   "id": "4329d546",
   "metadata": {},
   "source": [
    "# Master Thesis: Natural Disasters Descriptive Statistics\n",
    "\n",
    "Author:\n",
    "[Dominik Bursy](mailto:dominik.bursy@icloud.com)\n",
    " \n",
    "Last Update: October 2022\n",
    " \n",
    "---\n",
    " \n",
    "The objective of this notebook is to inspect the data from the [International Disaster Database](https://www.emdat.be/).\n",
    " \n",
    "---\n",
    " \n",
    "## Table of Contents\n",
    "\n",
    "- [Import Packages](#packages)\n",
    "- [Set Color Scheme](#color_scheme)\n",
    "- [Descriptive Analysis EM-DAT](#descriptive_analysis)\n",
    "\n",
    "---"
   ]
  },
  {
   "cell_type": "markdown",
   "id": "97b7656e-ab70-4785-98fe-6b657a9b4410",
   "metadata": {},
   "source": [
    "## Import Packages"
   ]
  },
  {
   "cell_type": "code",
   "execution_count": 8,
   "id": "02a33622-c368-4d6d-a44d-8683ffe60cb9",
   "metadata": {},
   "outputs": [],
   "source": [
    "import pandas as pd\n",
    "import numpy as np\n",
    "\n",
    "import matplotlib.pyplot as plt\n",
    "import seaborn as sns\n",
    "\n",
    "import geopandas as gpd\n",
    "import time\n",
    "\n",
    "import statsmodels.api as sm\n",
    "\n",
    "import os\n",
    "import warnings\n",
    "warnings.simplefilter(action='ignore')\n",
    "\n",
    "pd.set_option('display.max_columns', None)"
   ]
  },
  {
   "cell_type": "markdown",
   "id": "6e87805a-4607-461c-8034-8c493cfb38a4",
   "metadata": {},
   "source": [
    "## Set Color Scheme"
   ]
  },
  {
   "cell_type": "code",
   "execution_count": 9,
   "id": "219e20e1-5522-48a4-8920-3f867cd49c43",
   "metadata": {},
   "outputs": [],
   "source": [
    "sns.set_theme()\n",
    "# https://towardsdatascience.com/how-to-use-your-own-color-palettes-with-seaborn-a45bf5175146\n",
    "\n",
    "#sns.set_theme(style=\"ticks\", rc=custom_params, palette=\"Paired\")\n",
    "\n",
    "custom_params = {\"axes.spines.right\": False, \"axes.spines.top\": False, \"xtick.bottom\":True, \"ytick.left\":True}\n",
    "sns.set_theme(style=\"white\", rc=custom_params, palette='Paired') #viridis #Spectral\n",
    "\n",
    "# Create an array with the colors you want to use\n",
    "#colors = sns.color_palette(\"viridis\", n_colors=10)\n",
    "\n",
    "# Set your custom color palette\n",
    "#sns.set_palette(sns.color_palette(colors))"
   ]
  },
  {
   "cell_type": "markdown",
   "id": "65055a68-319b-4a41-a379-c74d35f2484e",
   "metadata": {},
   "source": [
    "# Descriptive Analysis EM-DAT"
   ]
  },
  {
   "cell_type": "markdown",
   "id": "69acbaa0-dd0c-4ba1-8fd2-71c9692d642e",
   "metadata": {},
   "source": [
    "### Data Prepatration"
   ]
  },
  {
   "cell_type": "code",
   "execution_count": 19,
   "id": "c7cfbd57-e574-46bd-9e12-fce73aefdd25",
   "metadata": {},
   "outputs": [],
   "source": [
    "## Read the data\n",
    "\n",
    "#df_global = pd.read_excel(\n",
    "#    os.path.join(os.path.dirname(\"__file__\"), '..', 'data', 'emdat_global_full.xlsx'),\n",
    "#    sheet_name='emdat data'\n",
    "#)\n",
    "\n",
    "df_global = pd.read_csv(\n",
    "    os.path.join(os.path.dirname(\"__file__\"), '..', 'data', 'emdat_global_full.csv')\n",
    ")"
   ]
  },
  {
   "cell_type": "code",
   "execution_count": 20,
   "id": "9ce458c0-dc05-4712-8996-8b7f9aff411b",
   "metadata": {},
   "outputs": [],
   "source": [
    "## Exclude Biological: Epidemic, Insect infestation, Animal accident\n",
    "## Exclude Extra-terrestrial: Impact\n",
    "## Pool Mass movement (dry) with Landslide\n",
    "\n",
    "condition = ['Epidemic', 'Insect infestation', 'Animal accident', 'Impact']\n",
    "\n",
    "df_global = df_global[~df_global['Disaster Type'].isin(condition)]\n",
    "\n",
    "df_global.loc[df_global['Disaster Type'] == 'Mass movement (dry)', 'Disaster Type'] = 'Landslide'"
   ]
  },
  {
   "cell_type": "code",
   "execution_count": 12,
   "id": "3244e406-1424-4406-a7e6-9a163be44181",
   "metadata": {},
   "outputs": [],
   "source": [
    "## Split the Continent Americas into North and South America\n",
    "## Rename Ociania\n",
    "## https://www.worldometers.info/geography/7-continents/\n",
    "\n",
    "df_global.loc[df_global['Region'].isin(['Caribbean', 'Central America', 'Northern America']), 'Continent'] = 'North America'\n",
    "df_global.loc[df_global['Region'].isin(['South America']), 'Continent'] = 'South America'\n",
    "df_global.loc[df_global['Continent'] == 'Oceania', 'Continent'] = 'Australia/Oceania'"
   ]
  },
  {
   "cell_type": "markdown",
   "id": "04526264-c61a-4bf7-af20-48ac68dda087",
   "metadata": {},
   "source": [
    "---"
   ]
  },
  {
   "cell_type": "code",
   "execution_count": 13,
   "id": "319e63e1-7c9c-4428-8730-60c46ea78278",
   "metadata": {},
   "outputs": [
    {
     "data": {
      "text/html": [
       "<div>\n",
       "<style scoped>\n",
       "    .dataframe tbody tr th:only-of-type {\n",
       "        vertical-align: middle;\n",
       "    }\n",
       "\n",
       "    .dataframe tbody tr th {\n",
       "        vertical-align: top;\n",
       "    }\n",
       "\n",
       "    .dataframe thead th {\n",
       "        text-align: right;\n",
       "    }\n",
       "</style>\n",
       "<table border=\"1\" class=\"dataframe\">\n",
       "  <thead>\n",
       "    <tr style=\"text-align: right;\">\n",
       "      <th></th>\n",
       "      <th>Total Affected</th>\n",
       "    </tr>\n",
       "    <tr>\n",
       "      <th>Year</th>\n",
       "      <th></th>\n",
       "    </tr>\n",
       "  </thead>\n",
       "  <tbody>\n",
       "    <tr>\n",
       "      <th>2003</th>\n",
       "      <td>184333.0</td>\n",
       "    </tr>\n",
       "    <tr>\n",
       "      <th>2004</th>\n",
       "      <td>20519.0</td>\n",
       "    </tr>\n",
       "    <tr>\n",
       "      <th>2005</th>\n",
       "      <td>6907.0</td>\n",
       "    </tr>\n",
       "    <tr>\n",
       "      <th>2006</th>\n",
       "      <td>2062.0</td>\n",
       "    </tr>\n",
       "    <tr>\n",
       "      <th>2007</th>\n",
       "      <td>1785017.0</td>\n",
       "    </tr>\n",
       "    <tr>\n",
       "      <th>2008</th>\n",
       "      <td>58668.0</td>\n",
       "    </tr>\n",
       "  </tbody>\n",
       "</table>\n",
       "</div>"
      ],
      "text/plain": [
       "      Total Affected\n",
       "Year                \n",
       "2003        184333.0\n",
       "2004         20519.0\n",
       "2005          6907.0\n",
       "2006          2062.0\n",
       "2007       1785017.0\n",
       "2008         58668.0"
      ]
     },
     "metadata": {},
     "output_type": "display_data"
    },
    {
     "data": {
      "text/html": [
       "<div>\n",
       "<style scoped>\n",
       "    .dataframe tbody tr th:only-of-type {\n",
       "        vertical-align: middle;\n",
       "    }\n",
       "\n",
       "    .dataframe tbody tr th {\n",
       "        vertical-align: top;\n",
       "    }\n",
       "\n",
       "    .dataframe thead th {\n",
       "        text-align: right;\n",
       "    }\n",
       "</style>\n",
       "<table border=\"1\" class=\"dataframe\">\n",
       "  <thead>\n",
       "    <tr style=\"text-align: right;\">\n",
       "      <th></th>\n",
       "      <th>Total Affected</th>\n",
       "    </tr>\n",
       "    <tr>\n",
       "      <th>Continent</th>\n",
       "      <th></th>\n",
       "    </tr>\n",
       "  </thead>\n",
       "  <tbody>\n",
       "    <tr>\n",
       "      <th>Asia</th>\n",
       "      <td>5110.0</td>\n",
       "    </tr>\n",
       "    <tr>\n",
       "      <th>Africa</th>\n",
       "      <td>6925.0</td>\n",
       "    </tr>\n",
       "    <tr>\n",
       "      <th>Europe</th>\n",
       "      <td>1161352.0</td>\n",
       "    </tr>\n",
       "    <tr>\n",
       "      <th>North America</th>\n",
       "      <td>752823.0</td>\n",
       "    </tr>\n",
       "    <tr>\n",
       "      <th>South America</th>\n",
       "      <td>128285.0</td>\n",
       "    </tr>\n",
       "    <tr>\n",
       "      <th>Australia/Oceania</th>\n",
       "      <td>3011.0</td>\n",
       "    </tr>\n",
       "  </tbody>\n",
       "</table>\n",
       "</div>"
      ],
      "text/plain": [
       "                   Total Affected\n",
       "Continent                        \n",
       "Asia                       5110.0\n",
       "Africa                     6925.0\n",
       "Europe                  1161352.0\n",
       "North America            752823.0\n",
       "South America            128285.0\n",
       "Australia/Oceania          3011.0"
      ]
     },
     "metadata": {},
     "output_type": "display_data"
    },
    {
     "data": {
      "text/plain": [
       "Total Affected    342917.666667\n",
       "dtype: float64"
      ]
     },
     "metadata": {},
     "output_type": "display_data"
    },
    {
     "data": {
      "text/plain": [
       "Total Affected    342917.666667\n",
       "dtype: float64"
      ]
     },
     "metadata": {},
     "output_type": "display_data"
    }
   ],
   "source": [
    "## Average Individuals affected per Continent\n",
    "\n",
    "condition = df_global['Disaster Type'] == 'Wildfire'\n",
    "year_condition = (df_global['Year'] >= 2003) & (df_global['Year'] <= 2008)\n",
    "condition = condition & year_condition\n",
    "df_group = df_global[condition].groupby(['Year', 'Continent']).sum()\n",
    "\n",
    "feature_condition = ['Total Affected']\n",
    "display(df_group[feature_condition].groupby(['Year']).sum())\n",
    "\n",
    "new_index = ['Asia', 'Africa', 'Europe', 'North America', 'South America', 'Australia/Oceania']\n",
    "display(df_group[feature_condition].groupby(['Continent']).sum().reindex(new_index))\n",
    "\n",
    "display((df_group[feature_condition].groupby(['Year']).sum()).mean())\n",
    "display((df_group[feature_condition].groupby(['Continent']).sum()).mean())"
   ]
  },
  {
   "cell_type": "code",
   "execution_count": 14,
   "id": "013536a0-9bde-41d4-bb40-8c2323780adb",
   "metadata": {},
   "outputs": [
    {
     "data": {
      "text/html": [
       "<div>\n",
       "<style scoped>\n",
       "    .dataframe tbody tr th:only-of-type {\n",
       "        vertical-align: middle;\n",
       "    }\n",
       "\n",
       "    .dataframe tbody tr th {\n",
       "        vertical-align: top;\n",
       "    }\n",
       "\n",
       "    .dataframe thead th {\n",
       "        text-align: right;\n",
       "    }\n",
       "</style>\n",
       "<table border=\"1\" class=\"dataframe\">\n",
       "  <thead>\n",
       "    <tr style=\"text-align: right;\">\n",
       "      <th></th>\n",
       "      <th>Total Damages ('000 US$)</th>\n",
       "    </tr>\n",
       "    <tr>\n",
       "      <th>Year</th>\n",
       "      <th></th>\n",
       "    </tr>\n",
       "  </thead>\n",
       "  <tbody>\n",
       "    <tr>\n",
       "      <th>2003</th>\n",
       "      <td>6095000.0</td>\n",
       "    </tr>\n",
       "    <tr>\n",
       "      <th>2004</th>\n",
       "      <td>3000.0</td>\n",
       "    </tr>\n",
       "    <tr>\n",
       "      <th>2005</th>\n",
       "      <td>3850000.0</td>\n",
       "    </tr>\n",
       "    <tr>\n",
       "      <th>2006</th>\n",
       "      <td>839000.0</td>\n",
       "    </tr>\n",
       "    <tr>\n",
       "      <th>2007</th>\n",
       "      <td>4597454.0</td>\n",
       "    </tr>\n",
       "    <tr>\n",
       "      <th>2008</th>\n",
       "      <td>2532000.0</td>\n",
       "    </tr>\n",
       "  </tbody>\n",
       "</table>\n",
       "</div>"
      ],
      "text/plain": [
       "      Total Damages ('000 US$)\n",
       "Year                          \n",
       "2003                 6095000.0\n",
       "2004                    3000.0\n",
       "2005                 3850000.0\n",
       "2006                  839000.0\n",
       "2007                 4597454.0\n",
       "2008                 2532000.0"
      ]
     },
     "metadata": {},
     "output_type": "display_data"
    },
    {
     "data": {
      "text/html": [
       "<div>\n",
       "<style scoped>\n",
       "    .dataframe tbody tr th:only-of-type {\n",
       "        vertical-align: middle;\n",
       "    }\n",
       "\n",
       "    .dataframe tbody tr th {\n",
       "        vertical-align: top;\n",
       "    }\n",
       "\n",
       "    .dataframe thead th {\n",
       "        text-align: right;\n",
       "    }\n",
       "</style>\n",
       "<table border=\"1\" class=\"dataframe\">\n",
       "  <thead>\n",
       "    <tr style=\"text-align: right;\">\n",
       "      <th></th>\n",
       "      <th>Total Damages ('000 US$)</th>\n",
       "    </tr>\n",
       "    <tr>\n",
       "      <th>Continent</th>\n",
       "      <th></th>\n",
       "    </tr>\n",
       "  </thead>\n",
       "  <tbody>\n",
       "    <tr>\n",
       "      <th>Asia</th>\n",
       "      <td>14000.0</td>\n",
       "    </tr>\n",
       "    <tr>\n",
       "      <th>Africa</th>\n",
       "      <td>430000.0</td>\n",
       "    </tr>\n",
       "    <tr>\n",
       "      <th>Europe</th>\n",
       "      <td>7874454.0</td>\n",
       "    </tr>\n",
       "    <tr>\n",
       "      <th>North America</th>\n",
       "      <td>9128000.0</td>\n",
       "    </tr>\n",
       "    <tr>\n",
       "      <th>South America</th>\n",
       "      <td>30000.0</td>\n",
       "    </tr>\n",
       "    <tr>\n",
       "      <th>Australia/Oceania</th>\n",
       "      <td>440000.0</td>\n",
       "    </tr>\n",
       "  </tbody>\n",
       "</table>\n",
       "</div>"
      ],
      "text/plain": [
       "                   Total Damages ('000 US$)\n",
       "Continent                                  \n",
       "Asia                                14000.0\n",
       "Africa                             430000.0\n",
       "Europe                            7874454.0\n",
       "North America                     9128000.0\n",
       "South America                       30000.0\n",
       "Australia/Oceania                  440000.0"
      ]
     },
     "metadata": {},
     "output_type": "display_data"
    },
    {
     "data": {
      "text/plain": [
       "Total Damages ('000 US$)    2.986076e+06\n",
       "dtype: float64"
      ]
     },
     "metadata": {},
     "output_type": "display_data"
    },
    {
     "data": {
      "text/plain": [
       "Total Damages ('000 US$)    2.986076e+06\n",
       "dtype: float64"
      ]
     },
     "metadata": {},
     "output_type": "display_data"
    }
   ],
   "source": [
    "## Average Damage per Continent\n",
    "\n",
    "condition = df_global['Disaster Type'] == 'Wildfire'\n",
    "year_condition = (df_global['Year'] >= 2003) & (df_global['Year'] <= 2008)\n",
    "condition = condition & year_condition\n",
    "df_group = df_global[condition].groupby(['Year', 'Continent']).sum()\n",
    "\n",
    "feature_condition = ['Total Damages (\\'000 US$)']\n",
    "#feature_condition = ['Total Damages, Adjusted (\\'000 US$)']\n",
    "display(df_group[feature_condition].groupby(['Year']).sum())\n",
    "\n",
    "new_index = ['Asia', 'Africa', 'Europe', 'North America', 'South America', 'Australia/Oceania']\n",
    "display(df_group[feature_condition].groupby(['Continent']).sum().reindex(new_index))\n",
    "\n",
    "display((df_group[feature_condition].groupby(['Year']).sum()).mean())\n",
    "display((df_group[feature_condition].groupby(['Continent']).sum()).mean())"
   ]
  },
  {
   "cell_type": "markdown",
   "id": "a76c2d9e-2e09-4266-bb3b-53285385f61d",
   "metadata": {},
   "source": [
    "---"
   ]
  }
 ],
 "metadata": {
  "kernelspec": {
   "display_name": "Python 3 (ipykernel)",
   "language": "python",
   "name": "python3"
  },
  "language_info": {
   "codemirror_mode": {
    "name": "ipython",
    "version": 3
   },
   "file_extension": ".py",
   "mimetype": "text/x-python",
   "name": "python",
   "nbconvert_exporter": "python",
   "pygments_lexer": "ipython3",
   "version": "3.9.17"
  }
 },
 "nbformat": 4,
 "nbformat_minor": 5
}
